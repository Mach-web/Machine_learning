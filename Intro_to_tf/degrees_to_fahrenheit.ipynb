{
 "cells": [
  {
   "cell_type": "markdown",
   "id": "a104ae23",
   "metadata": {},
   "source": [
    "### Import Dependencies"
   ]
  },
  {
   "cell_type": "code",
   "execution_count": 2,
   "id": "65ca2776",
   "metadata": {},
   "outputs": [],
   "source": [
    "import tensorflow as tf\n",
    "\n",
    "# tf.logging.set_verbosity(tf.logging.ERROR)\n",
    "import numpy as np"
   ]
  },
  {
   "cell_type": "markdown",
   "id": "611024fe",
   "metadata": {},
   "source": [
    "### Data"
   ]
  },
  {
   "cell_type": "code",
   "execution_count": 4,
   "id": "d433f04d",
   "metadata": {},
   "outputs": [],
   "source": [
    "degrees = np.array([-40, -10, 0, 8, 15, 22, 38], dtype = float)\n",
    "fahrenheit = np.array([-40, 14, 32, 46, 59, 72, 100], dtype = float)"
   ]
  },
  {
   "cell_type": "markdown",
   "id": "eeca0f9e",
   "metadata": {},
   "source": [
    "### Build model"
   ]
  },
  {
   "cell_type": "code",
   "execution_count": 6,
   "id": "b2c151d5",
   "metadata": {},
   "outputs": [
    {
     "ename": "NameError",
     "evalue": "name 'mpdel' is not defined",
     "output_type": "error",
     "traceback": [
      "\u001b[0;31m---------------------------------------------------------------------------\u001b[0m",
      "\u001b[0;31mNameError\u001b[0m                                 Traceback (most recent call last)",
      "Cell \u001b[0;32mIn[6], line 6\u001b[0m\n\u001b[1;32m      2\u001b[0m model \u001b[38;5;241m=\u001b[39m tf\u001b[38;5;241m.\u001b[39mkeras\u001b[38;5;241m.\u001b[39mSequential([\n\u001b[1;32m      3\u001b[0m     tf\u001b[38;5;241m.\u001b[39mkeras\u001b[38;5;241m.\u001b[39mlayers\u001b[38;5;241m.\u001b[39mDense(units \u001b[38;5;241m=\u001b[39m \u001b[38;5;241m1\u001b[39m, input_shape \u001b[38;5;241m=\u001b[39m [\u001b[38;5;241m1\u001b[39m])\n\u001b[1;32m      4\u001b[0m ])\n\u001b[1;32m      5\u001b[0m \u001b[38;5;66;03m# define loss and optimizers\u001b[39;00m\n\u001b[0;32m----> 6\u001b[0m \u001b[43mmpdel\u001b[49m\n",
      "\u001b[0;31mNameError\u001b[0m: name 'mpdel' is not defined"
     ]
    }
   ],
   "source": [
    "# Create a layer\n",
    "model = tf.keras.Sequential([\n",
    "    tf.keras.layers.Dense(units = 1, input_shape = [1])\n",
    "])\n",
    "# define loss and optimizers\n",
    "model.compile(loss = 'mean_squared_error', optimizer=tf.keras.optimizers.adam(learning_rate))"
   ]
  },
  {
   "cell_type": "markdown",
   "id": "80f02df8",
   "metadata": {},
   "source": []
  }
 ],
 "metadata": {
  "kernelspec": {
   "display_name": "My Virtual Environment",
   "language": "python",
   "name": "myenv"
  },
  "language_info": {
   "codemirror_mode": {
    "name": "ipython",
    "version": 3
   },
   "file_extension": ".py",
   "mimetype": "text/x-python",
   "name": "python",
   "nbconvert_exporter": "python",
   "pygments_lexer": "ipython3",
   "version": "3.11.4"
  }
 },
 "nbformat": 4,
 "nbformat_minor": 5
}

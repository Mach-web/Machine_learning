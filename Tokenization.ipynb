{
 "cells": [
  {
   "cell_type": "markdown",
   "id": "dce65a3d",
   "metadata": {},
   "source": [
    "### Tokenization"
   ]
  },
  {
   "cell_type": "code",
   "execution_count": 27,
   "id": "3770c3ff",
   "metadata": {},
   "outputs": [],
   "source": [
    "import tensorflow as tf\n",
    "from tensorflow import keras\n",
    "from tensorflow.keras.preprocessing.text import Tokenizer\n",
    "from tensorflow.keras.preprocessing.sequence import pad_sequences"
   ]
  },
  {
   "cell_type": "code",
   "execution_count": 28,
   "id": "600df5ab",
   "metadata": {},
   "outputs": [],
   "source": [
    "sentences = [\n",
    "    'I love my dog.',\n",
    "    'I love my cat.',\n",
    "    'You love my dog!',\n",
    "    'Do you think my dog is amazing?'\n",
    "]"
   ]
  },
  {
   "cell_type": "markdown",
   "id": "cce19599",
   "metadata": {},
   "source": [
    "#### Indexing words "
   ]
  },
  {
   "cell_type": "code",
   "execution_count": 33,
   "id": "a052f299",
   "metadata": {},
   "outputs": [
    {
     "name": "stdout",
     "output_type": "stream",
     "text": [
      "{'<OOV>': 1, 'my': 2, 'love': 3, 'dog': 4, 'i': 5, 'you': 6, 'cat': 7, 'do': 8, 'think': 9, 'is': 10, 'amazing': 11}\n"
     ]
    }
   ],
   "source": [
    "tokenizer = Tokenizer(num_words = 100, oov_token='<OOV>')\n",
    "tokenizer.fit_on_texts(sentences)\n",
    "word_index = tokenizer.word_index\n",
    "print(word_index)"
   ]
  },
  {
   "cell_type": "markdown",
   "id": "bcffe014",
   "metadata": {},
   "source": [
    "#### Using the dictionary to form sequence"
   ]
  },
  {
   "cell_type": "code",
   "execution_count": 34,
   "id": "b3505bfd",
   "metadata": {},
   "outputs": [
    {
     "name": "stdout",
     "output_type": "stream",
     "text": [
      "[[5, 3, 2, 4], [5, 3, 2, 7], [6, 3, 2, 4], [8, 6, 9, 2, 4, 10, 11]]\n"
     ]
    }
   ],
   "source": [
    "sequence = tokenizer.texts_to_sequences(sentences)\n",
    "print(sequence)"
   ]
  },
  {
   "cell_type": "markdown",
   "id": "93f8b52d",
   "metadata": {},
   "source": [
    "#### OOV words that are not present in tokenizer"
   ]
  },
  {
   "cell_type": "code",
   "execution_count": 37,
   "id": "51cbfb40",
   "metadata": {},
   "outputs": [
    {
     "name": "stdout",
     "output_type": "stream",
     "text": [
      "[[5, 1, 3, 2, 4], [2, 4, 1, 2, 1]]\n"
     ]
    }
   ],
   "source": [
    "test_data = [\n",
    "    'I really love my dog',\n",
    "    'my dog loves my manatee'\n",
    "]\n",
    "test_seq = tokenizer.texts_to_sequences(test_data)\n",
    "print(test_seq)"
   ]
  },
  {
   "cell_type": "markdown",
   "id": "9a282bbd",
   "metadata": {},
   "source": [
    "#### Padding to ensure length is same"
   ]
  },
  {
   "cell_type": "code",
   "execution_count": 40,
   "id": "dc45d0ed",
   "metadata": {},
   "outputs": [
    {
     "name": "stdout",
     "output_type": "stream",
     "text": [
      "[[ 5  3  2  4  0  0  0]\n",
      " [ 5  3  2  7  0  0  0]\n",
      " [ 6  3  2  4  0  0  0]\n",
      " [ 8  6  9  2  4 10 11]]\n",
      "[[5 1 3 2 4]\n",
      " [2 4 1 2 1]]\n"
     ]
    }
   ],
   "source": [
    "pad = pad_sequences(sequence, padding = 'post')\n",
    "# padding - specify where to place the zeros, either at beginning or end\n",
    "print(pad)\n",
    "test_pad = pad_sequences(test_seq)\n",
    "print(test_pad)"
   ]
  },
  {
   "cell_type": "code",
   "execution_count": null,
   "id": "b46d1323",
   "metadata": {},
   "outputs": [],
   "source": []
  }
 ],
 "metadata": {
  "kernelspec": {
   "display_name": "My Virtual Environment",
   "language": "python",
   "name": "myenv"
  },
  "language_info": {
   "codemirror_mode": {
    "name": "ipython",
    "version": 3
   },
   "file_extension": ".py",
   "mimetype": "text/x-python",
   "name": "python",
   "nbconvert_exporter": "python",
   "pygments_lexer": "ipython3",
   "version": "3.11.4"
  }
 },
 "nbformat": 4,
 "nbformat_minor": 5
}

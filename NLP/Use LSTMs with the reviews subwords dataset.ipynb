{
 "cells": [
  {
   "cell_type": "markdown",
   "id": "cfb3363e",
   "metadata": {},
   "source": [
    "### SetUp"
   ]
  },
  {
   "cell_type": "code",
   "execution_count": 44,
   "id": "b0163e98",
   "metadata": {},
   "outputs": [],
   "source": [
    "import tensorflow as tf\n",
    "import tensorflow_datasets as tfds\n",
    "import numpy as np\n",
    "import pandas as pd\n",
    "import matplotlib.pyplot as plt\n",
    "import os\n",
    "\n",
    "from tensorflow.keras.preprocessing.sequence import pad_sequences\n",
    "keras = tf.keras"
   ]
  },
  {
   "cell_type": "markdown",
   "id": "7eb42e34",
   "metadata": {},
   "source": [
    "### Get the dataset"
   ]
  },
  {
   "cell_type": "code",
   "execution_count": 33,
   "id": "486af968",
   "metadata": {},
   "outputs": [
    {
     "data": {
      "text/plain": [
       "1992"
      ]
     },
     "execution_count": 33,
     "metadata": {},
     "output_type": "execute_result"
    }
   ],
   "source": [
    "data_path = '/home/login/Documents/Machine_learning/Datasets/reviews/reviews.csv'\n",
    "dataset = pd.read_csv(data_path, index_col = \"Unnamed: 0\")\n",
    "\n",
    "sentences = dataset['text'].tolist()\n",
    "labels = dataset['sentiment'].tolist()\n",
    "len(sentences)"
   ]
  },
  {
   "cell_type": "markdown",
   "id": "c9bd53b0",
   "metadata": {},
   "source": [
    "### Create a subwords Dataset"
   ]
  },
  {
   "cell_type": "code",
   "execution_count": 34,
   "id": "af8574d5",
   "metadata": {},
   "outputs": [
    {
     "name": "stdout",
     "output_type": "stream",
     "text": [
      "Vocab size is  999\n"
     ]
    }
   ],
   "source": [
    "vocab_size = 1000\n",
    "tokenizer = tfds.deprecated.text.SubwordTextEncoder.build_from_corpus(\n",
    "    sentences, vocab_size, max_subword_length = 5\n",
    ")\n",
    "print(\"Vocab size is \", tokenizer.vocab_size)"
   ]
  },
  {
   "cell_type": "code",
   "execution_count": 35,
   "id": "30df6c6c",
   "metadata": {},
   "outputs": [
    {
     "name": "stdout",
     "output_type": "stream",
     "text": [
      "I have to jiggle the plug to get it to line up right to get decent volume.\n",
      "[4, 31, 6, 849, 162, 450, 12, 1, 600, 438, 775, 6, 175, 14, 6, 55, 213, 159, 474, 775, 6, 175, 614, 380, 295, 148, 72, 789]\n",
      "I \n",
      "have \n",
      "to \n",
      "j\n",
      "ig\n",
      "gl\n",
      "e \n",
      "the \n",
      "pl\n",
      "ug\n",
      " \n",
      "to \n",
      "get \n",
      "it \n",
      "to \n",
      "li\n",
      "ne \n",
      "up \n",
      "right\n",
      " \n",
      "to \n",
      "get \n",
      "dec\n",
      "ent \n",
      "vo\n",
      "lu\n",
      "me\n",
      ".\n"
     ]
    }
   ],
   "source": [
    "# check tokenizer works properly\n",
    "num = 5\n",
    "print(sentences[num])\n",
    "\n",
    "encoded = tokenizer.encode(sentences[num])\n",
    "print(encoded)\n",
    "\n",
    "for _ in encoded:\n",
    "    print(tokenizer.decode([_]))"
   ]
  },
  {
   "cell_type": "markdown",
   "id": "e51e8956",
   "metadata": {},
   "source": [
    "### Replace sentence data with encoded subwords"
   ]
  },
  {
   "cell_type": "code",
   "execution_count": 36,
   "id": "6bbca3bb",
   "metadata": {},
   "outputs": [],
   "source": [
    "for i, sentence in enumerate(sentences):\n",
    "    sentences[i] = tokenizer.encode(sentence)"
   ]
  },
  {
   "cell_type": "code",
   "execution_count": 37,
   "id": "aa3d1e0a",
   "metadata": {},
   "outputs": [
    {
     "name": "stdout",
     "output_type": "stream",
     "text": [
      "[827, 187, 11, 6, 143, 63, 17, 79, 227, 594, 331, 3, 660, 26, 313, 182, 795, 415, 374, 60, 789, 820, 808, 817, 822, 825, 775, 823, 825, 822, 809, 819, 812, 820, 826, 263]\n"
     ]
    }
   ],
   "source": [
    "print(sentences[3])"
   ]
  },
  {
   "cell_type": "markdown",
   "id": "a28eca72",
   "metadata": {},
   "source": [
    "### Final Preprocessing"
   ]
  },
  {
   "cell_type": "code",
   "execution_count": 38,
   "id": "ad49f75a",
   "metadata": {},
   "outputs": [],
   "source": [
    "max_length = 50\n",
    "padding_type = \"post\"\n",
    "trunc_type = \"post\"\n",
    "\n",
    "sequences_padded = pad_sequences(sentences, maxlen = max_length,\n",
    "                                truncating = trunc_type, padding = padding_type)\n",
    "\n",
    "train_size = int(len(labels) * 0.8)\n",
    "\n",
    "train_sequences = sequences_padded[:train_size]\n",
    "test_sequences = sequences_padded[train_size:]\n",
    "train_labels = labels[:train_size]\n",
    "test_labels = labels[train_size:]\n",
    "\n",
    "train_labels_finals = np.array(train_labels)\n",
    "test_labels_finals = np.array(test_labels)"
   ]
  },
  {
   "cell_type": "markdown",
   "id": "edcfd1b0",
   "metadata": {},
   "source": [
    "### Create a model using Embedding"
   ]
  },
  {
   "cell_type": "code",
   "execution_count": 39,
   "id": "f5ebb1dc",
   "metadata": {},
   "outputs": [
    {
     "name": "stdout",
     "output_type": "stream",
     "text": [
      "Model: \"sequential\"\n",
      "_________________________________________________________________\n",
      " Layer (type)                Output Shape              Param #   \n",
      "=================================================================\n",
      " embedding (Embedding)       (None, 50, 16)            16000     \n",
      "                                                                 \n",
      " global_average_pooling1d (  (None, 16)                0         \n",
      " GlobalAveragePooling1D)                                         \n",
      "                                                                 \n",
      " dense (Dense)               (None, 6)                 102       \n",
      "                                                                 \n",
      " dense_1 (Dense)             (None, 1)                 7         \n",
      "                                                                 \n",
      "=================================================================\n",
      "Total params: 16109 (62.93 KB)\n",
      "Trainable params: 16109 (62.93 KB)\n",
      "Non-trainable params: 0 (0.00 Byte)\n",
      "_________________________________________________________________\n"
     ]
    }
   ],
   "source": [
    "embedding_dim = 16\n",
    "\n",
    "model = keras.models.Sequential([\n",
    "    keras.layers.Embedding(vocab_size, embedding_dim, input_length = max_length),\n",
    "    keras.layers.GlobalAveragePooling1D(),\n",
    "    keras.layers.Dense(6, activation = 'relu'),\n",
    "    keras.layers.Dense(1, activation = 'sigmoid')\n",
    "])\n",
    "model.summary()"
   ]
  },
  {
   "cell_type": "markdown",
   "id": "2cd5d60c",
   "metadata": {},
   "source": [
    "### Train the model"
   ]
  },
  {
   "cell_type": "code",
   "execution_count": 43,
   "id": "659d1ad5",
   "metadata": {},
   "outputs": [
    {
     "name": "stdout",
     "output_type": "stream",
     "text": [
      "Epoch 1/30\n",
      "50/50 [==============================] - 3s 8ms/step - loss: 0.6913 - accuracy: 0.5286 - val_loss: 0.6982 - val_accuracy: 0.4110\n",
      "Epoch 2/30\n",
      "50/50 [==============================] - 0s 3ms/step - loss: 0.6884 - accuracy: 0.5248 - val_loss: 0.6992 - val_accuracy: 0.4261\n",
      "Epoch 3/30\n",
      "50/50 [==============================] - 0s 3ms/step - loss: 0.6845 - accuracy: 0.5461 - val_loss: 0.6981 - val_accuracy: 0.4386\n",
      "Epoch 4/30\n",
      "50/50 [==============================] - 0s 3ms/step - loss: 0.6778 - accuracy: 0.5669 - val_loss: 0.6918 - val_accuracy: 0.4987\n",
      "Epoch 5/30\n",
      "50/50 [==============================] - 0s 4ms/step - loss: 0.6669 - accuracy: 0.6171 - val_loss: 0.6824 - val_accuracy: 0.5288\n",
      "Epoch 6/30\n",
      "50/50 [==============================] - 0s 3ms/step - loss: 0.6469 - accuracy: 0.6723 - val_loss: 0.6651 - val_accuracy: 0.5764\n",
      "Epoch 7/30\n",
      "50/50 [==============================] - 0s 3ms/step - loss: 0.6174 - accuracy: 0.7351 - val_loss: 0.6510 - val_accuracy: 0.5840\n",
      "Epoch 8/30\n",
      "50/50 [==============================] - 0s 4ms/step - loss: 0.5802 - accuracy: 0.7772 - val_loss: 0.6206 - val_accuracy: 0.6717\n",
      "Epoch 9/30\n",
      "50/50 [==============================] - 0s 2ms/step - loss: 0.5391 - accuracy: 0.8092 - val_loss: 0.5918 - val_accuracy: 0.6967\n",
      "Epoch 10/30\n",
      "50/50 [==============================] - 0s 3ms/step - loss: 0.4971 - accuracy: 0.8343 - val_loss: 0.5763 - val_accuracy: 0.6992\n",
      "Epoch 11/30\n",
      "50/50 [==============================] - 0s 2ms/step - loss: 0.4541 - accuracy: 0.8487 - val_loss: 0.5390 - val_accuracy: 0.7494\n",
      "Epoch 12/30\n",
      "50/50 [==============================] - 0s 2ms/step - loss: 0.4188 - accuracy: 0.8531 - val_loss: 0.5188 - val_accuracy: 0.7644\n",
      "Epoch 13/30\n",
      "50/50 [==============================] - 0s 3ms/step - loss: 0.3871 - accuracy: 0.8657 - val_loss: 0.5289 - val_accuracy: 0.7419\n",
      "Epoch 14/30\n",
      "50/50 [==============================] - 0s 4ms/step - loss: 0.3585 - accuracy: 0.8707 - val_loss: 0.5271 - val_accuracy: 0.7444\n",
      "Epoch 15/30\n",
      "50/50 [==============================] - 0s 3ms/step - loss: 0.3368 - accuracy: 0.8770 - val_loss: 0.4991 - val_accuracy: 0.7569\n",
      "Epoch 16/30\n",
      "50/50 [==============================] - 0s 3ms/step - loss: 0.3156 - accuracy: 0.8895 - val_loss: 0.5295 - val_accuracy: 0.7469\n",
      "Epoch 17/30\n",
      "50/50 [==============================] - 0s 5ms/step - loss: 0.2987 - accuracy: 0.8914 - val_loss: 0.5305 - val_accuracy: 0.7393\n",
      "Epoch 18/30\n",
      "50/50 [==============================] - 0s 3ms/step - loss: 0.2825 - accuracy: 0.8996 - val_loss: 0.5130 - val_accuracy: 0.7569\n",
      "Epoch 19/30\n",
      "50/50 [==============================] - 0s 2ms/step - loss: 0.2681 - accuracy: 0.9052 - val_loss: 0.5116 - val_accuracy: 0.7569\n",
      "Epoch 20/30\n",
      "50/50 [==============================] - 0s 3ms/step - loss: 0.2556 - accuracy: 0.9109 - val_loss: 0.5473 - val_accuracy: 0.7444\n",
      "Epoch 21/30\n",
      "50/50 [==============================] - 0s 3ms/step - loss: 0.2453 - accuracy: 0.9153 - val_loss: 0.5194 - val_accuracy: 0.7569\n",
      "Epoch 22/30\n",
      "50/50 [==============================] - 0s 3ms/step - loss: 0.2350 - accuracy: 0.9127 - val_loss: 0.5186 - val_accuracy: 0.7519\n",
      "Epoch 23/30\n",
      "50/50 [==============================] - 0s 3ms/step - loss: 0.2242 - accuracy: 0.9240 - val_loss: 0.5416 - val_accuracy: 0.7494\n",
      "Epoch 24/30\n",
      "50/50 [==============================] - 0s 4ms/step - loss: 0.2180 - accuracy: 0.9222 - val_loss: 0.5240 - val_accuracy: 0.7594\n",
      "Epoch 25/30\n",
      "50/50 [==============================] - 0s 3ms/step - loss: 0.2073 - accuracy: 0.9328 - val_loss: 0.5499 - val_accuracy: 0.7494\n",
      "Epoch 26/30\n",
      "50/50 [==============================] - 0s 3ms/step - loss: 0.1998 - accuracy: 0.9309 - val_loss: 0.5469 - val_accuracy: 0.7444\n",
      "Epoch 27/30\n",
      "50/50 [==============================] - 0s 3ms/step - loss: 0.1925 - accuracy: 0.9410 - val_loss: 0.5514 - val_accuracy: 0.7494\n",
      "Epoch 28/30\n",
      "50/50 [==============================] - 0s 3ms/step - loss: 0.1847 - accuracy: 0.9473 - val_loss: 0.5787 - val_accuracy: 0.7419\n",
      "Epoch 29/30\n",
      "50/50 [==============================] - 0s 3ms/step - loss: 0.1790 - accuracy: 0.9485 - val_loss: 0.5726 - val_accuracy: 0.7519\n",
      "Epoch 30/30\n",
      "50/50 [==============================] - 0s 3ms/step - loss: 0.1746 - accuracy: 0.9454 - val_loss: 0.5996 - val_accuracy: 0.7469\n"
     ]
    }
   ],
   "source": [
    "EPOCHS = 30\n",
    "\n",
    "model.compile(loss = keras.losses.BinaryCrossentropy(),\n",
    "             optimizer = keras.optimizers.Adam(),\n",
    "             metrics = ['accuracy'])\n",
    "\n",
    "history = model.fit(train_sequences, train_labels_finals,\n",
    "                   epochs = EPOCHS,\n",
    "                   validation_data = (test_sequences, test_labels_finals))"
   ]
  },
  {
   "cell_type": "markdown",
   "id": "5b593714",
   "metadata": {},
   "source": [
    "### Plot the accuracy and loss"
   ]
  },
  {
   "cell_type": "code",
   "execution_count": null,
   "id": "2256de96",
   "metadata": {},
   "outputs": [],
   "source": [
    "def plot_graphs"
   ]
  }
 ],
 "metadata": {
  "kernelspec": {
   "display_name": "My Virtual Environment",
   "language": "python",
   "name": "myenv"
  },
  "language_info": {
   "codemirror_mode": {
    "name": "ipython",
    "version": 3
   },
   "file_extension": ".py",
   "mimetype": "text/x-python",
   "name": "python",
   "nbconvert_exporter": "python",
   "pygments_lexer": "ipython3",
   "version": "3.11.4"
  }
 },
 "nbformat": 4,
 "nbformat_minor": 5
}

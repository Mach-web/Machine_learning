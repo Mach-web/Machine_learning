{
 "cells": [
  {
   "cell_type": "markdown",
   "id": "79eb93a1",
   "metadata": {},
   "source": [
    "### Setup"
   ]
  },
  {
   "cell_type": "code",
   "execution_count": 4,
   "id": "e4ee88ac",
   "metadata": {},
   "outputs": [],
   "source": [
    "import tensorflow as tf\n",
    "import matplotlib.pyplot as plt\n",
    "import pandas as pd\n",
    "import numpy as np\n",
    "import string\n",
    "import os\n",
    "\n",
    "from tensorflow.keras.preprocessing.sequence import pad_sequences\n",
    "from tensorflow.keras.preprocessing.text import Tokenizer\n",
    "from tensorflow.keras.models import Sequential\n",
    "from tensorflow.keras.layers import Embedding, LSTM, Dense, Bidirectional"
   ]
  },
  {
   "cell_type": "markdown",
   "id": "58ad2b60",
   "metadata": {},
   "source": [
    "### Get the dataset"
   ]
  },
  {
   "cell_type": "code",
   "execution_count": 28,
   "id": "d8539cdc",
   "metadata": {},
   "outputs": [
    {
     "name": "stdout",
     "output_type": "stream",
     "text": [
      "<class 'pandas.core.frame.DataFrame'>\n",
      "RangeIndex: 250 entries, 0 to 249\n",
      "Data columns (total 4 columns):\n",
      " #   Column  Non-Null Count  Dtype \n",
      "---  ------  --------------  ----- \n",
      " 0   artist  250 non-null    object\n",
      " 1   song    250 non-null    object\n",
      " 2   link    250 non-null    object\n",
      " 3   text    250 non-null    object\n",
      "dtypes: object(4)\n",
      "memory usage: 7.9+ KB\n"
     ]
    }
   ],
   "source": [
    "songdata = pd.read_csv(\"/home/login/Documents/songdata.csv\", dtype = str)[:250]\n",
    "songdata.info()"
   ]
  },
  {
   "cell_type": "markdown",
   "id": "182e527c",
   "metadata": {},
   "source": [
    "### 250 songs\n",
    "\n",
    "\n",
    "### Preprocessing"
   ]
  },
  {
   "cell_type": "code",
   "execution_count": 29,
   "id": "406b884b",
   "metadata": {},
   "outputs": [],
   "source": [
    "def tokenize_corpus(corpus, num_words = -1):\n",
    "    if num_words > -1:\n",
    "        tokenizer = Tokenizer(num_words = num_words)\n",
    "    else:\n",
    "        tokenizer = Tokenizer()\n",
    "    tokenizer.fit_on_texts(corpus)\n",
    "    return tokenizer\n",
    "\n",
    "def create_lyrics_corpus(dataset, field):\n",
    "    dataset[field] = dataset[field].str.replace(\"[{}]\".format(string.punctuation), \"\")\n",
    "    dataset[field] = dataset[field].str.lower()\n",
    "    lyrics = dataset[field].str.cat()\n",
    "    corpus = lyrics.split(\"\\n\")\n",
    "    \n",
    "    for _ in range(len(corpus)):\n",
    "        corpus[_] = corpus[_].rstrip()\n",
    "        \n",
    "    corpus = [_ for _ in corpus if _ != \"\"]\n",
    "    return corpus"
   ]
  },
  {
   "cell_type": "code",
   "execution_count": 30,
   "id": "2d0362d1",
   "metadata": {},
   "outputs": [
    {
     "name": "stdout",
     "output_type": "stream",
     "text": [
      "4151\n"
     ]
    }
   ],
   "source": [
    "corpus = create_lyrics_corpus(songdata, \"text\")\n",
    "tokenizer = tokenize_corpus(corpus)\n",
    "\n",
    "total_words = len(tokenizer.word_index) + 1\n",
    "print(total_words)"
   ]
  },
  {
   "cell_type": "markdown",
   "id": "1ea10e19",
   "metadata": {},
   "source": [
    "### Create sequences"
   ]
  },
  {
   "cell_type": "code",
   "execution_count": 62,
   "id": "0234d9f8",
   "metadata": {},
   "outputs": [
    {
     "name": "stdout",
     "output_type": "stream",
     "text": [
      "20\n",
      "[  0   0   0   0   0   0   0   0   0   0   0   0   0   0   0   0   0   0\n",
      " 112  65]\n"
     ]
    }
   ],
   "source": [
    "sequences = []\n",
    "i = 0\n",
    "for line in corpus:\n",
    "    tok_line = tokenizer.texts_to_sequences([line])[0]\n",
    "    for _ in range(1, len(tok_line)):\n",
    "        line_sequences = tok_line[:_+1]\n",
    "        sequences.append(line_sequences)\n",
    "        \n",
    "maxLength = max([len(_) for _ in sequences])\n",
    "padded_sequences = pad_sequences(sequences, maxlen = maxLength, padding = \"pre\")\n",
    "print(maxLength)\n",
    "print(padded_sequences[0, :])"
   ]
  },
  {
   "cell_type": "markdown",
   "id": "a9aa99fb",
   "metadata": {},
   "source": [
    "### Create labels"
   ]
  },
  {
   "cell_type": "code",
   "execution_count": 72,
   "id": "f41c0f32",
   "metadata": {},
   "outputs": [
    {
     "name": "stdout",
     "output_type": "stream",
     "text": [
      "[  0   0   0   0   0   0   0   0   0   0   0   0   0   0   0   0   0   0\n",
      " 112]\n",
      "65\n",
      "[0. 0. 0. ... 0. 0. 0.]\n",
      "[0. 0. 0. ... 0. 0. 0.]\n"
     ]
    }
   ],
   "source": [
    "inputs, labels = padded_sequences[:, :-1], padded_sequences[:, -1]\n",
    "one_hot_labels = tf.keras.utils.to_categorical(labels, num_classes = total_words)\n",
    "print(inputs[0])\n",
    "print(labels[0])\n",
    "print(one_hot_labels[0])\n",
    "print(one_hot_labels[1])"
   ]
  },
  {
   "cell_type": "markdown",
   "id": "cc85a525",
   "metadata": {},
   "source": [
    "### Train a Better Text Generation Model"
   ]
  },
  {
   "cell_type": "code",
   "execution_count": 73,
   "id": "ec7e1b49",
   "metadata": {},
   "outputs": [
    {
     "ename": "AttributeError",
     "evalue": "module 'keras.api._v2.keras.losses' has no attribute 'CategoricalCrossEntropy'",
     "output_type": "error",
     "traceback": [
      "\u001b[0;31m---------------------------------------------------------------------------\u001b[0m",
      "\u001b[0;31mAttributeError\u001b[0m                            Traceback (most recent call last)",
      "Cell \u001b[0;32mIn[73], line 7\u001b[0m\n\u001b[1;32m      1\u001b[0m embedding_dim \u001b[38;5;241m=\u001b[39m \u001b[38;5;241m64\u001b[39m\n\u001b[1;32m      2\u001b[0m model \u001b[38;5;241m=\u001b[39m Sequential([\n\u001b[1;32m      3\u001b[0m     Embedding(total_words, embedding_dim, input_length \u001b[38;5;241m=\u001b[39m maxLength \u001b[38;5;241m-\u001b[39m \u001b[38;5;241m1\u001b[39m),\n\u001b[1;32m      4\u001b[0m     Bidirectional(LSTM(\u001b[38;5;241m20\u001b[39m)),\n\u001b[1;32m      5\u001b[0m     Dense(total_words, activation \u001b[38;5;241m=\u001b[39m \u001b[38;5;124m\"\u001b[39m\u001b[38;5;124msoftmax\u001b[39m\u001b[38;5;124m\"\u001b[39m)\n\u001b[1;32m      6\u001b[0m ])\n\u001b[0;32m----> 7\u001b[0m model\u001b[38;5;241m.\u001b[39mcompile(loss \u001b[38;5;241m=\u001b[39m \u001b[43mtf\u001b[49m\u001b[38;5;241;43m.\u001b[39;49m\u001b[43mkeras\u001b[49m\u001b[38;5;241;43m.\u001b[39;49m\u001b[43mlosses\u001b[49m\u001b[38;5;241;43m.\u001b[39;49m\u001b[43mCategoricalCrossEntropy\u001b[49m(),\n\u001b[1;32m      8\u001b[0m              optimizer \u001b[38;5;241m=\u001b[39m tf\u001b[38;5;241m.\u001b[39mkeras\u001b[38;5;241m.\u001b[39moptimizers\u001b[38;5;241m.\u001b[39mAdam(),\n\u001b[1;32m      9\u001b[0m              metrics \u001b[38;5;241m=\u001b[39m [\u001b[38;5;124m'\u001b[39m\u001b[38;5;124maccuracy\u001b[39m\u001b[38;5;124m'\u001b[39m])\n",
      "\u001b[0;31mAttributeError\u001b[0m: module 'keras.api._v2.keras.losses' has no attribute 'CategoricalCrossEntropy'"
     ]
    }
   ],
   "source": [
    "embedding_dim = 64\n",
    "model = Sequential([\n",
    "    Embedding(total_words, embedding_dim, input_length = maxLength - 1),\n",
    "    Bidirectional(LSTM(20)),\n",
    "    Dense(total_words, activation = \"softmax\")\n",
    "])\n",
    "model.compile(loss = tf.keras.losses.CategoricalCrossEntropy(),\n",
    "             optimizer = tf.keras.optimizers.Adam(),\n",
    "             metrics = ['accuracy'])\n",
    "model."
   ]
  },
  {
   "cell_type": "code",
   "execution_count": null,
   "id": "eb9858fa",
   "metadata": {},
   "outputs": [],
   "source": []
  }
 ],
 "metadata": {
  "kernelspec": {
   "display_name": "My Virtual Environment",
   "language": "python",
   "name": "myenv"
  },
  "language_info": {
   "codemirror_mode": {
    "name": "ipython",
    "version": 3
   },
   "file_extension": ".py",
   "mimetype": "text/x-python",
   "name": "python",
   "nbconvert_exporter": "python",
   "pygments_lexer": "ipython3",
   "version": "3.11.4"
  }
 },
 "nbformat": 4,
 "nbformat_minor": 5
}

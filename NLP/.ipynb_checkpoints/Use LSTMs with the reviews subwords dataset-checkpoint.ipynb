{
 "cells": [
  {
   "cell_type": "markdown",
   "id": "3ac5c2f1",
   "metadata": {},
   "source": [
    "### SetUp"
   ]
  },
  {
   "cell_type": "code",
   "execution_count": 1,
   "id": "dba6ba2f",
   "metadata": {},
   "outputs": [
    {
     "name": "stderr",
     "output_type": "stream",
     "text": [
      "2024-03-14 21:31:59.831589: I tensorflow/tsl/cuda/cudart_stub.cc:28] Could not find cuda drivers on your machine, GPU will not be used.\n",
      "2024-03-14 21:32:03.855570: I tensorflow/tsl/cuda/cudart_stub.cc:28] Could not find cuda drivers on your machine, GPU will not be used.\n",
      "2024-03-14 21:32:03.866327: I tensorflow/core/platform/cpu_feature_guard.cc:182] This TensorFlow binary is optimized to use available CPU instructions in performance-critical operations.\n",
      "To enable the following instructions: AVX2 FMA, in other operations, rebuild TensorFlow with the appropriate compiler flags.\n",
      "2024-03-14 21:32:17.799172: W tensorflow/compiler/tf2tensorrt/utils/py_utils.cc:38] TF-TRT Warning: Could not find TensorRT\n"
     ]
    }
   ],
   "source": [
    "import tensorflow as tf\n",
    "import tensorflow_datasets as tfds\n",
    "import numpy as np\n",
    "import pandas as pd\n",
    "import matplotlib.pyplot as plt\n",
    "import os\n",
    "\n",
    "from tensorflow.keras.preprocessing.sequence import pad_sequences\n",
    "keras = tf.keras"
   ]
  },
  {
   "cell_type": "markdown",
   "id": "39030a6d",
   "metadata": {},
   "source": [
    "### Get the dataset"
   ]
  },
  {
   "cell_type": "code",
   "execution_count": 2,
   "id": "a39b5a18",
   "metadata": {},
   "outputs": [
    {
     "data": {
      "text/plain": [
       "1992"
      ]
     },
     "execution_count": 2,
     "metadata": {},
     "output_type": "execute_result"
    }
   ],
   "source": [
    "data_path = '/home/login/Documents/Machine_learning/Datasets/reviews/reviews.csv'\n",
    "dataset = pd.read_csv(data_path, index_col = \"Unnamed: 0\")\n",
    "\n",
    "sentences = dataset['text'].tolist()\n",
    "labels = dataset['sentiment'].tolist()\n",
    "len(sentences)"
   ]
  },
  {
   "cell_type": "markdown",
   "id": "a714e910",
   "metadata": {},
   "source": [
    "### Create a subwords Dataset"
   ]
  },
  {
   "cell_type": "code",
   "execution_count": 3,
   "id": "829b6037",
   "metadata": {},
   "outputs": [
    {
     "name": "stdout",
     "output_type": "stream",
     "text": [
      "Vocab size is  999\n"
     ]
    }
   ],
   "source": [
    "vocab_size = 1000\n",
    "tokenizer = tfds.deprecated.text.SubwordTextEncoder.build_from_corpus(\n",
    "    sentences, vocab_size, max_subword_length = 5\n",
    ")\n",
    "print(\"Vocab size is \", tokenizer.vocab_size)"
   ]
  },
  {
   "cell_type": "code",
   "execution_count": 4,
   "id": "755061de",
   "metadata": {},
   "outputs": [
    {
     "name": "stdout",
     "output_type": "stream",
     "text": [
      "I have to jiggle the plug to get it to line up right to get decent volume.\n",
      "[4, 31, 6, 849, 162, 450, 12, 1, 600, 438, 775, 6, 175, 14, 6, 55, 213, 159, 474, 775, 6, 175, 614, 380, 295, 148, 72, 789]\n",
      "I \n",
      "have \n",
      "to \n",
      "j\n",
      "ig\n",
      "gl\n",
      "e \n",
      "the \n",
      "pl\n",
      "ug\n",
      " \n",
      "to \n",
      "get \n",
      "it \n",
      "to \n",
      "li\n",
      "ne \n",
      "up \n",
      "right\n",
      " \n",
      "to \n",
      "get \n",
      "dec\n",
      "ent \n",
      "vo\n",
      "lu\n",
      "me\n",
      ".\n"
     ]
    }
   ],
   "source": [
    "# check tokenizer works properly\n",
    "num = 5\n",
    "print(sentences[num])\n",
    "\n",
    "encoded = tokenizer.encode(sentences[num])\n",
    "print(encoded)\n",
    "\n",
    "for _ in encoded:\n",
    "    print(tokenizer.decode([_]))"
   ]
  },
  {
   "cell_type": "markdown",
   "id": "fce5e0b7",
   "metadata": {},
   "source": [
    "### Replace sentence data with encoded subwords"
   ]
  },
  {
   "cell_type": "code",
   "execution_count": 5,
   "id": "119563a5",
   "metadata": {},
   "outputs": [],
   "source": [
    "for i, sentence in enumerate(sentences):\n",
    "    sentences[i] = tokenizer.encode(sentence)"
   ]
  },
  {
   "cell_type": "code",
   "execution_count": 6,
   "id": "5610e982",
   "metadata": {},
   "outputs": [
    {
     "name": "stdout",
     "output_type": "stream",
     "text": [
      "[827, 187, 11, 6, 143, 63, 17, 79, 227, 594, 331, 3, 660, 26, 313, 182, 795, 415, 374, 60, 789, 820, 808, 817, 822, 825, 775, 823, 825, 822, 809, 819, 812, 820, 826, 263]\n"
     ]
    }
   ],
   "source": [
    "print(sentences[3])"
   ]
  },
  {
   "cell_type": "markdown",
   "id": "895e98be",
   "metadata": {},
   "source": [
    "### Final Preprocessing"
   ]
  },
  {
   "cell_type": "code",
   "execution_count": 7,
   "id": "6dbf57bb",
   "metadata": {},
   "outputs": [],
   "source": [
    "max_length = 50\n",
    "padding_type = \"post\"\n",
    "trunc_type = \"post\"\n",
    "\n",
    "sequences_padded = pad_sequences(sentences, maxlen = max_length,\n",
    "                                truncating = trunc_type, padding = padding_type)\n",
    "\n",
    "train_size = int(len(labels) * 0.8)\n",
    "\n",
    "train_sequences = sequences_padded[:train_size]\n",
    "test_sequences = sequences_padded[train_size:]\n",
    "train_labels = labels[:train_size]\n",
    "test_labels = labels[train_size:]\n",
    "\n",
    "train_labels_finals = np.array(train_labels)\n",
    "test_labels_finals = np.array(test_labels)"
   ]
  },
  {
   "cell_type": "markdown",
   "id": "f22a1e1b",
   "metadata": {},
   "source": [
    "### Create a model using Embedding"
   ]
  },
  {
   "cell_type": "code",
   "execution_count": 8,
   "id": "243c8b40",
   "metadata": {},
   "outputs": [
    {
     "name": "stdout",
     "output_type": "stream",
     "text": [
      "Model: \"sequential\"\n",
      "_________________________________________________________________\n",
      " Layer (type)                Output Shape              Param #   \n",
      "=================================================================\n",
      " embedding (Embedding)       (None, 50, 16)            16000     \n",
      "                                                                 \n",
      " global_average_pooling1d (  (None, 16)                0         \n",
      " GlobalAveragePooling1D)                                         \n",
      "                                                                 \n",
      " dense (Dense)               (None, 6)                 102       \n",
      "                                                                 \n",
      " dense_1 (Dense)             (None, 1)                 7         \n",
      "                                                                 \n",
      "=================================================================\n",
      "Total params: 16109 (62.93 KB)\n",
      "Trainable params: 16109 (62.93 KB)\n",
      "Non-trainable params: 0 (0.00 Byte)\n",
      "_________________________________________________________________\n"
     ]
    }
   ],
   "source": [
    "embedding_dim = 16\n",
    "\n",
    "model = keras.models.Sequential([\n",
    "    keras.layers.Embedding(vocab_size, embedding_dim, input_length = max_length),\n",
    "    keras.layers.GlobalAveragePooling1D(),\n",
    "    keras.layers.Dense(6, activation = 'relu'),\n",
    "    keras.layers.Dense(1, activation = 'sigmoid')\n",
    "])\n",
    "model.summary()"
   ]
  },
  {
   "cell_type": "markdown",
   "id": "f420417d",
   "metadata": {},
   "source": [
    "### Train the model"
   ]
  },
  {
   "cell_type": "code",
   "execution_count": 9,
   "id": "da2624da",
   "metadata": {},
   "outputs": [
    {
     "name": "stdout",
     "output_type": "stream",
     "text": [
      "Epoch 1/30\n",
      "50/50 [==============================] - 3s 7ms/step - loss: 0.6907 - accuracy: 0.5229 - val_loss: 0.7007 - val_accuracy: 0.4110\n",
      "Epoch 2/30\n",
      "50/50 [==============================] - 0s 2ms/step - loss: 0.6871 - accuracy: 0.5235 - val_loss: 0.7037 - val_accuracy: 0.4135\n",
      "Epoch 3/30\n",
      "50/50 [==============================] - 0s 3ms/step - loss: 0.6816 - accuracy: 0.5480 - val_loss: 0.6985 - val_accuracy: 0.4511\n",
      "Epoch 4/30\n",
      "50/50 [==============================] - 0s 2ms/step - loss: 0.6728 - accuracy: 0.5612 - val_loss: 0.6900 - val_accuracy: 0.4962\n",
      "Epoch 5/30\n",
      "50/50 [==============================] - 0s 2ms/step - loss: 0.6571 - accuracy: 0.6171 - val_loss: 0.6817 - val_accuracy: 0.5063\n",
      "Epoch 6/30\n",
      "50/50 [==============================] - 0s 3ms/step - loss: 0.6320 - accuracy: 0.6842 - val_loss: 0.6709 - val_accuracy: 0.5113\n",
      "Epoch 7/30\n",
      "50/50 [==============================] - 0s 2ms/step - loss: 0.5997 - accuracy: 0.7282 - val_loss: 0.6407 - val_accuracy: 0.6216\n",
      "Epoch 8/30\n",
      "50/50 [==============================] - 0s 2ms/step - loss: 0.5622 - accuracy: 0.7596 - val_loss: 0.6172 - val_accuracy: 0.6617\n",
      "Epoch 9/30\n",
      "50/50 [==============================] - 0s 2ms/step - loss: 0.5216 - accuracy: 0.8041 - val_loss: 0.5827 - val_accuracy: 0.7368\n",
      "Epoch 10/30\n",
      "50/50 [==============================] - 0s 2ms/step - loss: 0.4826 - accuracy: 0.8336 - val_loss: 0.5625 - val_accuracy: 0.7268\n",
      "Epoch 11/30\n",
      "50/50 [==============================] - 0s 3ms/step - loss: 0.4460 - accuracy: 0.8531 - val_loss: 0.5512 - val_accuracy: 0.7368\n",
      "Epoch 12/30\n",
      "50/50 [==============================] - 0s 2ms/step - loss: 0.4114 - accuracy: 0.8638 - val_loss: 0.5334 - val_accuracy: 0.7393\n",
      "Epoch 13/30\n",
      "50/50 [==============================] - 0s 3ms/step - loss: 0.3822 - accuracy: 0.8795 - val_loss: 0.5328 - val_accuracy: 0.7368\n",
      "Epoch 14/30\n",
      "50/50 [==============================] - 0s 2ms/step - loss: 0.3561 - accuracy: 0.8851 - val_loss: 0.5272 - val_accuracy: 0.7393\n",
      "Epoch 15/30\n",
      "50/50 [==============================] - 0s 3ms/step - loss: 0.3338 - accuracy: 0.8889 - val_loss: 0.5071 - val_accuracy: 0.7494\n",
      "Epoch 16/30\n",
      "50/50 [==============================] - 0s 3ms/step - loss: 0.3134 - accuracy: 0.8977 - val_loss: 0.5062 - val_accuracy: 0.7544\n",
      "Epoch 17/30\n",
      "50/50 [==============================] - 0s 2ms/step - loss: 0.2954 - accuracy: 0.9027 - val_loss: 0.5046 - val_accuracy: 0.7569\n",
      "Epoch 18/30\n",
      "50/50 [==============================] - 0s 2ms/step - loss: 0.2792 - accuracy: 0.9058 - val_loss: 0.5122 - val_accuracy: 0.7494\n",
      "Epoch 19/30\n",
      "50/50 [==============================] - 0s 2ms/step - loss: 0.2639 - accuracy: 0.9146 - val_loss: 0.5058 - val_accuracy: 0.7469\n",
      "Epoch 20/30\n",
      "50/50 [==============================] - 0s 3ms/step - loss: 0.2520 - accuracy: 0.9209 - val_loss: 0.5499 - val_accuracy: 0.7419\n",
      "Epoch 21/30\n",
      "50/50 [==============================] - 0s 2ms/step - loss: 0.2403 - accuracy: 0.9259 - val_loss: 0.5224 - val_accuracy: 0.7519\n",
      "Epoch 22/30\n",
      "50/50 [==============================] - 0s 2ms/step - loss: 0.2291 - accuracy: 0.9247 - val_loss: 0.5458 - val_accuracy: 0.7444\n",
      "Epoch 23/30\n",
      "50/50 [==============================] - 0s 2ms/step - loss: 0.2204 - accuracy: 0.9309 - val_loss: 0.5504 - val_accuracy: 0.7519\n",
      "Epoch 24/30\n",
      "50/50 [==============================] - 0s 3ms/step - loss: 0.2113 - accuracy: 0.9366 - val_loss: 0.5416 - val_accuracy: 0.7544\n",
      "Epoch 25/30\n",
      "50/50 [==============================] - 0s 4ms/step - loss: 0.2015 - accuracy: 0.9360 - val_loss: 0.5485 - val_accuracy: 0.7544\n",
      "Epoch 26/30\n",
      "50/50 [==============================] - 0s 3ms/step - loss: 0.1960 - accuracy: 0.9397 - val_loss: 0.5524 - val_accuracy: 0.7519\n",
      "Epoch 27/30\n",
      "50/50 [==============================] - 0s 3ms/step - loss: 0.1872 - accuracy: 0.9466 - val_loss: 0.5563 - val_accuracy: 0.7569\n",
      "Epoch 28/30\n",
      "50/50 [==============================] - 0s 4ms/step - loss: 0.1815 - accuracy: 0.9479 - val_loss: 0.5780 - val_accuracy: 0.7494\n",
      "Epoch 29/30\n",
      "50/50 [==============================] - 0s 3ms/step - loss: 0.1768 - accuracy: 0.9479 - val_loss: 0.5688 - val_accuracy: 0.7594\n",
      "Epoch 30/30\n",
      "50/50 [==============================] - 0s 3ms/step - loss: 0.1696 - accuracy: 0.9586 - val_loss: 0.5881 - val_accuracy: 0.7569\n"
     ]
    }
   ],
   "source": [
    "EPOCHS = 30\n",
    "\n",
    "model.compile(loss = keras.losses.BinaryCrossentropy(),\n",
    "             optimizer = keras.optimizers.Adam(),\n",
    "             metrics = ['accuracy'])\n",
    "\n",
    "history = model.fit(train_sequences, train_labels_finals,\n",
    "                   epochs = EPOCHS,\n",
    "                   validation_data = (test_sequences, test_labels_finals))"
   ]
  },
  {
   "cell_type": "markdown",
   "id": "78e4dd92",
   "metadata": {},
   "source": [
    "### Plot the accuracy and loss"
   ]
  },
  {
   "cell_type": "code",
   "execution_count": 10,
   "id": "c1a71f27",
   "metadata": {},
   "outputs": [
    {
     "data": {
      "image/png": "[encoded data removed]",
      "text/plain": [
       "<Figure size 640x480 with 1 Axes>"
      ]
     },
     "metadata": {},
     "output_type": "display_data"
    },
    {
     "data": {
      "image/png": "[encoded data removed]",
      "text/plain": [
       "<Figure size 640x480 with 1 Axes>"
      ]
     },
     "metadata": {},
     "output_type": "display_data"
    }
   ],
   "source": [
    "def plot_graphs(history, string):\n",
    "    val_str = f\"val_{string}\"\n",
    "    \n",
    "    plt.plot(history.history[string])\n",
    "    plt.plot(history.history[val_str])\n",
    "    plt.legend([string, val_str])\n",
    "    plt.xlabel(\"Epochs\")\n",
    "    plt.ylabel(string)\n",
    "    plt.show()\n",
    "    \n",
    "plot_graphs(history, 'accuracy')\n",
    "plot_graphs(history, 'loss')"
   ]
  },
  {
   "cell_type": "markdown",
   "id": "3e76857c",
   "metadata": {},
   "source": [
    "### Define a function to predict the sentiment of reviews"
   ]
  },
  {
   "cell_type": "code",
   "execution_count": 11,
   "id": "f952d81e",
   "metadata": {},
   "outputs": [],
   "source": [
    "def predict_review(model, new_sentences, maxlen = max_length, show_padded_sequence = True):\n",
    "    new_encoded = []\n",
    "    \n",
    "    # convert the new reviews to sequences\n",
    "    for i, sentence in enumerate(new_sentences):\n",
    "        new_encoded.append(tokenizer.encode(sentence))\n",
    "    \n",
    "    trunc = 'post'\n",
    "    padding = 'post'\n",
    "    \n",
    "    new_reviews_padded = pad_sequences(new_encoded, maxlen = max_length,\n",
    "                                      padding = padding, truncating = trunc)\n",
    "    \n",
    "    predictions = model.predict(new_reviews_padded)\n",
    "    \n",
    "    for _ in range(len(new_sentences)):\n",
    "        if show_padded_sequence:\n",
    "            print(new_reviews_padded[_])\n",
    "            \n",
    "        print(new_sentences[_])\n",
    "        print(predictions[_], end = \"\\n\\n\")"
   ]
  },
  {
   "cell_type": "code",
   "execution_count": 13,
   "id": "56ce835d",
   "metadata": {},
   "outputs": [
    {
     "name": "stdout",
     "output_type": "stream",
     "text": [
      "1/1 [==============================] - 0s 84ms/step\n",
      "[  4 281  16  25   0   0   0   0   0   0   0   0   0   0   0   0   0   0\n",
      "   0   0   0   0   0   0   0   0   0   0   0   0   0   0   0   0   0   0\n",
      "   0   0   0   0   0   0   0   0   0   0   0   0   0   0]\n",
      "I love this phone\n",
      "[0.9244455]\n",
      "\n",
      "[812 227 864 100 775   9 525 843   0   0   0   0   0   0   0   0   0   0\n",
      "   0   0   0   0   0   0   0   0   0   0   0   0   0   0   0   0   0   0\n",
      "   0   0   0   0   0   0   0   0   0   0   0   0   0   0]\n",
      "Everything was cold\n",
      "[0.08371311]\n",
      "\n",
      "[812 227 864 100 775   9 109   8  61   4 171  59  77   0   0   0   0   0\n",
      "   0   0   0   0   0   0   0   0   0   0   0   0   0   0   0   0   0   0\n",
      "   0   0   0   0   0   0   0   0   0   0   0   0   0   0]\n",
      "Everything was hot as I wanted\n",
      "[0.0566189]\n",
      "\n",
      "[812 227 864 100 775   9 157 359 853   0   0   0   0   0   0   0   0   0\n",
      "   0   0   0   0   0   0   0   0   0   0   0   0   0   0   0   0   0   0\n",
      "   0   0   0   0   0   0   0   0   0   0   0   0   0   0]\n",
      "Everything was green\n",
      "[0.07256466]\n",
      "\n",
      "[  1 109 228 540 237 635 241 423 340  89 298   0   0   0   0   0   0   0\n",
      "   0   0   0   0   0   0   0   0   0   0   0   0   0   0   0   0   0   0\n",
      "   0   0   0   0   0   0   0   0   0   0   0   0   0   0]\n",
      "the host seated us immediately\n",
      "[0.5971807]\n",
      "\n",
      "[154 242  47 635 341  12 569 547 147 319 775 125  85   0   0   0   0   0\n",
      "   0   0   0   0   0   0   0   0   0   0   0   0   0   0   0   0   0   0\n",
      "   0   0   0   0   0   0   0   0   0   0   0   0   0   0]\n",
      "they gave us free chocolate cake\n",
      "[0.7652267]\n",
      "\n",
      "[158 190 853 782   8 607 775 210 232 146 775 470  67 305 101  15   1 328\n",
      " 296  26  19   1 661 641 195   0   0   0   0   0   0   0   0   0   0   0\n",
      "   0   0   0   0   0   0   0   0   0   0   0   0   0   0]\n",
      "we couldn't hear each other talk because of the shouting in the kitchen\n",
      "[0.04798987]\n",
      "\n"
     ]
    }
   ],
   "source": [
    "fake_reviews = [\"I love this phone\",\n",
    "               \"Everything was cold\",\n",
    "               \"Everything was hot as I wanted\",\n",
    "               \"Everything was green\",\n",
    "               \"the host seated us immediately\",\n",
    "               \"they gave us free chocolate cake\",\n",
    "               \"we couldn't hear each other talk because of the shouting in the kitchen\"]\n",
    "\n",
    "predict_review(model, fake_reviews)"
   ]
  },
  {
   "cell_type": "markdown",
   "id": "a2167ef3",
   "metadata": {},
   "source": [
    "### Define a function to train and show the results of models with different layers"
   ]
  },
  {
   "cell_type": "code",
   "execution_count": 14,
   "id": "1b211c11",
   "metadata": {},
   "outputs": [],
   "source": [
    "def fit_model_and_show_results(model, sentences):\n",
    "    model.compile(losses = keras.losses.BinaryCrossentropy(),\n",
    "                 optimizers = keras.optimizers.Adam(),\n",
    "                 metrics = ['accuracy'])\n",
    "    print(model.summary())\n",
    "    history = model.fit(train_sequences, train_labels_finals, epochs = EPOCHS,\n",
    "                       validation_data = (test_sequences, test_labels_finals))\n",
    "    \n",
    "    plot_graphs(history, \"accuracy\")\n",
    "    plot_graphs(history, \"loss\")\n",
    "    \n",
    "    predict_review(model, sentences)"
   ]
  },
  {
   "cell_type": "code",
   "execution_count": null,
   "id": "a742d153",
   "metadata": {},
   "outputs": [],
   "source": []
  }
 ],
 "metadata": {
  "kernelspec": {
   "display_name": "My Virtual Environment",
   "language": "python",
   "name": "myenv"
  },
  "language_info": {
   "codemirror_mode": {
    "name": "ipython",
    "version": 3
   },
   "file_extension": ".py",
   "mimetype": "text/x-python",
   "name": "python",
   "nbconvert_exporter": "python",
   "pygments_lexer": "ipython3",
   "version": "3.11.4"
  }
 },
 "nbformat": 4,
 "nbformat_minor": 5
}

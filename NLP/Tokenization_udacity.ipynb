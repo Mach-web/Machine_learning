{
 "cells": [
  {
   "cell_type": "markdown",
   "id": "a1cb6194",
   "metadata": {},
   "source": [
    "### Tokenizing Text"
   ]
  },
  {
   "cell_type": "markdown",
   "id": "9d637038",
   "metadata": {},
   "source": [
    "##### Set up"
   ]
  },
  {
   "cell_type": "code",
   "execution_count": 55,
   "id": "fda07482",
   "metadata": {},
   "outputs": [],
   "source": [
    "from tensorflow.keras.preprocessing.text import Tokenizer\n",
    "from tensorflow.keras.preprocessing.sequence import pad_sequences"
   ]
  },
  {
   "cell_type": "markdown",
   "id": "779759fc",
   "metadata": {},
   "source": [
    "##### Tokenize the sentences"
   ]
  },
  {
   "cell_type": "code",
   "execution_count": 56,
   "id": "c044f7c5",
   "metadata": {},
   "outputs": [],
   "source": [
    "sentences = [\n",
    "    \"My favourite food is ice cream\",\n",
    "    \"do you like ice cream too?\"\n",
    "]\n",
    "tokenizer = Tokenizer(num_words = 20, oov_token = \"<OOV>\")\n",
    "tokenizer.fit_on_texts(sentences)"
   ]
  },
  {
   "cell_type": "markdown",
   "id": "09163462",
   "metadata": {},
   "source": [
    "##### View the word index"
   ]
  },
  {
   "cell_type": "code",
   "execution_count": 57,
   "id": "25b99614",
   "metadata": {},
   "outputs": [
    {
     "data": {
      "text/plain": [
       "{'<OOV>': 1,\n",
       " 'ice': 2,\n",
       " 'cream': 3,\n",
       " 'my': 4,\n",
       " 'favourite': 5,\n",
       " 'food': 6,\n",
       " 'is': 7,\n",
       " 'do': 8,\n",
       " 'you': 9,\n",
       " 'like': 10,\n",
       " 'too': 11}"
      ]
     },
     "execution_count": 57,
     "metadata": {},
     "output_type": "execute_result"
    }
   ],
   "source": [
    "tokenizer.word_index"
   ]
  },
  {
   "cell_type": "markdown",
   "id": "2804040a",
   "metadata": {},
   "source": [
    "##### Sequencing"
   ]
  },
  {
   "cell_type": "code",
   "execution_count": 58,
   "id": "94345ca0",
   "metadata": {},
   "outputs": [
    {
     "name": "stdout",
     "output_type": "stream",
     "text": [
      "[[4, 5, 6, 7, 2, 3], [8, 9, 10, 2, 3, 11]]\n"
     ]
    }
   ],
   "source": [
    "sequences = tokenizer.texts_to_sequences(sentences)\n",
    "print(sequences)"
   ]
  },
  {
   "cell_type": "code",
   "execution_count": 59,
   "id": "dac80eca",
   "metadata": {},
   "outputs": [
    {
     "name": "stdout",
     "output_type": "stream",
     "text": [
      "[[1, 5, 6, 7, 1, 1, 3]]\n"
     ]
    }
   ],
   "source": [
    "new_sentence = [\n",
    "    'Your favourite food is strawberries and cream'\n",
    "]\n",
    "new_sequences = tokenizer.texts_to_sequences(new_sentence)\n",
    "print(new_sequences)"
   ]
  },
  {
   "cell_type": "markdown",
   "id": "0b358d93",
   "metadata": {},
   "source": [
    "The 1s represent OOV words."
   ]
  },
  {
   "cell_type": "markdown",
   "id": "ca819391",
   "metadata": {},
   "source": [
    "### Padding and sequencing"
   ]
  },
  {
   "cell_type": "code",
   "execution_count": 49,
   "id": "eb09324c",
   "metadata": {},
   "outputs": [
    {
     "data": {
      "text/plain": [
       "{'dogs': 1,\n",
       " 'my': 2,\n",
       " 'favourite': 3,\n",
       " 'food': 4,\n",
       " 'is': 5,\n",
       " 'ice': 6,\n",
       " 'cream': 7,\n",
       " 'i': 8,\n",
       " 'love': 9,\n",
       " \"it's\": 10,\n",
       " 'raining': 11,\n",
       " 'cats': 12,\n",
       " 'and': 13}"
      ]
     },
     "execution_count": 49,
     "metadata": {},
     "output_type": "execute_result"
    }
   ],
   "source": [
    "sentences = [\n",
    "    \"My favourite food is ice cream\",\n",
    "    \"I love dogs\",\n",
    "    \"It's raining cats and dogs\"\n",
    "]\n",
    "tokenizer = Tokenizer()\n",
    "tokenizer.fit_on_texts(sentences)\n",
    "tokenizer.word_index"
   ]
  },
  {
   "cell_type": "code",
   "execution_count": 50,
   "id": "aef57aa3",
   "metadata": {},
   "outputs": [
    {
     "data": {
      "text/plain": [
       "[[2, 3, 4, 5, 6, 7], [8, 9, 1], [10, 11, 12, 13, 1]]"
      ]
     },
     "execution_count": 50,
     "metadata": {},
     "output_type": "execute_result"
    }
   ],
   "source": [
    "sequences = tokenizer.texts_to_sequences(sentences)\n",
    "sequences"
   ]
  },
  {
   "cell_type": "code",
   "execution_count": 54,
   "id": "029344bb",
   "metadata": {},
   "outputs": [
    {
     "data": {
      "text/plain": [
       "array([[ 2,  3,  4,  5,  6,  7,  0,  0,  0,  0],\n",
       "       [ 8,  9,  1,  0,  0,  0,  0,  0,  0,  0],\n",
       "       [10, 11, 12, 13,  1,  0,  0,  0,  0,  0]], dtype=int32)"
      ]
     },
     "execution_count": 54,
     "metadata": {},
     "output_type": "execute_result"
    }
   ],
   "source": [
    "padded_seq = pad_sequences(sequences, maxlen = 10, padding = 'post')\n",
    "padded_seq"
   ]
  },
  {
   "cell_type": "code",
   "execution_count": null,
   "id": "809b806d",
   "metadata": {},
   "outputs": [],
   "source": []
  }
 ],
 "metadata": {
  "kernelspec": {
   "display_name": "My Virtual Environment",
   "language": "python",
   "name": "myenv"
  },
  "language_info": {
   "codemirror_mode": {
    "name": "ipython",
    "version": 3
   },
   "file_extension": ".py",
   "mimetype": "text/x-python",
   "name": "python",
   "nbconvert_exporter": "python",
   "pygments_lexer": "ipython3",
   "version": "3.11.4"
  }
 },
 "nbformat": 4,
 "nbformat_minor": 5
}

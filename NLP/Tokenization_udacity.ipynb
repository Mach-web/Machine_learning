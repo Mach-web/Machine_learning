{
 "cells": [
  {
   "cell_type": "markdown",
   "id": "eb031745",
   "metadata": {},
   "source": [
    "### Tokenizing Text"
   ]
  },
  {
   "cell_type": "markdown",
   "id": "9866c44e",
   "metadata": {},
   "source": [
    "##### Set up"
   ]
  },
  {
   "cell_type": "code",
   "execution_count": 4,
   "id": "b1f46277",
   "metadata": {},
   "outputs": [],
   "source": [
    "from tensorflow.keras.preprocessing.text import Tokenizer"
   ]
  },
  {
   "cell_type": "markdown",
   "id": "5717a11e",
   "metadata": {},
   "source": [
    "##### Tokenize the sentences"
   ]
  },
  {
   "cell_type": "code",
   "execution_count": 22,
   "id": "b1c649fe",
   "metadata": {},
   "outputs": [],
   "source": [
    "sentences = [\n",
    "    \"My favourite food is ice cream\",\n",
    "    \"do you like ice cream too?\"\n",
    "]\n",
    "tokenizer = Tokenizer(num_words = 20, oov_token = \"<OOV>\")\n",
    "tokenizer.fit_on_texts(sentences)"
   ]
  },
  {
   "cell_type": "markdown",
   "id": "232cf43b",
   "metadata": {},
   "source": [
    "##### View the word index"
   ]
  },
  {
   "cell_type": "code",
   "execution_count": 23,
   "id": "efa95dad",
   "metadata": {},
   "outputs": [
    {
     "data": {
      "text/plain": [
       "{'<OOV>': 1,\n",
       " 'ice': 2,\n",
       " 'cream': 3,\n",
       " 'my': 4,\n",
       " 'favourite': 5,\n",
       " 'food': 6,\n",
       " 'is': 7,\n",
       " 'do': 8,\n",
       " 'you': 9,\n",
       " 'like': 10,\n",
       " 'too': 11}"
      ]
     },
     "execution_count": 23,
     "metadata": {},
     "output_type": "execute_result"
    }
   ],
   "source": [
    "tokenizer.word_index"
   ]
  },
  {
   "cell_type": "markdown",
   "id": "7ecfe499",
   "metadata": {},
   "source": [
    "##### Sequencing"
   ]
  },
  {
   "cell_type": "code",
   "execution_count": 24,
   "id": "27d3b91f",
   "metadata": {},
   "outputs": [
    {
     "name": "stdout",
     "output_type": "stream",
     "text": [
      "[[4, 5, 6, 7, 2, 3], [8, 9, 10, 2, 3, 11]]\n"
     ]
    }
   ],
   "source": [
    "sequences = tokenizer.texts_to_sequences(sentences)\n",
    "print(sequences)"
   ]
  },
  {
   "cell_type": "code",
   "execution_count": 26,
   "id": "b8e631d0",
   "metadata": {},
   "outputs": [
    {
     "name": "stdout",
     "output_type": "stream",
     "text": [
      "[[1, 5, 6, 7, 1, 1, 3]]\n"
     ]
    }
   ],
   "source": [
    "new_sentence = [\n",
    "    'Your favourite food is strawberries and cream'\n",
    "]\n",
    "new_sequences = tokenizer.texts_to_sequences(new_sentence)\n",
    "print(new_sequences)"
   ]
  },
  {
   "cell_type": "markdown",
   "id": "5c9ff8c5",
   "metadata": {},
   "source": [
    "The 1s represent OOV words."
   ]
  },
  {
   "cell_type": "code",
   "execution_count": null,
   "id": "22074695",
   "metadata": {},
   "outputs": [],
   "source": []
  }
 ],
 "metadata": {
  "kernelspec": {
   "display_name": "My Virtual Environment",
   "language": "python",
   "name": "myenv"
  },
  "language_info": {
   "codemirror_mode": {
    "name": "ipython",
    "version": 3
   },
   "file_extension": ".py",
   "mimetype": "text/x-python",
   "name": "python",
   "nbconvert_exporter": "python",
   "pygments_lexer": "ipython3",
   "version": "3.11.4"
  }
 },
 "nbformat": 4,
 "nbformat_minor": 5
}

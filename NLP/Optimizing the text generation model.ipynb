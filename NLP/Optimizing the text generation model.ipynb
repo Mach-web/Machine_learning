{
 "cells": [
  {
   "cell_type": "markdown",
   "id": "55f650a1",
   "metadata": {},
   "source": [
    "### Setup"
   ]
  },
  {
   "cell_type": "code",
   "execution_count": 1,
   "id": "74513d2f",
   "metadata": {},
   "outputs": [
    {
     "name": "stderr",
     "output_type": "stream",
     "text": [
      "2024-03-19 22:41:39.285916: I tensorflow/tsl/cuda/cudart_stub.cc:28] Could not find cuda drivers on your machine, GPU will not be used.\n",
      "2024-03-19 22:41:42.435567: I tensorflow/tsl/cuda/cudart_stub.cc:28] Could not find cuda drivers on your machine, GPU will not be used.\n",
      "2024-03-19 22:41:42.445284: I tensorflow/core/platform/cpu_feature_guard.cc:182] This TensorFlow binary is optimized to use available CPU instructions in performance-critical operations.\n",
      "To enable the following instructions: AVX2 FMA, in other operations, rebuild TensorFlow with the appropriate compiler flags.\n",
      "2024-03-19 22:41:57.855483: W tensorflow/compiler/tf2tensorrt/utils/py_utils.cc:38] TF-TRT Warning: Could not find TensorRT\n"
     ]
    }
   ],
   "source": [
    "import tensorflow as tf\n",
    "import matplotlib.pyplot as plt\n",
    "import pandas as pd\n",
    "import numpy as np\n",
    "import string\n",
    "import os\n",
    "\n",
    "from tensorflow.keras.preprocessing.sequence import pad_sequences\n",
    "from tensorflow.keras.preprocessing.text import Tokenizer\n",
    "from tensorflow.keras.models import Sequential\n",
    "from tensorflow.keras.layers import Embedding, LSTM, Dense, Bidirectional"
   ]
  },
  {
   "cell_type": "markdown",
   "id": "c09b7362",
   "metadata": {},
   "source": [
    "### Get the dataset"
   ]
  },
  {
   "cell_type": "code",
   "execution_count": 2,
   "id": "e8f2d9e8",
   "metadata": {},
   "outputs": [
    {
     "name": "stdout",
     "output_type": "stream",
     "text": [
      "<class 'pandas.core.frame.DataFrame'>\n",
      "RangeIndex: 250 entries, 0 to 249\n",
      "Data columns (total 4 columns):\n",
      " #   Column  Non-Null Count  Dtype \n",
      "---  ------  --------------  ----- \n",
      " 0   artist  250 non-null    object\n",
      " 1   song    250 non-null    object\n",
      " 2   link    250 non-null    object\n",
      " 3   text    250 non-null    object\n",
      "dtypes: object(4)\n",
      "memory usage: 7.9+ KB\n"
     ]
    }
   ],
   "source": [
    "songdata = pd.read_csv(\"/home/login/Documents/songdata.csv\", dtype = str)[:250]\n",
    "songdata.info()"
   ]
  },
  {
   "cell_type": "markdown",
   "id": "8f3a505a",
   "metadata": {},
   "source": [
    "### 250 songs\n",
    "\n",
    "\n",
    "### Preprocessing"
   ]
  },
  {
   "cell_type": "code",
   "execution_count": 3,
   "id": "7f4c421e",
   "metadata": {},
   "outputs": [],
   "source": [
    "def tokenize_corpus(corpus, num_words = -1):\n",
    "    if num_words > -1:\n",
    "        tokenizer = Tokenizer(num_words = num_words)\n",
    "    else:\n",
    "        tokenizer = Tokenizer()\n",
    "    tokenizer.fit_on_texts(corpus)\n",
    "    return tokenizer\n",
    "\n",
    "def create_lyrics_corpus(dataset, field):\n",
    "    dataset[field] = dataset[field].str.replace(\"[{}]\".format(string.punctuation), \"\")\n",
    "    dataset[field] = dataset[field].str.lower()\n",
    "    lyrics = dataset[field].str.cat()\n",
    "    corpus = lyrics.split(\"\\n\")\n",
    "    \n",
    "    for _ in range(len(corpus)):\n",
    "        corpus[_] = corpus[_].rstrip()\n",
    "        \n",
    "    corpus = [_ for _ in corpus if _ != \"\"]\n",
    "    return corpus"
   ]
  },
  {
   "cell_type": "code",
   "execution_count": 4,
   "id": "b61e2274",
   "metadata": {},
   "outputs": [
    {
     "name": "stdout",
     "output_type": "stream",
     "text": [
      "4151\n"
     ]
    }
   ],
   "source": [
    "corpus = create_lyrics_corpus(songdata, \"text\")\n",
    "tokenizer = tokenize_corpus(corpus)\n",
    "\n",
    "total_words = len(tokenizer.word_index) + 1\n",
    "print(total_words)"
   ]
  },
  {
   "cell_type": "markdown",
   "id": "06e70226",
   "metadata": {},
   "source": [
    "### Create sequences"
   ]
  },
  {
   "cell_type": "code",
   "execution_count": 5,
   "id": "ba67c070",
   "metadata": {},
   "outputs": [
    {
     "name": "stdout",
     "output_type": "stream",
     "text": [
      "20\n",
      "[  0   0   0   0   0   0   0   0   0   0   0   0   0   0   0   0   0   0\n",
      " 112  65]\n"
     ]
    }
   ],
   "source": [
    "sequences = []\n",
    "i = 0\n",
    "for line in corpus:\n",
    "    tok_line = tokenizer.texts_to_sequences([line])[0]\n",
    "    for _ in range(1, len(tok_line)):\n",
    "        line_sequences = tok_line[:_+1]\n",
    "        sequences.append(line_sequences)\n",
    "        \n",
    "maxLength = max([len(_) for _ in sequences])\n",
    "padded_sequences = pad_sequences(sequences, maxlen = maxLength, padding = \"pre\")\n",
    "print(maxLength)\n",
    "print(padded_sequences[0, :])"
   ]
  },
  {
   "cell_type": "markdown",
   "id": "7fefbd84",
   "metadata": {},
   "source": [
    "### Create labels"
   ]
  },
  {
   "cell_type": "code",
   "execution_count": 6,
   "id": "ded62151",
   "metadata": {},
   "outputs": [
    {
     "name": "stdout",
     "output_type": "stream",
     "text": [
      "[  0   0   0   0   0   0   0   0   0   0   0   0   0   0   0   0   0   0\n",
      " 112]\n",
      "65\n",
      "[0. 0. 0. ... 0. 0. 0.]\n",
      "[0. 0. 0. ... 0. 0. 0.]\n"
     ]
    }
   ],
   "source": [
    "inputs, labels = padded_sequences[:, :-1], padded_sequences[:, -1]\n",
    "one_hot_labels = tf.keras.utils.to_categorical(labels, num_classes = total_words)\n",
    "print(inputs[0])\n",
    "print(labels[0])\n",
    "print(one_hot_labels[0])\n",
    "print(one_hot_labels[1])"
   ]
  },
  {
   "cell_type": "markdown",
   "id": "1e13c383",
   "metadata": {},
   "source": [
    "### Train a Better Text Generation Model"
   ]
  },
  {
   "cell_type": "code",
   "execution_count": 7,
   "id": "e74dbed1",
   "metadata": {},
   "outputs": [],
   "source": [
    "embedding_dim = 64\n",
    "model = Sequential([\n",
    "    Embedding(total_words, embedding_dim, input_length = maxLength - 1),\n",
    "    Bidirectional(LSTM(20)),\n",
    "    Dense(total_words, activation = \"softmax\")\n",
    "])\n",
    "model.compile(loss = tf.keras.losses.CategoricalCrossentropy(),\n",
    "             optimizer = tf.keras.optimizers.Adam(),\n",
    "             metrics = ['accuracy'])"
   ]
  },
  {
   "cell_type": "code",
   "execution_count": 8,
   "id": "cc5ec0a3",
   "metadata": {},
   "outputs": [
    {
     "name": "stderr",
     "output_type": "stream",
     "text": [
      "2024-03-19 22:42:18.186923: W tensorflow/tsl/framework/cpu_allocator_impl.cc:83] Allocation of 836675560 exceeds 10% of free system memory.\n"
     ]
    },
    {
     "name": "stdout",
     "output_type": "stream",
     "text": [
      "Epoch 1/100\n",
      "1575/1575 [==============================] - 46s 20ms/step - loss: 6.3101 - accuracy: 0.0434\n",
      "Epoch 2/100\n",
      "1575/1575 [==============================] - 33s 21ms/step - loss: 5.9236 - accuracy: 0.0510\n",
      "Epoch 3/100\n",
      "1575/1575 [==============================] - 34s 22ms/step - loss: 5.6942 - accuracy: 0.0678\n",
      "Epoch 4/100\n",
      "1575/1575 [==============================] - 42s 27ms/step - loss: 5.4700 - accuracy: 0.0963\n",
      "Epoch 5/100\n",
      "1575/1575 [==============================] - 42s 27ms/step - loss: 5.2810 - accuracy: 0.1175\n",
      "Epoch 6/100\n",
      "1575/1575 [==============================] - 42s 27ms/step - loss: 5.0807 - accuracy: 0.1371\n",
      "Epoch 7/100\n",
      "1575/1575 [==============================] - 44s 28ms/step - loss: 4.8958 - accuracy: 0.1524\n",
      "Epoch 8/100\n",
      "1575/1575 [==============================] - 44s 28ms/step - loss: 4.7355 - accuracy: 0.1685\n",
      "Epoch 9/100\n",
      "1575/1575 [==============================] - 43s 27ms/step - loss: 4.5928 - accuracy: 0.1837\n",
      "Epoch 10/100\n",
      "1575/1575 [==============================] - 43s 28ms/step - loss: 4.4608 - accuracy: 0.1965\n",
      "Epoch 11/100\n",
      "1575/1575 [==============================] - 44s 28ms/step - loss: 4.3411 - accuracy: 0.2083\n",
      "Epoch 12/100\n",
      "1575/1575 [==============================] - 44s 28ms/step - loss: 4.2337 - accuracy: 0.2209\n",
      "Epoch 13/100\n",
      "1575/1575 [==============================] - 45s 29ms/step - loss: 4.1310 - accuracy: 0.2311\n",
      "Epoch 14/100\n",
      "1575/1575 [==============================] - 47s 30ms/step - loss: 4.0394 - accuracy: 0.2436\n",
      "Epoch 15/100\n",
      "1575/1575 [==============================] - 45s 28ms/step - loss: 3.9520 - accuracy: 0.2545\n",
      "Epoch 16/100\n",
      "1575/1575 [==============================] - 41s 26ms/step - loss: 3.8716 - accuracy: 0.2641\n",
      "Epoch 17/100\n",
      "1575/1575 [==============================] - 49s 31ms/step - loss: 3.7906 - accuracy: 0.2749\n",
      "Epoch 18/100\n",
      "1575/1575 [==============================] - 49s 31ms/step - loss: 3.7202 - accuracy: 0.2832\n",
      "Epoch 19/100\n",
      "1575/1575 [==============================] - 49s 31ms/step - loss: 3.6492 - accuracy: 0.2926\n",
      "Epoch 20/100\n",
      "1575/1575 [==============================] - 44s 28ms/step - loss: 3.5952 - accuracy: 0.3002\n",
      "Epoch 21/100\n",
      "1575/1575 [==============================] - 43s 27ms/step - loss: 3.5270 - accuracy: 0.3096\n",
      "Epoch 22/100\n",
      "1575/1575 [==============================] - 44s 28ms/step - loss: 3.4690 - accuracy: 0.3176\n",
      "Epoch 23/100\n",
      "1575/1575 [==============================] - 42s 27ms/step - loss: 3.4158 - accuracy: 0.3263\n",
      "Epoch 24/100\n",
      "1575/1575 [==============================] - 43s 27ms/step - loss: 3.3623 - accuracy: 0.3320\n",
      "Epoch 25/100\n",
      "1575/1575 [==============================] - 42s 27ms/step - loss: 3.3132 - accuracy: 0.3418\n",
      "Epoch 26/100\n",
      "1575/1575 [==============================] - 43s 27ms/step - loss: 3.2636 - accuracy: 0.3468\n",
      "Epoch 27/100\n",
      "1575/1575 [==============================] - 53s 34ms/step - loss: 3.2193 - accuracy: 0.3560\n",
      "Epoch 28/100\n",
      "1575/1575 [==============================] - 50s 31ms/step - loss: 3.1812 - accuracy: 0.3606\n",
      "Epoch 29/100\n",
      "1575/1575 [==============================] - 49s 31ms/step - loss: 3.1304 - accuracy: 0.3694\n",
      "Epoch 30/100\n",
      "1575/1575 [==============================] - 49s 31ms/step - loss: 3.0960 - accuracy: 0.3757\n",
      "Epoch 31/100\n",
      "1575/1575 [==============================] - 47s 30ms/step - loss: 3.0568 - accuracy: 0.3823\n",
      "Epoch 32/100\n",
      "1575/1575 [==============================] - 42s 27ms/step - loss: 3.0287 - accuracy: 0.3858\n",
      "Epoch 33/100\n",
      "1575/1575 [==============================] - 48s 30ms/step - loss: 2.9862 - accuracy: 0.3936\n",
      "Epoch 34/100\n",
      "1575/1575 [==============================] - 52s 33ms/step - loss: 2.9458 - accuracy: 0.3988\n",
      "Epoch 35/100\n",
      "1575/1575 [==============================] - 52s 33ms/step - loss: 2.9272 - accuracy: 0.4024\n",
      "Epoch 36/100\n",
      "1575/1575 [==============================] - 53s 34ms/step - loss: 2.8837 - accuracy: 0.4088\n",
      "Epoch 37/100\n",
      "1575/1575 [==============================] - 52s 33ms/step - loss: 2.8544 - accuracy: 0.4139\n",
      "Epoch 38/100\n",
      "1575/1575 [==============================] - 51s 33ms/step - loss: 2.8267 - accuracy: 0.4187\n",
      "Epoch 39/100\n",
      "1575/1575 [==============================] - 51s 33ms/step - loss: 2.7971 - accuracy: 0.4230\n",
      "Epoch 40/100\n",
      "1575/1575 [==============================] - 53s 34ms/step - loss: 2.7748 - accuracy: 0.4268\n",
      "Epoch 41/100\n",
      "1575/1575 [==============================] - 51s 32ms/step - loss: 2.7411 - accuracy: 0.4316\n",
      "Epoch 42/100\n",
      "1575/1575 [==============================] - 42s 27ms/step - loss: 2.7178 - accuracy: 0.4364\n",
      "Epoch 43/100\n",
      "1575/1575 [==============================] - 39s 25ms/step - loss: 2.6933 - accuracy: 0.4408\n",
      "Epoch 44/100\n",
      "1575/1575 [==============================] - 39s 25ms/step - loss: 2.6733 - accuracy: 0.4439\n",
      "Epoch 45/100\n",
      "1575/1575 [==============================] - 41s 26ms/step - loss: 2.6466 - accuracy: 0.4480\n",
      "Epoch 46/100\n",
      "1575/1575 [==============================] - 43s 27ms/step - loss: 2.6241 - accuracy: 0.4509\n",
      "Epoch 47/100\n",
      "1575/1575 [==============================] - 44s 28ms/step - loss: 2.6048 - accuracy: 0.4566\n",
      "Epoch 48/100\n",
      "1575/1575 [==============================] - 44s 28ms/step - loss: 2.5857 - accuracy: 0.4594\n",
      "Epoch 49/100\n",
      "1575/1575 [==============================] - 44s 28ms/step - loss: 2.5609 - accuracy: 0.4629\n",
      "Epoch 50/100\n",
      "1575/1575 [==============================] - 44s 28ms/step - loss: 2.5387 - accuracy: 0.4663\n",
      "Epoch 51/100\n",
      "1575/1575 [==============================] - 45s 29ms/step - loss: 2.5169 - accuracy: 0.4714\n",
      "Epoch 52/100\n",
      "1575/1575 [==============================] - 53s 34ms/step - loss: 2.4959 - accuracy: 0.4752\n",
      "Epoch 53/100\n",
      "1575/1575 [==============================] - 43s 28ms/step - loss: 2.4881 - accuracy: 0.4745\n",
      "Epoch 54/100\n",
      "1575/1575 [==============================] - 52s 33ms/step - loss: 2.4603 - accuracy: 0.4807\n",
      "Epoch 55/100\n",
      "1575/1575 [==============================] - 44s 28ms/step - loss: 2.4420 - accuracy: 0.4852\n",
      "Epoch 56/100\n",
      "1575/1575 [==============================] - 57s 36ms/step - loss: 2.4275 - accuracy: 0.4878\n",
      "Epoch 57/100\n",
      "1575/1575 [==============================] - 49s 31ms/step - loss: 2.4067 - accuracy: 0.4912\n",
      "Epoch 58/100\n",
      "1575/1575 [==============================] - 57s 36ms/step - loss: 2.3916 - accuracy: 0.4930\n",
      "Epoch 59/100\n",
      "1575/1575 [==============================] - 55s 35ms/step - loss: 2.3802 - accuracy: 0.4950\n",
      "Epoch 60/100\n",
      "1575/1575 [==============================] - 54s 34ms/step - loss: 2.3624 - accuracy: 0.5000\n",
      "Epoch 61/100\n",
      "1575/1575 [==============================] - 51s 32ms/step - loss: 2.3549 - accuracy: 0.5006\n",
      "Epoch 62/100\n",
      "1575/1575 [==============================] - 54s 34ms/step - loss: 2.3422 - accuracy: 0.5010\n",
      "Epoch 63/100\n",
      "1575/1575 [==============================] - 47s 30ms/step - loss: 2.3247 - accuracy: 0.5056\n",
      "Epoch 64/100\n",
      "1575/1575 [==============================] - 51s 32ms/step - loss: 2.3069 - accuracy: 0.5098\n",
      "Epoch 65/100\n",
      "1575/1575 [==============================] - 50s 32ms/step - loss: 2.2883 - accuracy: 0.5118\n",
      "Epoch 66/100\n",
      "1575/1575 [==============================] - 49s 31ms/step - loss: 2.2681 - accuracy: 0.5161\n",
      "Epoch 67/100\n",
      "1575/1575 [==============================] - 49s 31ms/step - loss: 2.2637 - accuracy: 0.5166\n",
      "Epoch 68/100\n",
      "1575/1575 [==============================] - 49s 31ms/step - loss: 2.2409 - accuracy: 0.5211\n",
      "Epoch 69/100\n",
      "1575/1575 [==============================] - 51s 32ms/step - loss: 2.2324 - accuracy: 0.5237\n",
      "Epoch 70/100\n",
      "1575/1575 [==============================] - 44s 28ms/step - loss: 2.2133 - accuracy: 0.5272\n",
      "Epoch 71/100\n",
      "1575/1575 [==============================] - 48s 30ms/step - loss: 2.2024 - accuracy: 0.5266\n",
      "Epoch 72/100\n",
      "1575/1575 [==============================] - 51s 33ms/step - loss: 2.2017 - accuracy: 0.5280\n",
      "Epoch 73/100\n",
      "1575/1575 [==============================] - 47s 30ms/step - loss: 2.1961 - accuracy: 0.5291\n",
      "Epoch 74/100\n",
      "1575/1575 [==============================] - 48s 30ms/step - loss: 2.1724 - accuracy: 0.5346\n",
      "Epoch 75/100\n",
      "1575/1575 [==============================] - 50s 32ms/step - loss: 2.1543 - accuracy: 0.5367\n",
      "Epoch 76/100\n",
      "1575/1575 [==============================] - 50s 32ms/step - loss: 2.1448 - accuracy: 0.5390\n",
      "Epoch 77/100\n",
      "1575/1575 [==============================] - 52s 33ms/step - loss: 2.1327 - accuracy: 0.5407\n",
      "Epoch 78/100\n"
     ]
    },
    {
     "name": "stdout",
     "output_type": "stream",
     "text": [
      "1575/1575 [==============================] - 46s 29ms/step - loss: 2.1225 - accuracy: 0.5440\n",
      "Epoch 79/100\n",
      "1575/1575 [==============================] - 47s 30ms/step - loss: 2.1157 - accuracy: 0.5437\n",
      "Epoch 80/100\n",
      "1575/1575 [==============================] - 48s 30ms/step - loss: 2.1036 - accuracy: 0.5458\n",
      "Epoch 81/100\n",
      "1575/1575 [==============================] - 46s 29ms/step - loss: 2.0917 - accuracy: 0.5481\n",
      "Epoch 82/100\n",
      "1575/1575 [==============================] - 47s 30ms/step - loss: 2.0794 - accuracy: 0.5507\n",
      "Epoch 83/100\n",
      "1575/1575 [==============================] - 52s 33ms/step - loss: 2.0637 - accuracy: 0.5545\n",
      "Epoch 84/100\n",
      "1575/1575 [==============================] - 51s 32ms/step - loss: 2.0664 - accuracy: 0.5531\n",
      "Epoch 85/100\n",
      "1575/1575 [==============================] - 52s 33ms/step - loss: 2.0494 - accuracy: 0.5560\n",
      "Epoch 86/100\n",
      "1575/1575 [==============================] - 41s 26ms/step - loss: 2.0806 - accuracy: 0.5489\n",
      "Epoch 87/100\n",
      "1575/1575 [==============================] - 42s 27ms/step - loss: 2.0344 - accuracy: 0.5607\n",
      "Epoch 88/100\n",
      "1575/1575 [==============================] - 42s 26ms/step - loss: 2.0273 - accuracy: 0.5606\n",
      "Epoch 89/100\n",
      "1575/1575 [==============================] - 36s 23ms/step - loss: 2.0121 - accuracy: 0.5646\n",
      "Epoch 90/100\n",
      "1575/1575 [==============================] - 41s 26ms/step - loss: 2.0058 - accuracy: 0.5660\n",
      "Epoch 91/100\n",
      "1575/1575 [==============================] - 36s 23ms/step - loss: 1.9973 - accuracy: 0.5678\n",
      "Epoch 92/100\n",
      "1575/1575 [==============================] - 34s 22ms/step - loss: 1.9954 - accuracy: 0.5680\n",
      "Epoch 93/100\n",
      "1575/1575 [==============================] - 43s 27ms/step - loss: 1.9920 - accuracy: 0.5661\n",
      "Epoch 94/100\n",
      "1575/1575 [==============================] - 41s 26ms/step - loss: 1.9804 - accuracy: 0.5688\n",
      "Epoch 95/100\n",
      "1575/1575 [==============================] - 39s 25ms/step - loss: 1.9797 - accuracy: 0.5706\n",
      "Epoch 96/100\n",
      "1575/1575 [==============================] - 40s 25ms/step - loss: 1.9652 - accuracy: 0.5728\n",
      "Epoch 97/100\n",
      "1575/1575 [==============================] - 40s 26ms/step - loss: 1.9593 - accuracy: 0.5732\n",
      "Epoch 98/100\n",
      "1575/1575 [==============================] - 40s 26ms/step - loss: 1.9602 - accuracy: 0.5728\n",
      "Epoch 99/100\n",
      "1575/1575 [==============================] - 40s 25ms/step - loss: 1.9428 - accuracy: 0.5749\n",
      "Epoch 100/100\n",
      "1575/1575 [==============================] - 40s 25ms/step - loss: 1.9382 - accuracy: 0.5778\n"
     ]
    }
   ],
   "source": [
    "EPOCHS = 100\n",
    "history = model.fit(inputs, one_hot_labels, epochs = EPOCHS, verbose = 1)"
   ]
  },
  {
   "cell_type": "markdown",
   "id": "be914418",
   "metadata": {},
   "source": [
    "### Visualize the training"
   ]
  },
  {
   "cell_type": "code",
   "execution_count": 9,
   "id": "d6856551",
   "metadata": {},
   "outputs": [
    {
     "data": {
      "image/png": "[encoded data removed]",
      "text/plain": [
       "<Figure size 640x480 with 1 Axes>"
      ]
     },
     "metadata": {},
     "output_type": "display_data"
    }
   ],
   "source": [
    "def plot_graphs(hist, string):\n",
    "    plt.plot(hist.history[string])\n",
    "    plt.xlabel(\"Epochs\")\n",
    "    plt.ylabel(string)\n",
    "    plt.show()\n",
    "    \n",
    "plot_graphs(history, \"accuracy\")"
   ]
  },
  {
   "cell_type": "markdown",
   "id": "e63bd6a3",
   "metadata": {},
   "source": [
    "### Save and Load model"
   ]
  },
  {
   "cell_type": "code",
   "execution_count": 12,
   "id": "236f1654",
   "metadata": {},
   "outputs": [
    {
     "name": "stdout",
     "output_type": "stream",
     "text": [
      "saved_models/songs_optimized_text_generation.h5\n"
     ]
    }
   ],
   "source": [
    "if \"saved_models\" not in os.listdir():\n",
    "    os.makedir(\"saved_models\")\n",
    "checkpoint_path = os.path.join(\"saved_models\", \"songs_optimized_text_generation.h5\")\n",
    "print(checkpoint_path)"
   ]
  },
  {
   "cell_type": "code",
   "execution_count": 14,
   "id": "91f0dd22",
   "metadata": {},
   "outputs": [
    {
     "name": "stderr",
     "output_type": "stream",
     "text": [
      "/home/login/.myenv/.myenv/lib/python3.11/site-packages/keras/src/engine/training.py:3000: UserWarning: You are saving your model as an HDF5 file via `model.save()`. This file format is considered legacy. We recommend using instead the native Keras format, e.g. `model.save('my_model.keras')`.\n",
      "  saving_api.save_model(\n"
     ]
    }
   ],
   "source": [
    "model.save(checkpoint_path)"
   ]
  },
  {
   "cell_type": "code",
   "execution_count": 15,
   "id": "a8c94c08",
   "metadata": {},
   "outputs": [
    {
     "name": "stdout",
     "output_type": "stream",
     "text": [
      "Model: \"sequential\"\n",
      "_________________________________________________________________\n",
      " Layer (type)                Output Shape              Param #   \n",
      "=================================================================\n",
      " embedding (Embedding)       (None, 19, 64)            265664    \n",
      "                                                                 \n",
      " bidirectional (Bidirection  (None, 40)                13600     \n",
      " al)                                                             \n",
      "                                                                 \n",
      " dense (Dense)               (None, 4151)              170191    \n",
      "                                                                 \n",
      "=================================================================\n",
      "Total params: 449455 (1.71 MB)\n",
      "Trainable params: 449455 (1.71 MB)\n",
      "Non-trainable params: 0 (0.00 Byte)\n",
      "_________________________________________________________________\n"
     ]
    }
   ],
   "source": [
    "reloaded = tf.keras.models.load_model(checkpoint_path)\n",
    "reloaded.summary()"
   ]
  },
  {
   "cell_type": "code",
   "execution_count": 16,
   "id": "fbebaaf1",
   "metadata": {},
   "outputs": [
    {
     "name": "stdout",
     "output_type": "stream",
     "text": [
      "Model: \"sequential\"\n",
      "_________________________________________________________________\n",
      " Layer (type)                Output Shape              Param #   \n",
      "=================================================================\n",
      " embedding (Embedding)       (None, 19, 64)            265664    \n",
      "                                                                 \n",
      " bidirectional (Bidirection  (None, 40)                13600     \n",
      " al)                                                             \n",
      "                                                                 \n",
      " dense (Dense)               (None, 4151)              170191    \n",
      "                                                                 \n",
      "=================================================================\n",
      "Total params: 449455 (1.71 MB)\n",
      "Trainable params: 449455 (1.71 MB)\n",
      "Non-trainable params: 0 (0.00 Byte)\n",
      "_________________________________________________________________\n"
     ]
    }
   ],
   "source": [
    "model.summary()"
   ]
  },
  {
   "cell_type": "markdown",
   "id": "18c88978",
   "metadata": {},
   "source": [
    "### Generate better Lyrics"
   ]
  },
  {
   "cell_type": "code",
   "execution_count": null,
   "id": "dd09abb1",
   "metadata": {},
   "outputs": [],
   "source": [
    "seed_text = \"I'm feeling chills\"\n",
    "next_words = 100\n",
    "\n",
    "def gen_lyrics(seed_text, next_words):\n",
    "    for _ in range(next_words):\n",
    "        token_list = tokenizer.texts_to_sequences([seed_text])[0]\n",
    "        token_list = pad_sequences(token_list, maxlen = maxLength, padding = \"pre\")\n",
    "        predict = model.predict(token_list)\n",
    "        predicted = np.argmax(predict, axis = 1)\n",
    "        output = \"\"\n",
    "        \n",
    "        for word,index in tokenizer.word_index.items():\n",
    "            if index == predicted:\n",
    "                output = word\n",
    "                break\n",
    "        seed_text += \" \" + output\n",
    "    return seed_text"
   ]
  },
  {
   "cell_type": "code",
   "execution_count": null,
   "id": "f619ac99",
   "metadata": {},
   "outputs": [],
   "source": [
    "print(gen_lyrics(seed_text, next_words))\n",
    "print(gen_lyrics(\"I am feeling chills\", 20))\n",
    "print(gen_lyrics(\"Let's go home\", 50))"
   ]
  },
  {
   "cell_type": "markdown",
   "id": "6be4fb1d",
   "metadata": {},
   "source": [
    "### Varying the possible outputs"
   ]
  },
  {
   "cell_type": "code",
   "execution_count": null,
   "id": "e3dea104",
   "metadata": {},
   "outputs": [],
   "source": [
    "seed_text = \"I'm feeling chills\"\n",
    "next_words = 100\n",
    "\n",
    "token_list = tokenizer.texts_to_sequences([seed_text])[0]\n",
    "token_list = pad_sequences([token_list], maxlen = maxLength, padding = \"pre\")\n",
    "predicted_probs = model.predict_proba(token_list, verbose = 0)[0]\n",
    "predicted = np.random.choice([x for x in range(len(predicted_probs))],\n",
    "                            p = predicted_probs)\n",
    "print(predicted)"
   ]
  },
  {
   "cell_type": "code",
   "execution_count": null,
   "id": "7a405530",
   "metadata": {},
   "outputs": [],
   "source": [
    "seed_text = \"I'm feeling chills\"\n",
    "num_words = 100\n",
    "\n",
    "def generate_lyrics(seed_text, num_words):\n",
    "    for _ in range(num_words):\n",
    "        token_list = tokenizer.texts_to_sequences([seed_text])[0]\n",
    "        token_list = pad_sequences([token_list], maxlen = maxLength, padding = 'pre')\n",
    "        predicted_proba = model.predict_proba(token_list, verbose = 0)[0]\n",
    "        predicted = np.random.choice([x for x in range(len(predicted_proba))],\n",
    "                                    p = predicted_proba)\n",
    "        output_word = \"\"\n",
    "    \n",
    "    for word, index in tokenizer.word_index.items():\n",
    "        if predicted == index:\n",
    "            output_word = word\n",
    "            break\n",
    "    seed_text += \" \" + output_word\n",
    "    return seed_text"
   ]
  },
  {
   "cell_type": "code",
   "execution_count": null,
   "id": "9bbc6992",
   "metadata": {},
   "outputs": [],
   "source": [
    "print(generate_lyrics(seed_text, next_words))\n",
    "print(generate_lyrics(\"I am feeling chills\", 20))\n",
    "print(generate_lyrics(\"Let's go home\", 50))"
   ]
  },
  {
   "cell_type": "code",
   "execution_count": null,
   "id": "f6127b08",
   "metadata": {},
   "outputs": [],
   "source": []
  }
 ],
 "metadata": {
  "kernelspec": {
   "display_name": "My Virtual Environment",
   "language": "python",
   "name": "myenv"
  },
  "language_info": {
   "codemirror_mode": {
    "name": "ipython",
    "version": 3
   },
   "file_extension": ".py",
   "mimetype": "text/x-python",
   "name": "python",
   "nbconvert_exporter": "python",
   "pygments_lexer": "ipython3",
   "version": "3.11.4"
  }
 },
 "nbformat": 4,
 "nbformat_minor": 5
}

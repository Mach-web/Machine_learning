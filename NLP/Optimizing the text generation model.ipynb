{
 "cells": [
  {
   "cell_type": "markdown",
   "id": "55f650a1",
   "metadata": {},
   "source": [
    "### Setup"
   ]
  },
  {
   "cell_type": "code",
   "execution_count": 1,
   "id": "74513d2f",
   "metadata": {},
   "outputs": [
    {
     "name": "stderr",
     "output_type": "stream",
     "text": [
      "2024-03-19 22:41:39.285916: I tensorflow/tsl/cuda/cudart_stub.cc:28] Could not find cuda drivers on your machine, GPU will not be used.\n",
      "2024-03-19 22:41:42.435567: I tensorflow/tsl/cuda/cudart_stub.cc:28] Could not find cuda drivers on your machine, GPU will not be used.\n",
      "2024-03-19 22:41:42.445284: I tensorflow/core/platform/cpu_feature_guard.cc:182] This TensorFlow binary is optimized to use available CPU instructions in performance-critical operations.\n",
      "To enable the following instructions: AVX2 FMA, in other operations, rebuild TensorFlow with the appropriate compiler flags.\n",
      "2024-03-19 22:41:57.855483: W tensorflow/compiler/tf2tensorrt/utils/py_utils.cc:38] TF-TRT Warning: Could not find TensorRT\n"
     ]
    }
   ],
   "source": [
    "import tensorflow as tf\n",
    "import matplotlib.pyplot as plt\n",
    "import pandas as pd\n",
    "import numpy as np\n",
    "import string\n",
    "import os\n",
    "\n",
    "from tensorflow.keras.preprocessing.sequence import pad_sequences\n",
    "from tensorflow.keras.preprocessing.text import Tokenizer\n",
    "from tensorflow.keras.models import Sequential\n",
    "from tensorflow.keras.layers import Embedding, LSTM, Dense, Bidirectional"
   ]
  },
  {
   "cell_type": "markdown",
   "id": "c09b7362",
   "metadata": {},
   "source": [
    "### Get the dataset"
   ]
  },
  {
   "cell_type": "code",
   "execution_count": 2,
   "id": "e8f2d9e8",
   "metadata": {},
   "outputs": [
    {
     "name": "stdout",
     "output_type": "stream",
     "text": [
      "<class 'pandas.core.frame.DataFrame'>\n",
      "RangeIndex: 250 entries, 0 to 249\n",
      "Data columns (total 4 columns):\n",
      " #   Column  Non-Null Count  Dtype \n",
      "---  ------  --------------  ----- \n",
      " 0   artist  250 non-null    object\n",
      " 1   song    250 non-null    object\n",
      " 2   link    250 non-null    object\n",
      " 3   text    250 non-null    object\n",
      "dtypes: object(4)\n",
      "memory usage: 7.9+ KB\n"
     ]
    }
   ],
   "source": [
    "songdata = pd.read_csv(\"/home/login/Documents/songdata.csv\", dtype = str)[:250]\n",
    "songdata.info()"
   ]
  },
  {
   "cell_type": "markdown",
   "id": "8f3a505a",
   "metadata": {},
   "source": [
    "### 250 songs\n",
    "\n",
    "\n",
    "### Preprocessing"
   ]
  },
  {
   "cell_type": "code",
   "execution_count": 3,
   "id": "7f4c421e",
   "metadata": {},
   "outputs": [],
   "source": [
    "def tokenize_corpus(corpus, num_words = -1):\n",
    "    if num_words > -1:\n",
    "        tokenizer = Tokenizer(num_words = num_words)\n",
    "    else:\n",
    "        tokenizer = Tokenizer()\n",
    "    tokenizer.fit_on_texts(corpus)\n",
    "    return tokenizer\n",
    "\n",
    "def create_lyrics_corpus(dataset, field):\n",
    "    dataset[field] = dataset[field].str.replace(\"[{}]\".format(string.punctuation), \"\")\n",
    "    dataset[field] = dataset[field].str.lower()\n",
    "    lyrics = dataset[field].str.cat()\n",
    "    corpus = lyrics.split(\"\\n\")\n",
    "    \n",
    "    for _ in range(len(corpus)):\n",
    "        corpus[_] = corpus[_].rstrip()\n",
    "        \n",
    "    corpus = [_ for _ in corpus if _ != \"\"]\n",
    "    return corpus"
   ]
  },
  {
   "cell_type": "code",
   "execution_count": 4,
   "id": "b61e2274",
   "metadata": {},
   "outputs": [
    {
     "name": "stdout",
     "output_type": "stream",
     "text": [
      "4151\n"
     ]
    }
   ],
   "source": [
    "corpus = create_lyrics_corpus(songdata, \"text\")\n",
    "tokenizer = tokenize_corpus(corpus)\n",
    "\n",
    "total_words = len(tokenizer.word_index) + 1\n",
    "print(total_words)"
   ]
  },
  {
   "cell_type": "markdown",
   "id": "06e70226",
   "metadata": {},
   "source": [
    "### Create sequences"
   ]
  },
  {
   "cell_type": "code",
   "execution_count": 5,
   "id": "ba67c070",
   "metadata": {},
   "outputs": [
    {
     "name": "stdout",
     "output_type": "stream",
     "text": [
      "20\n",
      "[  0   0   0   0   0   0   0   0   0   0   0   0   0   0   0   0   0   0\n",
      " 112  65]\n"
     ]
    }
   ],
   "source": [
    "sequences = []\n",
    "i = 0\n",
    "for line in corpus:\n",
    "    tok_line = tokenizer.texts_to_sequences([line])[0]\n",
    "    for _ in range(1, len(tok_line)):\n",
    "        line_sequences = tok_line[:_+1]\n",
    "        sequences.append(line_sequences)\n",
    "        \n",
    "maxLength = max([len(_) for _ in sequences])\n",
    "padded_sequences = pad_sequences(sequences, maxlen = maxLength, padding = \"pre\")\n",
    "print(maxLength)\n",
    "print(padded_sequences[0, :])"
   ]
  },
  {
   "cell_type": "markdown",
   "id": "7fefbd84",
   "metadata": {},
   "source": [
    "### Create labels"
   ]
  },
  {
   "cell_type": "code",
   "execution_count": 6,
   "id": "ded62151",
   "metadata": {},
   "outputs": [
    {
     "name": "stdout",
     "output_type": "stream",
     "text": [
      "[  0   0   0   0   0   0   0   0   0   0   0   0   0   0   0   0   0   0\n",
      " 112]\n",
      "65\n",
      "[0. 0. 0. ... 0. 0. 0.]\n",
      "[0. 0. 0. ... 0. 0. 0.]\n"
     ]
    }
   ],
   "source": [
    "inputs, labels = padded_sequences[:, :-1], padded_sequences[:, -1]\n",
    "one_hot_labels = tf.keras.utils.to_categorical(labels, num_classes = total_words)\n",
    "print(inputs[0])\n",
    "print(labels[0])\n",
    "print(one_hot_labels[0])\n",
    "print(one_hot_labels[1])"
   ]
  },
  {
   "cell_type": "markdown",
   "id": "1e13c383",
   "metadata": {},
   "source": [
    "### Train a Better Text Generation Model"
   ]
  },
  {
   "cell_type": "code",
   "execution_count": 7,
   "id": "e74dbed1",
   "metadata": {},
   "outputs": [],
   "source": [
    "embedding_dim = 64\n",
    "model = Sequential([\n",
    "    Embedding(total_words, embedding_dim, input_length = maxLength - 1),\n",
    "    Bidirectional(LSTM(20)),\n",
    "    Dense(total_words, activation = \"softmax\")\n",
    "])\n",
    "model.compile(loss = tf.keras.losses.CategoricalCrossentropy(),\n",
    "             optimizer = tf.keras.optimizers.Adam(),\n",
    "             metrics = ['accuracy'])"
   ]
  },
  {
   "cell_type": "code",
   "execution_count": null,
   "id": "cc5ec0a3",
   "metadata": {},
   "outputs": [
    {
     "name": "stderr",
     "output_type": "stream",
     "text": [
      "2024-03-19 22:42:18.186923: W tensorflow/tsl/framework/cpu_allocator_impl.cc:83] Allocation of 836675560 exceeds 10% of free system memory.\n"
     ]
    },
    {
     "name": "stdout",
     "output_type": "stream",
     "text": [
      "Epoch 1/100\n",
      "1575/1575 [==============================] - 46s 20ms/step - loss: 6.3101 - accuracy: 0.0434\n",
      "Epoch 2/100\n",
      "1575/1575 [==============================] - 33s 21ms/step - loss: 5.9236 - accuracy: 0.0510\n",
      "Epoch 3/100\n",
      "1575/1575 [==============================] - 34s 22ms/step - loss: 5.6942 - accuracy: 0.0678\n",
      "Epoch 4/100\n",
      "1575/1575 [==============================] - 42s 27ms/step - loss: 5.4700 - accuracy: 0.0963\n",
      "Epoch 5/100\n",
      "1575/1575 [==============================] - 42s 27ms/step - loss: 5.2810 - accuracy: 0.1175\n",
      "Epoch 6/100\n",
      "1575/1575 [==============================] - 42s 27ms/step - loss: 5.0807 - accuracy: 0.1371\n",
      "Epoch 7/100\n",
      "1575/1575 [==============================] - 44s 28ms/step - loss: 4.8958 - accuracy: 0.1524\n",
      "Epoch 8/100\n",
      "1575/1575 [==============================] - 44s 28ms/step - loss: 4.7355 - accuracy: 0.1685\n",
      "Epoch 9/100\n",
      "1575/1575 [==============================] - 43s 27ms/step - loss: 4.5928 - accuracy: 0.1837\n",
      "Epoch 10/100\n",
      "1575/1575 [==============================] - 43s 28ms/step - loss: 4.4608 - accuracy: 0.1965\n",
      "Epoch 11/100\n",
      "1575/1575 [==============================] - 44s 28ms/step - loss: 4.3411 - accuracy: 0.2083\n",
      "Epoch 12/100\n",
      "1575/1575 [==============================] - 44s 28ms/step - loss: 4.2337 - accuracy: 0.2209\n",
      "Epoch 13/100\n",
      "1575/1575 [==============================] - 45s 29ms/step - loss: 4.1310 - accuracy: 0.2311\n",
      "Epoch 14/100\n",
      "1575/1575 [==============================] - 47s 30ms/step - loss: 4.0394 - accuracy: 0.2436\n",
      "Epoch 15/100\n",
      "1526/1575 [============================>.] - ETA: 1s - loss: 3.9530 - accuracy: 0.2545"
     ]
    }
   ],
   "source": [
    "EPOCHS = 100\n",
    "history = model.fit(inputs, one_hot_labels, epochs = EPOCHS, verbose = 1)"
   ]
  },
  {
   "cell_type": "code",
   "execution_count": null,
   "id": "1b22f227",
   "metadata": {},
   "outputs": [],
   "source": []
  }
 ],
 "metadata": {
  "kernelspec": {
   "display_name": "My Virtual Environment",
   "language": "python",
   "name": "myenv"
  },
  "language_info": {
   "codemirror_mode": {
    "name": "ipython",
    "version": 3
   },
   "file_extension": ".py",
   "mimetype": "text/x-python",
   "name": "python",
   "nbconvert_exporter": "python",
   "pygments_lexer": "ipython3",
   "version": "3.11.4"
  }
 },
 "nbformat": 4,
 "nbformat_minor": 5
}

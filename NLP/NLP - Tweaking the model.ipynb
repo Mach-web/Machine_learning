{
 "cells": [
  {
   "cell_type": "markdown",
   "id": "4d650dad",
   "metadata": {},
   "source": [
    "### SetUp"
   ]
  },
  {
   "cell_type": "code",
   "execution_count": 2,
   "id": "a3bd789d",
   "metadata": {},
   "outputs": [],
   "source": [
    "import numpy as np\n",
    "import pandas as pd\n",
    "import os\n",
    "\n",
    "import tensorflow as tf\n",
    "from tensorflow.keras.preprocessing.text import Tokenizer\n",
    "from tensorflow.keras.preprocessing.sequence import pad_sequences\n",
    "keras = tf.keras"
   ]
  },
  {
   "cell_type": "markdown",
   "id": "36f5ac77",
   "metadata": {},
   "source": [
    "### Get the dataset"
   ]
  },
  {
   "cell_type": "code",
   "execution_count": 11,
   "id": "1a324e67",
   "metadata": {},
   "outputs": [
    {
     "data": {
      "text/html": [
       "<div>\n",
       "<style scoped>\n",
       "    .dataframe tbody tr th:only-of-type {\n",
       "        vertical-align: middle;\n",
       "    }\n",
       "\n",
       "    .dataframe tbody tr th {\n",
       "        vertical-align: top;\n",
       "    }\n",
       "\n",
       "    .dataframe thead th {\n",
       "        text-align: right;\n",
       "    }\n",
       "</style>\n",
       "<table border=\"1\" class=\"dataframe\">\n",
       "  <thead>\n",
       "    <tr style=\"text-align: right;\">\n",
       "      <th></th>\n",
       "      <th>text</th>\n",
       "      <th>sentiment</th>\n",
       "    </tr>\n",
       "  </thead>\n",
       "  <tbody>\n",
       "    <tr>\n",
       "      <th>752</th>\n",
       "      <td>Blue Ant is easy to use.</td>\n",
       "      <td>1</td>\n",
       "    </tr>\n",
       "  </tbody>\n",
       "</table>\n",
       "</div>"
      ],
      "text/plain": [
       "                         text  sentiment\n",
       "752  Blue Ant is easy to use.          1"
      ]
     },
     "execution_count": 11,
     "metadata": {},
     "output_type": "execute_result"
    }
   ],
   "source": [
    "dataset = pd.read_csv('/home/login/Documents/Machine_learning/Datasets/reviews/reviews.csv', index_col = \"Unnamed: 0\")\n",
    "dataset.sample()"
   ]
  },
  {
   "cell_type": "code",
   "execution_count": 19,
   "id": "bcd53ec6",
   "metadata": {},
   "outputs": [
    {
     "name": "stdout",
     "output_type": "stream",
     "text": [
      "True\n",
      "399\n"
     ]
    }
   ],
   "source": [
    "sentences = dataset['text'].tolist()\n",
    "labels = dataset['sentiment'].tolist()\n",
    "\n",
    "print(len(sentences) == len(labels))\n",
    "train_size = int(len(labels) * 0.8)\n",
    "\n",
    "train_sentences = sentences[:train_size]\n",
    "test_sentences = sentences[train_size:]\n",
    "train_labels = labels[:train_size]\n",
    "test_labels = labels[train_size:]\n",
    "\n",
    "train_labels_final = np.array(train_labels)\n",
    "test_labels_final = np.array(test_labels)\n",
    "print(len(test_labels_final))"
   ]
  },
  {
   "cell_type": "markdown",
   "id": "ed7d7a5d",
   "metadata": {},
   "source": [
    "### Tokenize the data(with Tweaks)"
   ]
  },
  {
   "cell_type": "code",
   "execution_count": 47,
   "id": "9dd568f8",
   "metadata": {},
   "outputs": [
    {
     "name": "stdout",
     "output_type": "stream",
     "text": [
      "2834\n"
     ]
    },
    {
     "data": {
      "text/plain": [
       "array([[ 41, 118,   1, ...,   0,   0,   0],\n",
       "       [ 43,  66,  23, ...,   0,   0,   0],\n",
       "       [ 20, 364,  19, ...,   0,   0,   0],\n",
       "       ...,\n",
       "       [255,   4,  10, ...,   0,   0,   0],\n",
       "       [  2,   1, 230, ...,   0,   0,   0],\n",
       "       [125,  32,  46, ...,   0,   0,   0]], dtype=int32)"
      ]
     },
     "execution_count": 47,
     "metadata": {},
     "output_type": "execute_result"
    }
   ],
   "source": [
    "vocab_size = 500\n",
    "embedding_dim = 16\n",
    "max_length = 50\n",
    "trunc_type = 'post'\n",
    "padding_type = 'post'\n",
    "oov_tok = \"<OOV>\"\n",
    "\n",
    "tokenizer = Tokenizer(num_words = vocab_size, oov_token = oov_tok)\n",
    "tokenizer.fit_on_texts(train_sentences)\n",
    "word_index = tokenizer.word_index\n",
    "reverse_word_index = dict([(value, key) for (key, value) in word_index.items()])\n",
    "print(len(reverse_word_index))\n",
    "\n",
    "train_sequences = tokenizer.texts_to_sequences(train_sentences)\n",
    "train_padded = pad_sequences(train_sequences, maxlen = max_length,\n",
    "                            truncating = trunc_type, padding = padding_type)\n",
    "\n",
    "test_sequences = tokenizer.texts_to_sequences(test_sentences)\n",
    "test_padded = pad_sequences(test_sequences, maxlen = max_length,\n",
    "                           truncating = trunc_type, padding = padding_type)\n",
    "test_padded"
   ]
  },
  {
   "cell_type": "markdown",
   "id": "3aa64638",
   "metadata": {},
   "source": [
    "### Train a Sentiment Model (with tweaks)"
   ]
  },
  {
   "cell_type": "code",
   "execution_count": 70,
   "id": "b91795d1",
   "metadata": {},
   "outputs": [
    {
     "name": "stdout",
     "output_type": "stream",
     "text": [
      "Model: \"sequential_8\"\n",
      "_________________________________________________________________\n",
      " Layer (type)                Output Shape              Param #   \n",
      "=================================================================\n",
      " embedding_8 (Embedding)     (None, 50, 16)            8000      \n",
      "                                                                 \n",
      " global_average_pooling1d_6  (None, 16)                0         \n",
      "  (GlobalAveragePooling1D)                                       \n",
      "                                                                 \n",
      " dense_12 (Dense)            (None, 6)                 102       \n",
      "                                                                 \n",
      " dense_13 (Dense)            (None, 1)                 7         \n",
      "                                                                 \n",
      "=================================================================\n",
      "Total params: 8109 (31.68 KB)\n",
      "Trainable params: 8109 (31.68 KB)\n",
      "Non-trainable params: 0 (0.00 Byte)\n",
      "_________________________________________________________________\n"
     ]
    }
   ],
   "source": [
    "model = keras.models.Sequential([\n",
    "    keras.layers.Embedding(vocab_size, embedding_dim, input_length = max_length),\n",
    "    keras.layers.GlobalAveragePooling1D(),\n",
    "    keras.layers.Dense(6, activation = 'relu'),\n",
    "    keras.layers.Dense(1, activation = 'sigmoid')\n",
    "])\n",
    "\n",
    "model.compile(loss = \"binary_crossentropy\",\n",
    "              optimizer = 'adam',\n",
    "             metrics = ['accuracy'])\n",
    "\n",
    "model.summary()"
   ]
  },
  {
   "cell_type": "code",
   "execution_count": 72,
   "id": "40901806",
   "metadata": {},
   "outputs": [
    {
     "name": "stdout",
     "output_type": "stream",
     "text": [
      "Epoch 1/30\n",
      "50/50 [==============================] - 2s 12ms/step - loss: 0.2271 - accuracy: 0.9095 - val_loss: 0.5135 - val_accuracy: 0.7569\n",
      "Epoch 2/30\n",
      "50/50 [==============================] - 0s 3ms/step - loss: 0.2235 - accuracy: 0.9123 - val_loss: 0.5120 - val_accuracy: 0.7617\n",
      "Epoch 3/30\n",
      "50/50 [==============================] - 0s 4ms/step - loss: 0.2194 - accuracy: 0.9093 - val_loss: 0.5105 - val_accuracy: 0.7617\n",
      "Epoch 4/30\n",
      "50/50 [==============================] - 0s 4ms/step - loss: 0.2139 - accuracy: 0.9162 - val_loss: 0.5454 - val_accuracy: 0.7449\n",
      "Epoch 5/30\n",
      "50/50 [==============================] - 0s 3ms/step - loss: 0.2098 - accuracy: 0.9153 - val_loss: 0.5170 - val_accuracy: 0.7641\n",
      "Epoch 6/30\n",
      "50/50 [==============================] - 0s 4ms/step - loss: 0.2071 - accuracy: 0.9137 - val_loss: 0.5539 - val_accuracy: 0.7449\n",
      "Epoch 7/30\n",
      "50/50 [==============================] - 0s 3ms/step - loss: 0.2048 - accuracy: 0.9193 - val_loss: 0.5679 - val_accuracy: 0.7473\n",
      "Epoch 8/30\n",
      "50/50 [==============================] - 0s 3ms/step - loss: 0.1984 - accuracy: 0.9224 - val_loss: 0.5494 - val_accuracy: 0.7521\n",
      "Epoch 9/30\n",
      "50/50 [==============================] - 0s 4ms/step - loss: 0.1948 - accuracy: 0.9206 - val_loss: 0.6075 - val_accuracy: 0.7079\n",
      "Epoch 10/30\n",
      "50/50 [==============================] - 0s 5ms/step - loss: 0.1951 - accuracy: 0.9299 - val_loss: 0.5552 - val_accuracy: 0.7617\n",
      "Epoch 11/30\n",
      "50/50 [==============================] - 0s 4ms/step - loss: 0.1914 - accuracy: 0.9271 - val_loss: 0.5662 - val_accuracy: 0.7593\n",
      "Epoch 12/30\n",
      "50/50 [==============================] - 0s 4ms/step - loss: 0.1890 - accuracy: 0.9244 - val_loss: 0.5797 - val_accuracy: 0.7521\n",
      "Epoch 13/30\n",
      "50/50 [==============================] - 0s 4ms/step - loss: 0.1858 - accuracy: 0.9250 - val_loss: 0.5810 - val_accuracy: 0.7593\n",
      "Epoch 14/30\n",
      "50/50 [==============================] - 0s 4ms/step - loss: 0.1828 - accuracy: 0.9229 - val_loss: 0.5966 - val_accuracy: 0.7401\n",
      "Epoch 15/30\n",
      "50/50 [==============================] - 0s 4ms/step - loss: 0.1791 - accuracy: 0.9286 - val_loss: 0.5843 - val_accuracy: 0.7644\n",
      "Epoch 16/30\n",
      "50/50 [==============================] - 0s 4ms/step - loss: 0.1782 - accuracy: 0.9284 - val_loss: 0.6120 - val_accuracy: 0.7349\n",
      "Epoch 17/30\n",
      "50/50 [==============================] - 0s 4ms/step - loss: 0.1742 - accuracy: 0.9300 - val_loss: 0.5925 - val_accuracy: 0.7548\n",
      "Epoch 18/30\n",
      "50/50 [==============================] - 0s 4ms/step - loss: 0.1747 - accuracy: 0.9296 - val_loss: 0.6287 - val_accuracy: 0.7301\n",
      "Epoch 19/30\n",
      "50/50 [==============================] - 0s 4ms/step - loss: 0.1830 - accuracy: 0.9299 - val_loss: 0.5802 - val_accuracy: 0.7692\n",
      "Epoch 20/30\n",
      "50/50 [==============================] - 0s 4ms/step - loss: 0.1668 - accuracy: 0.9353 - val_loss: 0.6120 - val_accuracy: 0.7548\n",
      "Epoch 21/30\n",
      "50/50 [==============================] - 0s 3ms/step - loss: 0.1697 - accuracy: 0.9354 - val_loss: 0.6809 - val_accuracy: 0.7181\n",
      "Epoch 22/30\n",
      "50/50 [==============================] - 0s 4ms/step - loss: 0.1663 - accuracy: 0.9342 - val_loss: 0.6410 - val_accuracy: 0.7500\n",
      "Epoch 23/30\n",
      "50/50 [==============================] - 0s 4ms/step - loss: 0.1665 - accuracy: 0.9320 - val_loss: 0.6723 - val_accuracy: 0.7229\n",
      "Epoch 24/30\n",
      "50/50 [==============================] - 0s 4ms/step - loss: 0.1615 - accuracy: 0.9406 - val_loss: 0.6895 - val_accuracy: 0.7181\n",
      "Epoch 25/30\n",
      "50/50 [==============================] - 0s 4ms/step - loss: 0.1594 - accuracy: 0.9388 - val_loss: 0.6664 - val_accuracy: 0.7353\n",
      "Epoch 26/30\n",
      "50/50 [==============================] - 0s 4ms/step - loss: 0.1586 - accuracy: 0.9398 - val_loss: 0.7052 - val_accuracy: 0.7229\n",
      "Epoch 27/30\n",
      "50/50 [==============================] - 0s 4ms/step - loss: 0.1593 - accuracy: 0.9394 - val_loss: 0.6687 - val_accuracy: 0.7452\n",
      "Epoch 28/30\n",
      "50/50 [==============================] - 0s 4ms/step - loss: 0.1556 - accuracy: 0.9430 - val_loss: 0.6494 - val_accuracy: 0.7572\n",
      "Epoch 29/30\n",
      "50/50 [==============================] - 0s 4ms/step - loss: 0.1537 - accuracy: 0.9438 - val_loss: 0.7247 - val_accuracy: 0.7205\n",
      "Epoch 30/30\n",
      "50/50 [==============================] - 0s 5ms/step - loss: 0.1563 - accuracy: 0.9409 - val_loss: 0.7052 - val_accuracy: 0.7353\n"
     ]
    }
   ],
   "source": [
    "EPOCHS = 30\n",
    "history = model.fit(train_padded, train_labels_final, epochs = EPOCHS, \n",
    "                    validation_data = (test_padded, test_labels_final))"
   ]
  },
  {
   "cell_type": "code",
   "execution_count": null,
   "id": "9f6fa245",
   "metadata": {},
   "outputs": [],
   "source": []
  }
 ],
 "metadata": {
  "kernelspec": {
   "display_name": "My Virtual Environment",
   "language": "python",
   "name": "myenv"
  },
  "language_info": {
   "codemirror_mode": {
    "name": "ipython",
    "version": 3
   },
   "file_extension": ".py",
   "mimetype": "text/x-python",
   "name": "python",
   "nbconvert_exporter": "python",
   "pygments_lexer": "ipython3",
   "version": "3.11.4"
  }
 },
 "nbformat": 4,
 "nbformat_minor": 5
}

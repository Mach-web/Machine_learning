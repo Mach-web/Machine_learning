{
 "cells": [
  {
   "cell_type": "markdown",
   "id": "f5225ae9",
   "metadata": {},
   "source": [
    "# Implementing Regularization\n",
    "In this exercise, you will implement both L1 and L2 regularization from scratch in NumPy. \n",
    "In PyTorch, L2 regularization is typically handled in the optimizer, via the `weight_decay` parameter, but we will also implement a manual L1 and L2 loss penalty in PyTorch. "
   ]
  },
  {
   "cell_type": "code",
   "execution_count": 1,
   "id": "2e67fb13",
   "metadata": {},
   "outputs": [],
   "source": [
    "# DO NOT EDIT THIS CELL\n",
    "import numpy as np\n",
    "import torch\n",
    "from torch import nn\n",
    "from torch import optim\n",
    "import torch.nn.functional as F\n",
    "from torch.utils.data import DataLoader\n",
    "from torchvision import transforms\n",
    "from torchvision import datasets\n",
    "import matplotlib.pyplot as plt"
   ]
  },
  {
   "cell_type": "markdown",
   "id": "adb93ba8",
   "metadata": {},
   "source": [
    "## L1 Regularization -- Numpy\n",
    "L1 regularization is the sum of the absolute values of the weights times a scaling constant, lambda.\n",
    "Below, you will define the function `l1_regularization` that accepts an input vector and a scalar constant, lambda.\n",
    "\n",
    "**NOTE:** We use the variable name `lamb` rather than `lambda` since `lambda` is a keyword in Python. "
   ]
  },
  {
   "cell_type": "code",
   "execution_count": 2,
   "id": "572cf0b0",
   "metadata": {},
   "outputs": [],
   "source": [
    "def l1_regularization(weights, lamb):\n",
    "    absolute_weights = np.abs(weights)\n",
    "    return lamb * np.sum(absolute_weights)"
   ]
  },
  {
   "cell_type": "code",
   "execution_count": 3,
   "id": "f223a4c2",
   "metadata": {},
   "outputs": [
    {
     "name": "stdout",
     "output_type": "stream",
     "text": [
      "Great work!\n"
     ]
    }
   ],
   "source": [
    "# Grading code. Run this cell to test your code!\n",
    "grading_vector = np.array([1, -2, 3, -4])\n",
    "assert l1_regularization(grading_vector, 0.5) == 5, f\"Your L1 regularization implementation seems to be incorrect. Expected 5, got {l1_regularization(grading_vector, 0.5)}\"\n",
    "assert l1_regularization(grading_vector, 1) == 10, f\"Your L1 regularization implementation seems to be incorrect. Expected 10, got {l1_regularization(grading_vector, 1)}\"\n",
    "\n",
    "print(\"Great work!\")"
   ]
  },
  {
   "cell_type": "markdown",
   "id": "f504e737",
   "metadata": {},
   "source": [
    "## L2 Regularization -- Numpy\n",
    "L2 regularization squares the weights inside the vector and returns the sum of those squares times a scaling constant, lambda. \n",
    "Below, you will define the function `l2_regularization`, which accepts an input vector and a scalar constant, lambda."
   ]
  },
  {
   "cell_type": "code",
   "execution_count": 7,
   "id": "5a5d546e",
   "metadata": {},
   "outputs": [
    {
     "data": {
      "text/plain": [
       "7.5"
      ]
     },
     "execution_count": 7,
     "metadata": {},
     "output_type": "execute_result"
    }
   ],
   "source": [
    "np.dot(np.array([0.5, -1, 1.5, -2]), np.array([0.5, -1, 1.5, -2]).T)"
   ]
  },
  {
   "cell_type": "code",
   "execution_count": 8,
   "id": "65b000de",
   "metadata": {},
   "outputs": [],
   "source": [
    "def l2_regularization(weights, lamb):\n",
    "    squared_weights = np.dot(weights, weights.T)\n",
    "    return lamb * squared_weights"
   ]
  },
  {
   "cell_type": "code",
   "execution_count": 9,
   "id": "8f909714",
   "metadata": {},
   "outputs": [
    {
     "name": "stdout",
     "output_type": "stream",
     "text": [
      "Great work!\n"
     ]
    }
   ],
   "source": [
    "# Grading code. Run this cell to test your code!\n",
    "grading_vector = np.array([0.5, -1, 1.5, -2])\n",
    "assert l2_regularization(grading_vector, 0.5) == 3.75, f\"Your L2 regularization implementation seems to be incorrect. Expected 3.75, got {l2_regularization(grading_vector, 0.5)}\"\n",
    "assert l2_regularization(grading_vector, 1) == 7.5, f\"Your L2 regularization implementation seems to be incorrect. Expected 7.5, got {l2_regularization(grading_vector, 1)}\"\n",
    "\n",
    "print(\"Great work!\")"
   ]
  },
  {
   "cell_type": "markdown",
   "id": "a8472342",
   "metadata": {},
   "source": [
    "## Regularization in PyTorch\n",
    "Although L2 regularization is typically handled via the `weight_decay` parameter in your optimizer, we can compute L1 and L2 regularization by hand. \n",
    "We do this by iterating over the parameters in our model using the `net.parameters()` method.\n",
    "\n",
    "Rather than establishing a model, training it, and testing it, we will manually set the model weights."
   ]
  },
  {
   "cell_type": "code",
   "execution_count": 10,
   "id": "e2d28fc9",
   "metadata": {},
   "outputs": [],
   "source": [
    "# Setting up our net for testing\n",
    "net = nn.Sequential(nn.Linear(4, 1, bias=False))\n",
    "# Make it so autograd doesn't track our changes\n",
    "with torch.no_grad():\n",
    "    net[0].weight = nn.Parameter(torch.ones_like(net[0].weight))\n",
    "    net[0].weight.fill_(2.0)"
   ]
  },
  {
   "cell_type": "code",
   "execution_count": 11,
   "id": "d0399971",
   "metadata": {},
   "outputs": [],
   "source": [
    "# Define L1 loss\n",
    "def l1_torch(model, lamb):\n",
    "    return lamb * sum([p.abs().sum() for p in model.parameters()])\n",
    "\n",
    "# Define L2 loss\n",
    "def l2_torch(model, lamb):\n",
    "    return lamb * sum([(p**2).sum() for p in model.parameters()])"
   ]
  },
  {
   "cell_type": "code",
   "execution_count": 12,
   "id": "16c4d98f",
   "metadata": {},
   "outputs": [
    {
     "name": "stdout",
     "output_type": "stream",
     "text": [
      "Great work!\n"
     ]
    }
   ],
   "source": [
    "# Grading code\n",
    "assert l1_torch(net, 1) == 8, f\"There is something wrong with your L1 regularization implementation. Expected 8, got {l1_torch(net, 1)}\"\n",
    "assert l1_torch(net, 0.5) == 4, f\"There is something wrong with your L1 regularization implementation. Expected 4, got {l1_torch(net, 0.5)}\"\n",
    "\n",
    "assert l2_torch(net, 1) == 16, f\"There is something wrong with your L2 regularization implementation. Expected 16, got {l2_torch(net, 1)}\"\n",
    "assert l2_torch(net, 0.25) == 4, f\"There is something wrong with your L2 regularization implementation. Expected 4, got {l2_torch(net, 0.25)}\"\n",
    "\n",
    "print(\"Great work!\")"
   ]
  },
  {
   "cell_type": "code",
   "execution_count": null,
   "id": "38614bf0",
   "metadata": {},
   "outputs": [],
   "source": []
  }
 ],
 "metadata": {
  "kernelspec": {
   "display_name": "Python 3 (ipykernel)",
   "language": "python",
   "name": "python3"
  },
  "language_info": {
   "codemirror_mode": {
    "name": "ipython",
    "version": 3
   },
   "file_extension": ".py",
   "mimetype": "text/x-python",
   "name": "python",
   "nbconvert_exporter": "python",
   "pygments_lexer": "ipython3",
   "version": "3.11.7"
  }
 },
 "nbformat": 4,
 "nbformat_minor": 5
}

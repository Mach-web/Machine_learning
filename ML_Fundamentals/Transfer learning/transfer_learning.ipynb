{
 "cells": [
  {
   "cell_type": "code",
   "execution_count": null,
   "id": "82d1cabb",
   "metadata": {},
   "outputs": [],
   "source": [
    "# Install some dependencies\n",
    "!pip install -r requirements.txt"
   ]
  },
  {
   "cell_type": "markdown",
   "id": "b4c47e01",
   "metadata": {},
   "source": [
    "> **NOTE: Wait for the previous cell to complete, then restart the kernel before running the next cell. This ensures that the dependencies we have just installed will work. Otherwise you may receive an error when running imports in the next cell!**"
   ]
  },
  {
   "cell_type": "markdown",
   "id": "ea292800",
   "metadata": {},
   "source": [
    "# Transfer Learning\n",
    "\n",
    "In many real-world situations you will not want to train a whole convolutional network from scratch, unless you happen to have a very large dataset and a lot of compute resources. Training a modern CNN on a dataset like ImageNet takes days or weeks on multiple GPUs. Instead, in most cases you will be using Transfer Learning.\n",
    "\n",
    "<center><img src=\"notebook_ims/fine_tune_quadrants.png\" width=\"80%\"></center>\n",
    "\n",
    "In this notebook, you'll be modeling a small dataset of fewer than 5000 natural images. As the diagram above suggests, in a case like this you can use the pre-trained network as a feature extractor and substitute the head. Since 5000 is small but not very small, you can also try to squeeze some more performance by fine-tuning the rest of the network. You will need to use a learning rate small enough so you do not destroy the filters that the network has learned on ImageNet.\n",
    "\n",
    "In this exercise you will load a pre-trained ResNet model, remove the head, and substitute it with your own head. Then you will fix the feature extractor part and train the head. It is relatively easy to approach an accuracy of around 90% by using this transfer learning technique! Then you will fine-tune the rest of the network. Be careful in using a small learning rate! Experimentation usually is needed to find the right learning rate. Here we will use 1/100th of the initial learning rate. \n",
    "\n",
    "Let's start by importing a few modules and functions:"
   ]
  },
  {
   "cell_type": "code",
   "execution_count": 1,
   "id": "ceba0871",
   "metadata": {
    "jupyter": {
     "is_executing": true
    }
   },
   "outputs": [],
   "source": [
    "import torchvision.datasets\n",
    "import torchvision.transforms as T\n",
    "import torchvision.models\n",
    "import torch.optim\n",
    "from torch import nn\n",
    "from helpers import *\n",
    "import timm\n",
    "from lr_finder import lr_finder\n",
    "import glob\n",
    "import matplotlib.pyplot as plt"
   ]
  },
  {
   "cell_type": "markdown",
   "id": "3a4b7963",
   "metadata": {},
   "source": [
    "Now let's create the data loaders. \n",
    "\n",
    "When the dataset is small it is difficult to split the dataset 3 ways (train, validation, and test) because you might not have enough data to train, validate, or test. Instead, you can use k-fold cross-validation: you divide the dataset in k parts, then you repeat the training k times, each time taking k-1 parts as your training dataset, and the remaining k-th part as your validation. You record your metrics for each iteration,  then you use the average performance as your metric.\n",
    "\n",
    "However, to make things faster for this exercise, we will execute only one run of cross-validation among the k runs we should do in reality.\n",
    "\n",
    "For simplicity we provide the code in the `helpers.py` file; feel free to look into it to see how the data is loaded. Note that the first time the code will compute the mean and std of the dataset, to be used in the `Normalize` transform in the data loaders (see the code in `helpers.py` for details):"
   ]
  },
  {
   "cell_type": "code",
   "execution_count": 2,
   "id": "04c1e07d-886c-4b6e-a813-88a42345c777",
   "metadata": {},
   "outputs": [
    {
     "data": {
      "text/plain": [
       "True"
      ]
     },
     "execution_count": 2,
     "metadata": {},
     "output_type": "execute_result"
    }
   ],
   "source": [
    "data_path = \"C:\\\\Users\\\\mkand\\\\Documents\\\\Data\\\\flower\"\n",
    "os.path.exists(data_path)"
   ]
  },
  {
   "cell_type": "code",
   "execution_count": 5,
   "id": "f5890c8d",
   "metadata": {},
   "outputs": [
    {
     "name": "stdout",
     "output_type": "stream",
     "text": [
      "Reusing cached mean and std\n",
      "Dataset mean: tensor([0.4589, 0.4200, 0.3004]), std: tensor([0.3005, 0.2702, 0.2941])\n",
      "Reusing cached mean and std\n"
     ]
    }
   ],
   "source": [
    "data_loaders = get_data_loaders(batch_size=32, rand_augment_magnitude=15)"
   ]
  },
  {
   "cell_type": "code",
   "execution_count": 6,
   "id": "d8167826",
   "metadata": {},
   "outputs": [],
   "source": [
    "classes = [\"daisy\", \"tulip\", \"dandelion\", \"sunflower\", \"rose\"]"
   ]
  },
  {
   "cell_type": "markdown",
   "id": "09eac951",
   "metadata": {},
   "source": [
    "# Create the model and substitute the head\n",
    "Let's now load a pretrained model and substitute its head. Let's use a `resnet50` from `torchvision` and substitute its head with a fully-connected layer (`Linear`) with the right input and output dimension:"
   ]
  },
  {
   "cell_type": "code",
   "execution_count": 15,
   "id": "3a5f24f8",
   "metadata": {},
   "outputs": [
    {
     "name": "stdout",
     "output_type": "stream",
     "text": [
      "2048\n"
     ]
    }
   ],
   "source": [
    "# Load a resnet50 from torchvision\n",
    "model =  torchvision.models.resnet50(pretrained=True)# YOUR CODE HERE. Remember to use pretrained=True\n",
    "\n",
    "n_classes = len(classes)\n",
    "n_inputs = model.fc.in_features\n",
    "print(n_inputs)\n",
    "# Add a new linear layer in place of the existing one\n",
    "model.fc = nn.Sequential(\n",
    "    nn.BatchNorm1d(n_inputs),\n",
    "    nn.Linear(n_inputs, int(n_inputs * 0.5)),\n",
    "    nn.ReLU(),\n",
    "\n",
    "    nn.BatchNorm1d(int(n_inputs * 0.5)),\n",
    "    nn.Linear(int(n_inputs * 0.5), int(n_inputs * 0.25)),\n",
    "    nn.Dropout(0.5),\n",
    "    \n",
    "    nn.Linear(int(n_inputs * 0.25), n_classes) \n",
    ")"
   ]
  },
  {
   "cell_type": "markdown",
   "id": "188c3d57",
   "metadata": {},
   "source": [
    "We could have done the same by using TIMM:"
   ]
  },
  {
   "cell_type": "code",
   "execution_count": 17,
   "id": "f34dc704",
   "metadata": {},
   "outputs": [
    {
     "data": {
      "application/vnd.jupyter.widget-view+json": {
       "model_id": "d947164626504ab19763995071d9d404",
       "version_major": 2,
       "version_minor": 0
      },
      "text/plain": [
       "model.safetensors:   0%|          | 0.00/102M [00:00<?, ?B/s]"
      ]
     },
     "metadata": {},
     "output_type": "display_data"
    }
   ],
   "source": [
    "# We can also use TIMM to get a pre-trained model\n",
    "model = timm.create_model(\"resnet50\", pretrained=True, num_classes=n_classes)"
   ]
  },
  {
   "cell_type": "markdown",
   "id": "76153206",
   "metadata": {},
   "source": [
    "## Freeze the backbone and thaw the head\n",
    "Now we need to freeze all layers except the one we just added. Let's keep track of the parameters we are freezing so we will be able to free them later:"
   ]
  },
  {
   "cell_type": "code",
   "execution_count": null,
   "id": "f54c992a",
   "metadata": {},
   "outputs": [],
   "source": [
    "frozen_parameters = []\n",
    "\n",
    "for p in model.parameters():\n",
    "    # Freeze only parameters that are not already frozen\n",
    "    # (if any)\n",
    "    if p.requires_grad:\n",
    "        # Freeze this parameter\n",
    "        p.requires_grad = False\n",
    "        # YOUR CODE HERE\n",
    "        \n",
    "        frozen_parameters.append(p)\n",
    "\n",
    "print(f\"Froze {len(frozen_parameters)} groups of parameters\")\n",
    "\n",
    "# Now let's thaw the parameters of the head we have\n",
    "# added\n",
    "for p in model.fc.parameters():\n",
    "    # Thaw this parameter\n",
    "    # YOUR CODE HERE\n",
    "    P.requires_grad = True"
   ]
  },
  {
   "cell_type": "markdown",
   "id": "009bd575",
   "metadata": {},
   "source": [
    "## Train\n",
    "Now we can train our model. We start with the usual learning rate finder:"
   ]
  },
  {
   "cell_type": "code",
   "execution_count": null,
   "id": "d670e865",
   "metadata": {},
   "outputs": [],
   "source": [
    "loss = nn.CrossEntropyLoss()"
   ]
  },
  {
   "cell_type": "code",
   "execution_count": null,
   "id": "1b0bcd0c",
   "metadata": {},
   "outputs": [],
   "source": [
    "losses = lr_finder(1e-5, 0.1, 100, loss, model, data_loaders)"
   ]
  },
  {
   "cell_type": "code",
   "execution_count": null,
   "id": "e1a06af5",
   "metadata": {},
   "outputs": [],
   "source": [
    "_ = plt.plot(losses.keys(), losses.values())\n",
    "_ = plt.xscale(\"log\")\n",
    "\n",
    "# You might need to adjust this to cover the right\n",
    "# portion of the y axis to better see the decrease\n",
    "# in the loss before it shoots up again\n",
    "_ = plt.ylim([1.57, 1.75])"
   ]
  },
  {
   "cell_type": "markdown",
   "id": "6eff1bde",
   "metadata": {},
   "source": [
    "Looks like a good learning rate is 0.005. Let's train first the head for a few epochs, to bring its weights (that right now are randomly initialized) to a place where they interact well with the feature extraction part:"
   ]
  },
  {
   "cell_type": "code",
   "execution_count": null,
   "id": "69bd2e8e",
   "metadata": {},
   "outputs": [],
   "source": [
    "n_epochs = 5\n",
    "lr = 0.005\n",
    "\n",
    "# Create an Adam optimizer that uses the learning rate in the\n",
    "# variable lr\n",
    "optimizer = # YOUR CODE HERE\n",
    "\n",
    "optimize(\n",
    "    data_loaders, \n",
    "    model, \n",
    "    optimizer, \n",
    "    loss, \n",
    "    n_epochs, \n",
    "    'initial.pt', \n",
    "    interactive_tracking=True\n",
    ")"
   ]
  },
  {
   "cell_type": "code",
   "execution_count": null,
   "id": "328a15ca",
   "metadata": {},
   "outputs": [],
   "source": [
    "_ = one_epoch_test(data_loaders['valid'], model, loss)"
   ]
  },
  {
   "cell_type": "markdown",
   "id": "a1744d3e",
   "metadata": {},
   "source": [
    "Just by training the new head for a few epochs we reached already a very good performance. Now let's unfreeze the parameters we have frozen before:"
   ]
  },
  {
   "cell_type": "code",
   "execution_count": null,
   "id": "13e8c9f8",
   "metadata": {},
   "outputs": [],
   "source": [
    "# Thaw parameters we had frozen before\n",
    "for p in frozen_parameters:\n",
    "    p.requires_grad = True"
   ]
  },
  {
   "cell_type": "markdown",
   "id": "24987058",
   "metadata": {},
   "source": [
    "and let's fine-tune the model. Remember to use a learning rate that is much smaller than what we used before. This is to avoid getting large steps, that would destroy the advantage of using a pre-trained network. For example, you might use a learning rate 100 times smaller than what we used before:"
   ]
  },
  {
   "cell_type": "code",
   "execution_count": null,
   "id": "472f9dac",
   "metadata": {},
   "outputs": [],
   "source": [
    "n_epochs = 10\n",
    "lr = # YOUR CODE HERE\n",
    "\n",
    "optimizer = torch.optim.Adam(model.parameters(), lr)\n",
    "\n",
    "optimize(\n",
    "    data_loaders,\n",
    "    model,\n",
    "    optimizer,\n",
    "    loss,\n",
    "    n_epochs,\n",
    "    \"best.pt\",\n",
    "    interactive_tracking=True,\n",
    ")"
   ]
  },
  {
   "cell_type": "code",
   "execution_count": null,
   "id": "bad77e98",
   "metadata": {},
   "outputs": [],
   "source": [
    "_ = one_epoch_test(data_loaders['valid'], model, loss)"
   ]
  },
  {
   "cell_type": "markdown",
   "id": "f56c6d0a",
   "metadata": {},
   "source": [
    "With fine-tuning we have significantly increased our performance to 95%! \n",
    "\n",
    "Now let's see what would happen if we train from scratch. \n",
    "\n",
    "The following code does just that. We have already executed it because it takes a long time. As you can see, despite training for 10x more epochs than when using transfer learning, our performance is significantly worse!\n",
    "\n",
    "Can you explain why?"
   ]
  },
  {
   "cell_type": "code",
   "execution_count": 5,
   "id": "f8c2ee6c",
   "metadata": {},
   "outputs": [],
   "source": [
    "# Let's train from scratch\n",
    "model = torchvision.models.resnet50(pretrained=False)\n",
    "n_classes = len(classes)\n",
    "n_inputs = model.fc.in_features\n",
    "model.fc = nn.Linear(n_inputs, n_classes)"
   ]
  },
  {
   "cell_type": "code",
   "execution_count": 7,
   "id": "c775796a",
   "metadata": {},
   "outputs": [],
   "source": [
    "loss = nn.CrossEntropyLoss()"
   ]
  },
  {
   "cell_type": "code",
   "execution_count": 7,
   "id": "f8d6ac26",
   "metadata": {},
   "outputs": [],
   "source": [
    "losses = lr_finder(1e-5, 0.2, 100, loss, model, data_loaders)"
   ]
  },
  {
   "cell_type": "code",
   "execution_count": 9,
   "id": "38c30af7",
   "metadata": {},
   "outputs": [
    {
     "data": {
      "image/png": "[encoded data removed]",
      "text/plain": [
       "<Figure size 432x288 with 1 Axes>"
      ]
     },
     "metadata": {
      "needs_background": "light"
     },
     "output_type": "display_data"
    }
   ],
   "source": [
    "_ = plt.plot(losses.keys(), losses.values())\n",
    "_ = plt.xscale(\"log\")\n",
    "_ = plt.ylim([1.63, 1.7])"
   ]
  },
  {
   "cell_type": "code",
   "execution_count": 10,
   "id": "de097984",
   "metadata": {},
   "outputs": [
    {
     "data": {
      "image/png": "[encoded data removed]",
      "text/plain": [
       "<Figure size 864x576 with 2 Axes>"
      ]
     },
     "metadata": {
      "needs_background": "light"
     },
     "output_type": "display_data"
    }
   ],
   "source": [
    "optimize(data_loaders, model, torch.optim.Adam(model.parameters(), 0.001), loss, 100, 'best_scratch.pt', interactive_tracking=True)"
   ]
  },
  {
   "cell_type": "code",
   "execution_count": 11,
   "id": "800c5d59",
   "metadata": {},
   "outputs": [
    {
     "name": "stderr",
     "output_type": "stream",
     "text": [
      "Testing: 100%|██████████████████████████████████| 27/27 [00:08<00:00,  3.31it/s]"
     ]
    },
    {
     "name": "stdout",
     "output_type": "stream",
     "text": [
      "Test Loss: 0.384210\n",
      "\n",
      "\n",
      "Test Accuracy: 87% (752/864)\n"
     ]
    },
    {
     "name": "stderr",
     "output_type": "stream",
     "text": [
      "\n"
     ]
    }
   ],
   "source": [
    "_ = one_epoch_test(data_loaders['valid'], model, loss)"
   ]
  },
  {
   "cell_type": "code",
   "execution_count": null,
   "id": "c45e9f89",
   "metadata": {},
   "outputs": [],
   "source": []
  }
 ],
 "metadata": {
  "kernelspec": {
   "display_name": "Python (ML)",
   "language": "python",
   "name": "machine_learning"
  },
  "language_info": {
   "codemirror_mode": {
    "name": "ipython",
    "version": 3
   },
   "file_extension": ".py",
   "mimetype": "text/x-python",
   "name": "python",
   "nbconvert_exporter": "python",
   "pygments_lexer": "ipython3",
   "version": "3.11.9"
  },
  "widgets": {
   "application/vnd.jupyter.widget-state+json": {
    "state": {},
    "version_major": 2,
    "version_minor": 0
   }
  }
 },
 "nbformat": 4,
 "nbformat_minor": 5
}

{
 "cells": [
  {
   "cell_type": "markdown",
   "id": "ad9c6cd9",
   "metadata": {},
   "source": [
    "### recognize_sentiment_sarcasm.ipynb\n",
    "\n",
    "Trained a model to predict if a news headline is sarcastic or not.\n",
    "\n",
    "### Standardization in sklearn.ipynb\n",
    "\n",
    "Used StandardScaler, MinMaxScaler to standardize values in sklearn.\n",
    "\n",
    "### create_poetry.ipynb\n",
    "\n",
    "Given an irish poem, created a model using rnn to generate a new poem.\n",
    "\n",
    "### headline sarcasm\n",
    "\n",
    "Contains data for sarcastic headlines."
   ]
  }
 ],
 "metadata": {
  "kernelspec": {
   "display_name": "Python 3 (ipykernel)",
   "language": "python",
   "name": "python3"
  },
  "language_info": {
   "codemirror_mode": {
    "name": "ipython",
    "version": 3
   },
   "file_extension": ".py",
   "mimetype": "text/x-python",
   "name": "python",
   "nbconvert_exporter": "python",
   "pygments_lexer": "ipython3",
   "version": "3.11.4"
  }
 },
 "nbformat": 4,
 "nbformat_minor": 5
}

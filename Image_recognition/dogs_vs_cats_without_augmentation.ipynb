{
 "cells": [
  {
   "cell_type": "markdown",
   "id": "df3a539d",
   "metadata": {},
   "source": [
    "## Dogs vs Cats image classification (without image augmentation)"
   ]
  },
  {
   "cell_type": "markdown",
   "id": "b8094373",
   "metadata": {},
   "source": [
    "### Importing packages"
   ]
  },
  {
   "cell_type": "code",
   "execution_count": 3,
   "id": "fd6ca01e",
   "metadata": {},
   "outputs": [],
   "source": [
    "from __future__ import absolute_import, division, print_function\n",
    "\n",
    "import numpy as np\n",
    "import os\n",
    "import matplotlib.pyplot as plt\n",
    "import tensorflow as tf\n",
    "from tensorflow.keras.preprocessing.image import ImageDataGenerator"
   ]
  },
  {
   "cell_type": "markdown",
   "id": "dfa0109f",
   "metadata": {},
   "source": [
    "### Data loading"
   ]
  },
  {
   "cell_type": "code",
   "execution_count": 4,
   "id": "7688e2e4",
   "metadata": {},
   "outputs": [
    {
     "name": "stdout",
     "output_type": "stream",
     "text": [
      "['validation', 'train', 'vectorize.py']\n",
      "/home/login/Documents/Machine_learning/Datasets/cats_and_dogs_filtered\r\n",
      "/home/login/Documents/Machine_learning/Datasets/cats_and_dogs_filtered/validation\r\n",
      "/home/login/Documents/Machine_learning/Datasets/cats_and_dogs_filtered/validation/dogs\r\n",
      "/home/login/Documents/Machine_learning/Datasets/cats_and_dogs_filtered/validation/cats\r\n",
      "/home/login/Documents/Machine_learning/Datasets/cats_and_dogs_filtered/train\r\n",
      "/home/login/Documents/Machine_learning/Datasets/cats_and_dogs_filtered/train/dogs\r\n",
      "/home/login/Documents/Machine_learning/Datasets/cats_and_dogs_filtered/train/cats\r\n"
     ]
    }
   ],
   "source": [
    "dir_name = os.path.dirname(\"/home/login/Documents/Machine_learning/Datasets/cats_and_dogs_filtered/\")\n",
    "print(os.listdir(dir_name))\n",
    "!find $dir_name -type d -print"
   ]
  },
  {
   "cell_type": "code",
   "execution_count": 5,
   "id": "d4c0bf25",
   "metadata": {},
   "outputs": [
    {
     "data": {
      "text/plain": [
       "'/home/login/Documents/Machine_learning/Datasets/cats_and_dogs_filtered/validation/dogs'"
      ]
     },
     "execution_count": 5,
     "metadata": {},
     "output_type": "execute_result"
    }
   ],
   "source": [
    "train_dir = os.path.join(dir_name, \"train\")\n",
    "val_dir = os.path.join(dir_name, \"validation\")\n",
    "\n",
    "train_dogs_dir = os.path.join(train_dir, \"dogs\")\n",
    "train_cats_dir = os.path.join(train_dir, \"cats\")\n",
    "val_cats_dir = os.path.join(val_dir, \"cats\")\n",
    "val_dogs_dir = os.path.join(val_dir, \"dogs\")\n",
    "val_dogs_dir"
   ]
  },
  {
   "cell_type": "code",
   "execution_count": null,
   "id": "31b83c18",
   "metadata": {},
   "outputs": [],
   "source": []
  }
 ],
 "metadata": {
  "kernelspec": {
   "display_name": "My Virtual Environment",
   "language": "python",
   "name": "myenv"
  },
  "language_info": {
   "codemirror_mode": {
    "name": "ipython",
    "version": 3
   },
   "file_extension": ".py",
   "mimetype": "text/x-python",
   "name": "python",
   "nbconvert_exporter": "python",
   "pygments_lexer": "ipython3",
   "version": "3.11.4"
  }
 },
 "nbformat": 4,
 "nbformat_minor": 5
}

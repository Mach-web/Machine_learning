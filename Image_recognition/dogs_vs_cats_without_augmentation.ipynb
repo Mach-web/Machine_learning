{
 "cells": [
  {
   "cell_type": "markdown",
   "id": "df3a539d",
   "metadata": {},
   "source": [
    "## Dogs vs Cats image classification (without image augmentation)"
   ]
  },
  {
   "cell_type": "markdown",
   "id": "b8094373",
   "metadata": {},
   "source": [
    "### Importing packages"
   ]
  },
  {
   "cell_type": "code",
   "execution_count": 1,
   "id": "fd6ca01e",
   "metadata": {},
   "outputs": [
    {
     "name": "stderr",
     "output_type": "stream",
     "text": [
      "2024-02-22 07:44:35.949168: I tensorflow/tsl/cuda/cudart_stub.cc:28] Could not find cuda drivers on your machine, GPU will not be used.\n",
      "2024-02-22 07:44:40.239821: I tensorflow/tsl/cuda/cudart_stub.cc:28] Could not find cuda drivers on your machine, GPU will not be used.\n",
      "2024-02-22 07:44:40.275415: I tensorflow/core/platform/cpu_feature_guard.cc:182] This TensorFlow binary is optimized to use available CPU instructions in performance-critical operations.\n",
      "To enable the following instructions: AVX2 FMA, in other operations, rebuild TensorFlow with the appropriate compiler flags.\n",
      "2024-02-22 07:44:52.927813: W tensorflow/compiler/tf2tensorrt/utils/py_utils.cc:38] TF-TRT Warning: Could not find TensorRT\n"
     ]
    }
   ],
   "source": [
    "from __future__ import absolute_import, division, print_function\n",
    "\n",
    "import numpy as np\n",
    "import os\n",
    "import matplotlib.pyplot as plt\n",
    "import tensorflow as tf\n",
    "from tensorflow.keras.preprocessing.image import ImageDataGenerator"
   ]
  },
  {
   "cell_type": "markdown",
   "id": "dfa0109f",
   "metadata": {},
   "source": [
    "### Data loading"
   ]
  },
  {
   "cell_type": "code",
   "execution_count": 6,
   "id": "7688e2e4",
   "metadata": {},
   "outputs": [
    {
     "name": "stdout",
     "output_type": "stream",
     "text": [
      "['validation', 'train', 'vectorize.py']\n",
      "/home/login/Documents/Machine_learning/Datasets/cats_and_dogs_filtered\r\n",
      "/home/login/Documents/Machine_learning/Datasets/cats_and_dogs_filtered/validation\r\n",
      "/home/login/Documents/Machine_learning/Datasets/cats_and_dogs_filtered/validation/dogs\r\n",
      "/home/login/Documents/Machine_learning/Datasets/cats_and_dogs_filtered/validation/cats\r\n",
      "/home/login/Documents/Machine_learning/Datasets/cats_and_dogs_filtered/train\r\n",
      "/home/login/Documents/Machine_learning/Datasets/cats_and_dogs_filtered/train/dogs\r\n",
      "/home/login/Documents/Machine_learning/Datasets/cats_and_dogs_filtered/train/cats\r\n"
     ]
    }
   ],
   "source": [
    "dir_name = os.path.dirname(\"/home/login/Documents/Machine_learning/Datasets/cats_and_dogs_filtered/\")\n",
    "print(os.listdir(dir_name))\n",
    "!find $dir_name -type d -print"
   ]
  },
  {
   "cell_type": "code",
   "execution_count": 7,
   "id": "d4c0bf25",
   "metadata": {},
   "outputs": [
    {
     "data": {
      "text/plain": [
       "'/home/login/Documents/Machine_learning/Datasets/cats_and_dogs_filtered/validation/dogs'"
      ]
     },
     "execution_count": 7,
     "metadata": {},
     "output_type": "execute_result"
    }
   ],
   "source": [
    "train_dir = os.path.join(dir_name, \"train\")\n",
    "val_dir = os.path.join(dir_name, \"validation\")\n",
    "\n",
    "train_dogs_dir = os.path.join(train_dir, \"dogs\")\n",
    "train_cats_dir = os.path.join(train_dir, \"cats\")\n",
    "val_cats_dir = os.path.join(val_dir, \"cats\")\n",
    "val_dogs_dir = os.path.join(val_dir, \"dogs\")\n",
    "val_dogs_dir"
   ]
  },
  {
   "cell_type": "markdown",
   "id": "0abc6639",
   "metadata": {},
   "source": [
    "### Understanding the data"
   ]
  },
  {
   "cell_type": "code",
   "execution_count": 8,
   "id": "67b10880",
   "metadata": {},
   "outputs": [],
   "source": [
    "num_cats_train = len(os.listdir(train_cats_dir))\n",
    "num_dogs_train = len(os.listdir(train_dogs_dir))\n",
    "\n",
    "num_cats_val = len(os.listdir(val_cats_dir))\n",
    "num_dogs_val = len(os.listdir(val_dogs_dir))\n",
    "\n",
    "num_train = num_cats_train + num_dogs_train\n",
    "num_val = num_cats_val + num_dogs_val"
   ]
  },
  {
   "cell_type": "code",
   "execution_count": 9,
   "id": "130158dc",
   "metadata": {},
   "outputs": [
    {
     "name": "stdout",
     "output_type": "stream",
     "text": [
      "Total number of train data: 2000\n",
      "Total number of validation data: 1000\n",
      "---------------------------------------------\n",
      "Total number of dogs train data: 1000\n",
      "Total number of cats train data: 1000\n",
      "---------------------------------------------\n",
      "Total number of dogs validation data: 500\n",
      "Total number of cats validation data: 500\n"
     ]
    }
   ],
   "source": [
    "print(f\"Total number of train data: {num_train}\")\n",
    "print(f\"Total number of validation data: {num_val}\")\n",
    "print(\"---\" * 15)\n",
    "print(f\"Total number of dogs train data: {num_dogs_train}\")\n",
    "print(f\"Total number of cats train data: {num_cats_train}\")\n",
    "print(\"---\" * 15)\n",
    "print(f\"Total number of dogs validation data: {num_dogs_val}\")\n",
    "print(f\"Total number of cats validation data: {num_cats_val}\")"
   ]
  },
  {
   "cell_type": "markdown",
   "id": "34d7eb28",
   "metadata": {},
   "source": [
    "### Setting model parameters"
   ]
  },
  {
   "cell_type": "code",
   "execution_count": 11,
   "id": "8e3dbddc",
   "metadata": {},
   "outputs": [],
   "source": [
    "BATCH_SIZE = 100\n",
    "IMG_SHAPE = 150"
   ]
  },
  {
   "cell_type": "markdown",
   "id": "1a08de2d",
   "metadata": {},
   "source": [
    "### Data Preparation"
   ]
  },
  {
   "cell_type": "code",
   "execution_count": 13,
   "id": "22ab4bf4",
   "metadata": {},
   "outputs": [
    {
     "data": {
      "text/plain": [
       "<keras.src.preprocessing.image.ImageDataGenerator at 0x7f875b20fb90>"
      ]
     },
     "execution_count": 13,
     "metadata": {},
     "output_type": "execute_result"
    }
   ],
   "source": [
    "train_img_gen = ImageDataGenerator(rescale=1./255)\n",
    "val_img_gen = ImageDataGenerator(rescale=1./255)\n",
    "train_img_gen"
   ]
  },
  {
   "cell_type": "code",
   "execution_count": null,
   "id": "43a87a2e",
   "metadata": {},
   "outputs": [],
   "source": [
    "train_data_gen = train_img_gen.flow_from_directory(batch_size=BATCH_SIZE,\n",
    "                                                  directory=train_dir,\n",
    "                                                  shuffle=True,\n",
    "                                                  class_size=(IMG_SHAPE, IMG_SHAPE),\n",
    "                                                  class_mode='binary')\n",
    "\n",
    "val_data_gen = val_img_gen.flow_from_directory(directory = val_dir,\n",
    "                                              shuffle)"
   ]
  }
 ],
 "metadata": {
  "kernelspec": {
   "display_name": "My Virtual Environment",
   "language": "python",
   "name": "myenv"
  },
  "language_info": {
   "codemirror_mode": {
    "name": "ipython",
    "version": 3
   },
   "file_extension": ".py",
   "mimetype": "text/x-python",
   "name": "python",
   "nbconvert_exporter": "python",
   "pygments_lexer": "ipython3",
   "version": "3.11.4"
  }
 },
 "nbformat": 4,
 "nbformat_minor": 5
}

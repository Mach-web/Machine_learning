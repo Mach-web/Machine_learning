{
 "cells": [
  {
   "cell_type": "markdown",
   "id": "df3a539d",
   "metadata": {},
   "source": [
    "## Dogs vs Cats image classification (without image augmentation)"
   ]
  },
  {
   "cell_type": "markdown",
   "id": "b8094373",
   "metadata": {},
   "source": [
    "### Importing packages"
   ]
  },
  {
   "cell_type": "code",
   "execution_count": 3,
   "id": "fd6ca01e",
   "metadata": {},
   "outputs": [],
   "source": [
    "from __future__ import absolute_import, division, print_function\n",
    "\n",
    "import numpy as np\n",
    "import os\n",
    "import matplotlib.pyplot as plt\n",
    "import tensorflow as tf\n",
    "from tensorflow.keras.preprocessing.image import ImageDataGenerator"
   ]
  },
  {
   "cell_type": "markdown",
   "id": "dfa0109f",
   "metadata": {},
   "source": [
    "### Data loading"
   ]
  },
  {
   "cell_type": "code",
   "execution_count": 4,
   "id": "7688e2e4",
   "metadata": {},
   "outputs": [
    {
     "name": "stdout",
     "output_type": "stream",
     "text": [
      "['validation', 'train', 'vectorize.py']\n",
      "/home/login/Documents/Machine_learning/Datasets/cats_and_dogs_filtered\r\n",
      "/home/login/Documents/Machine_learning/Datasets/cats_and_dogs_filtered/validation\r\n",
      "/home/login/Documents/Machine_learning/Datasets/cats_and_dogs_filtered/validation/dogs\r\n",
      "/home/login/Documents/Machine_learning/Datasets/cats_and_dogs_filtered/validation/cats\r\n",
      "/home/login/Documents/Machine_learning/Datasets/cats_and_dogs_filtered/train\r\n",
      "/home/login/Documents/Machine_learning/Datasets/cats_and_dogs_filtered/train/dogs\r\n",
      "/home/login/Documents/Machine_learning/Datasets/cats_and_dogs_filtered/train/cats\r\n"
     ]
    }
   ],
   "source": [
    "dir_name = os.path.dirname(\"/home/login/Documents/Machine_learning/Datasets/cats_and_dogs_filtered/\")\n",
    "print(os.listdir(dir_name))\n",
    "!find $dir_name -type d -print"
   ]
  },
  {
   "cell_type": "code",
   "execution_count": 5,
   "id": "d4c0bf25",
   "metadata": {},
   "outputs": [
    {
     "data": {
      "text/plain": [
       "'/home/login/Documents/Machine_learning/Datasets/cats_and_dogs_filtered/validation/dogs'"
      ]
     },
     "execution_count": 5,
     "metadata": {},
     "output_type": "execute_result"
    }
   ],
   "source": [
    "train_dir = os.path.join(dir_name, \"train\")\n",
    "val_dir = os.path.join(dir_name, \"validation\")\n",
    "\n",
    "train_dogs_dir = os.path.join(train_dir, \"dogs\")\n",
    "train_cats_dir = os.path.join(train_dir, \"cats\")\n",
    "val_cats_dir = os.path.join(val_dir, \"cats\")\n",
    "val_dogs_dir = os.path.join(val_dir, \"dogs\")\n",
    "val_dogs_dir"
   ]
  },
  {
   "cell_type": "markdown",
   "id": "7cb4afd8",
   "metadata": {},
   "source": [
    "### Understanding the data"
   ]
  },
  {
   "cell_type": "code",
   "execution_count": 7,
   "id": "f5eb52a4",
   "metadata": {},
   "outputs": [],
   "source": [
    "num_cats_train = len(os.listdir(train_cats_dir))\n",
    "num_dogs_train = len(os.listdir(train_dogs_dir))\n",
    "\n",
    "num_cats_val = len(os.listdir(val_cats_dir))\n",
    "num_dogs_val = len(os.listdir(val_dogs_dir))\n",
    "\n",
    "num_train = num_cats_train + num_dogs_train\n",
    "num_val = num_cats_val + num_dogs_val"
   ]
  },
  {
   "cell_type": "code",
   "execution_count": 9,
   "id": "ce7a3590",
   "metadata": {},
   "outputs": [
    {
     "name": "stdout",
     "output_type": "stream",
     "text": [
      "Total number of train data: 2000\n",
      "Total number of validation data: 1000\n",
      "Total number of dogs train data: 1000\n",
      "Total number of cats train data: 1000\n",
      "---\n",
      "Total number of dogs validation data: 500\n",
      "Total number of cats validation data: 500\n"
     ]
    }
   ],
   "source": [
    "print(f\"Total number of train data: {num_train}\")\n",
    "print(f\"Total number of validation data: {num_val}\")\n",
    "\n",
    "print(f\"Total number of dogs train data: {num_dogs_train}\")\n",
    "print(f\"Total number of cats train data: {num_cats_train}\")\n",
    "print(\"---\" )\n",
    "print(f\"Total number of dogs validation data: {num_dogs_val}\")\n",
    "print(f\"Total number of cats validation data: {num_cats_val}\")"
   ]
  },
  {
   "cell_type": "code",
   "execution_count": null,
   "id": "4cdb6a7c",
   "metadata": {},
   "outputs": [],
   "source": []
  }
 ],
 "metadata": {
  "kernelspec": {
   "display_name": "My Virtual Environment",
   "language": "python",
   "name": "myenv"
  },
  "language_info": {
   "codemirror_mode": {
    "name": "ipython",
    "version": 3
   },
   "file_extension": ".py",
   "mimetype": "text/x-python",
   "name": "python",
   "nbconvert_exporter": "python",
   "pygments_lexer": "ipython3",
   "version": "3.11.4"
  }
 },
 "nbformat": 4,
 "nbformat_minor": 5
}

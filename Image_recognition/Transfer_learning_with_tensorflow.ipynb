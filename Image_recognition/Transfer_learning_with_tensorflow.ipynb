{
 "cells": [
  {
   "cell_type": "markdown",
   "id": "a60637cd",
   "metadata": {},
   "source": [
    "### Imports"
   ]
  },
  {
   "cell_type": "code",
   "execution_count": 1,
   "id": "5f7d9ed9",
   "metadata": {},
   "outputs": [
    {
     "name": "stdout",
     "output_type": "stream",
     "text": [
      "\u001b[33mWARNING: Retrying (Retry(total=4, connect=None, read=None, redirect=None, status=None)) after connection broken by 'NewConnectionError('<pip._vendor.urllib3.connection.HTTPSConnection object at 0x7fe27a853b50>: Failed to establish a new connection: [Errno -3] Temporary failure in name resolution')': /simple/tf-nightly-gpu/\u001b[0m\u001b[33m\n",
      "\u001b[0m\u001b[33mWARNING: Retrying (Retry(total=3, connect=None, read=None, redirect=None, status=None)) after connection broken by 'NewConnectionError('<pip._vendor.urllib3.connection.HTTPSConnection object at 0x7fe27a695310>: Failed to establish a new connection: [Errno -3] Temporary failure in name resolution')': /simple/tf-nightly-gpu/\u001b[0m\u001b[33m\n",
      "\u001b[0m\u001b[33mWARNING: Retrying (Retry(total=2, connect=None, read=None, redirect=None, status=None)) after connection broken by 'NewConnectionError('<pip._vendor.urllib3.connection.HTTPSConnection object at 0x7fe27a69c090>: Failed to establish a new connection: [Errno -3] Temporary failure in name resolution')': /simple/tf-nightly-gpu/\u001b[0m\u001b[33m\n",
      "\u001b[0m\u001b[33mWARNING: Retrying (Retry(total=1, connect=None, read=None, redirect=None, status=None)) after connection broken by 'NewConnectionError('<pip._vendor.urllib3.connection.HTTPSConnection object at 0x7fe27a6b9390>: Failed to establish a new connection: [Errno -3] Temporary failure in name resolution')': /simple/tf-nightly-gpu/\u001b[0m\u001b[33m\n",
      "\u001b[0m\u001b[33mWARNING: Retrying (Retry(total=0, connect=None, read=None, redirect=None, status=None)) after connection broken by 'NewConnectionError('<pip._vendor.urllib3.connection.HTTPSConnection object at 0x7fe27a6ba050>: Failed to establish a new connection: [Errno -3] Temporary failure in name resolution')': /simple/tf-nightly-gpu/\u001b[0m\u001b[33m\n",
      "\u001b[0m\u001b[31mERROR: Could not find a version that satisfies the requirement tf-nightly-gpu==1.14.1-dev20190409 (from versions: none)\u001b[0m\u001b[31m\n",
      "\u001b[0m\u001b[31mERROR: No matching distribution found for tf-nightly-gpu==1.14.1-dev20190409\u001b[0m\u001b[31m\n",
      "\u001b[0m\u001b[33mWARNING: Retrying (Retry(total=4, connect=None, read=None, redirect=None, status=None)) after connection broken by 'NewConnectionError('<pip._vendor.urllib3.connection.HTTPSConnection object at 0x7f944d15c950>: Failed to establish a new connection: [Errno -3] Temporary failure in name resolution')': /simple/tensorflow-hub/\u001b[0m\u001b[33m\n",
      "\u001b[0m\u001b[33mWARNING: Retrying (Retry(total=3, connect=None, read=None, redirect=None, status=None)) after connection broken by 'NewConnectionError('<pip._vendor.urllib3.connection.HTTPSConnection object at 0x7f944b8aa790>: Failed to establish a new connection: [Errno -3] Temporary failure in name resolution')': /simple/tensorflow-hub/\u001b[0m\u001b[33m\n",
      "\u001b[0m\u001b[33mWARNING: Retrying (Retry(total=2, connect=None, read=None, redirect=None, status=None)) after connection broken by 'NewConnectionError('<pip._vendor.urllib3.connection.HTTPSConnection object at 0x7f944b89b7d0>: Failed to establish a new connection: [Errno -3] Temporary failure in name resolution')': /simple/tensorflow-hub/\u001b[0m\u001b[33m\n",
      "\u001b[0m\u001b[33mWARNING: Retrying (Retry(total=1, connect=None, read=None, redirect=None, status=None)) after connection broken by 'NewConnectionError('<pip._vendor.urllib3.connection.HTTPSConnection object at 0x7f944b87b310>: Failed to establish a new connection: [Errno -3] Temporary failure in name resolution')': /simple/tensorflow-hub/\u001b[0m\u001b[33m\n",
      "\u001b[0m\u001b[33mWARNING: Retrying (Retry(total=0, connect=None, read=None, redirect=None, status=None)) after connection broken by 'NewConnectionError('<pip._vendor.urllib3.connection.HTTPSConnection object at 0x7f944b8a9010>: Failed to establish a new connection: [Errno -3] Temporary failure in name resolution')': /simple/tensorflow-hub/\u001b[0m\u001b[33m\n",
      "\u001b[0m\u001b[31mERROR: Could not find a version that satisfies the requirement tensorflow_hub==0.4.0 (from versions: none)\u001b[0m\u001b[31m\n",
      "\u001b[0m\u001b[31mERROR: No matching distribution found for tensorflow_hub==0.4.0\u001b[0m\u001b[31m\n",
      "\u001b[0m"
     ]
    }
   ],
   "source": [
    "!pip install 'tf-nightly-gpu==1.14.1-dev20190409'\n",
    "!pip install 'tensorflow_hub==0.4.0'"
   ]
  },
  {
   "cell_type": "code",
   "execution_count": 4,
   "id": "0f3cf8cb",
   "metadata": {},
   "outputs": [],
   "source": [
    "from __future__ import absolute_import, division, print_function\n",
    "\n",
    "import matplotlib.pyplot as plt\n",
    "\n",
    "import tensorflow as tf\n",
    "# tf.logging.set_verbosity(tf.logging.ERROR)\n",
    "# tf.enable_eager_execution()\n",
    "\n",
    "# import tensorflow_hub as hub\n",
    "import tensorflow_datasets as tfds\n",
    "\n",
    "from tensorflow.keras import layers "
   ]
  },
  {
   "cell_type": "markdown",
   "id": "9f9c9129",
   "metadata": {},
   "source": [
    "## Part 1: Use TensorFlow Hub MobileNet for prediction"
   ]
  },
  {
   "cell_type": "markdown",
   "id": "11331654",
   "metadata": {},
   "source": [
    "#### Download the classifier"
   ]
  },
  {
   "cell_type": "code",
   "execution_count": 7,
   "id": "f676eb48",
   "metadata": {},
   "outputs": [
    {
     "ename": "NameError",
     "evalue": "name 'hub' is not defined",
     "output_type": "error",
     "traceback": [
      "\u001b[0;31m---------------------------------------------------------------------------\u001b[0m",
      "\u001b[0;31mNameError\u001b[0m                                 Traceback (most recent call last)",
      "Cell \u001b[0;32mIn[7], line 6\u001b[0m\n\u001b[1;32m      1\u001b[0m classifier_url \u001b[38;5;241m=\u001b[39m \u001b[38;5;124m\"\u001b[39m\u001b[38;5;124m\"\u001b[39m\n\u001b[1;32m      3\u001b[0m IMG_SHAPE \u001b[38;5;241m=\u001b[39m \u001b[38;5;241m224\u001b[39m\n\u001b[1;32m      5\u001b[0m model \u001b[38;5;241m=\u001b[39m tf\u001b[38;5;241m.\u001b[39mkeras\u001b[38;5;241m.\u001b[39mSequential([\n\u001b[0;32m----> 6\u001b[0m     \u001b[43mhub\u001b[49m\u001b[38;5;241m.\u001b[39mKerasLayer(classifier_url, input_shape \u001b[38;5;241m=\u001b[39m (IMG_SHAPE, IMG_SHAPE, \u001b[38;5;241m3\u001b[39m))\n\u001b[1;32m      7\u001b[0m ])\n",
      "\u001b[0;31mNameError\u001b[0m: name 'hub' is not defined"
     ]
    }
   ],
   "source": [
    "classifier_url = \"\"\n",
    "\n",
    "IMG_SHAPE = 224\n",
    "\n",
    "model = tf.keras.Sequential([\n",
    "    hub.KerasLayer(classifier_url, input_shape = (IMG_SHAPE, IMG_SHAPE, 3))\n",
    "])"
   ]
  },
  {
   "cell_type": "markdown",
   "id": "a5f5ec2f",
   "metadata": {},
   "source": [
    "### Run it on single image"
   ]
  },
  {
   "cell_type": "code",
   "execution_count": 8,
   "id": "1ad481e2",
   "metadata": {},
   "outputs": [
    {
     "ename": "ModuleNotFoundError",
     "evalue": "No module named 'PIL.image'",
     "output_type": "error",
     "traceback": [
      "\u001b[0;31m---------------------------------------------------------------------------\u001b[0m",
      "\u001b[0;31mModuleNotFoundError\u001b[0m                       Traceback (most recent call last)",
      "Cell \u001b[0;32mIn[8], line 1\u001b[0m\n\u001b[0;32m----> 1\u001b[0m \u001b[38;5;28;01mimport\u001b[39;00m \u001b[38;5;21;01mPIL\u001b[39;00m\u001b[38;5;21;01m.\u001b[39;00m\u001b[38;5;21;01mimage\u001b[39;00m \u001b[38;5;28;01mas\u001b[39;00m \u001b[38;5;21;01mImage\u001b[39;00m\n\u001b[1;32m      2\u001b[0m \u001b[38;5;28;01mimport\u001b[39;00m \u001b[38;5;21;01mnumpy\u001b[39;00m \u001b[38;5;28;01mas\u001b[39;00m \u001b[38;5;21;01mnp\u001b[39;00m\n",
      "\u001b[0;31mModuleNotFoundError\u001b[0m: No module named 'PIL.image'"
     ]
    }
   ],
   "source": [
    "import PIL.image as Image\n",
    "import numpy as np\n",
    "\n",
    "grace_hopper = tf.keras.utils.get_file('image.jpg', )"
   ]
  },
  {
   "cell_type": "code",
   "execution_count": null,
   "id": "9b50afa1",
   "metadata": {},
   "outputs": [],
   "source": []
  }
 ],
 "metadata": {
  "kernelspec": {
   "display_name": "My Virtual Environment",
   "language": "python",
   "name": "myenv"
  },
  "language_info": {
   "codemirror_mode": {
    "name": "ipython",
    "version": 3
   },
   "file_extension": ".py",
   "mimetype": "text/x-python",
   "name": "python",
   "nbconvert_exporter": "python",
   "pygments_lexer": "ipython3",
   "version": "3.11.4"
  }
 },
 "nbformat": 4,
 "nbformat_minor": 5
}

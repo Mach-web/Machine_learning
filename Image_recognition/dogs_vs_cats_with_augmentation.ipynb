{
 "cells": [
  {
   "cell_type": "markdown",
   "id": "1bd29f07",
   "metadata": {},
   "source": [
    "### Import packages"
   ]
  },
  {
   "cell_type": "code",
   "execution_count": 2,
   "id": "dbec6e62",
   "metadata": {
    "scrolled": true
   },
   "outputs": [],
   "source": [
    "import tensorflow as tf\n",
    "import os\n",
    "import numpy as np\n",
    "import matplotlib.pyplot as plt\n",
    "from tensorflow.keras.preprocessing.image import ImageDataGenerator"
   ]
  },
  {
   "cell_type": "markdown",
   "id": "4f42bf86",
   "metadata": {},
   "source": [
    "### Data Loading"
   ]
  },
  {
   "cell_type": "code",
   "execution_count": 4,
   "id": "a3ef2668",
   "metadata": {},
   "outputs": [
    {
     "name": "stdout",
     "output_type": "stream",
     "text": [
      "['validation', 'train', 'vectorize.py']\n",
      "/home/login/Documents/Machine_learning/Datasets/cats_and_dogs_filtered\n",
      "/home/login/Documents/Machine_learning/Datasets/cats_and_dogs_filtered/validation\n",
      "/home/login/Documents/Machine_learning/Datasets/cats_and_dogs_filtered/validation/dogs\n",
      "/home/login/Documents/Machine_learning/Datasets/cats_and_dogs_filtered/validation/cats\n",
      "/home/login/Documents/Machine_learning/Datasets/cats_and_dogs_filtered/train\n",
      "/home/login/Documents/Machine_learning/Datasets/cats_and_dogs_filtered/train/dogs\n",
      "/home/login/Documents/Machine_learning/Datasets/cats_and_dogs_filtered/train/cats\n"
     ]
    }
   ],
   "source": [
    "dir_name = os.path.dirname(\"/home/login/Documents/Machine_learning/Datasets/cats_and_dogs_filtered/\")\n",
    "print(os.listdir(dir_name))\n",
    "!find $dir_name -type d -print"
   ]
  },
  {
   "cell_type": "code",
   "execution_count": 5,
   "id": "2e92917f",
   "metadata": {},
   "outputs": [
    {
     "data": {
      "text/plain": [
       "'/home/login/Documents/Machine_learning/Datasets/cats_and_dogs_filtered/validation/dogs'"
      ]
     },
     "execution_count": 5,
     "metadata": {},
     "output_type": "execute_result"
    }
   ],
   "source": [
    "train_dir = os.path.join(dir_name, \"train\")\n",
    "val_dir = os.path.join(dir_name, \"validation\")\n",
    "\n",
    "train_dogs_dir = os.path.join(train_dir, \"dogs\")\n",
    "train_cats_dir = os.path.join(train_dir, \"cats\")\n",
    "val_cats_dir = os.path.join(val_dir, \"cats\")\n",
    "val_dogs_dir = os.path.join(val_dir, \"dogs\")\n",
    "val_dogs_dir"
   ]
  },
  {
   "cell_type": "markdown",
   "id": "54502c51",
   "metadata": {},
   "source": [
    "### Understanding the data"
   ]
  },
  {
   "cell_type": "code",
   "execution_count": 6,
   "id": "7fb82dc0",
   "metadata": {},
   "outputs": [],
   "source": [
    "num_cats_train = len(os.listdir(train_cats_dir))\n",
    "num_dogs_train = len(os.listdir(train_dogs_dir))\n",
    "\n",
    "num_cats_val = len(os.listdir(val_cats_dir))\n",
    "num_dogs_val = len(os.listdir(val_dogs_dir))\n",
    "\n",
    "num_train = num_cats_train + num_dogs_train\n",
    "num_val = num_cats_val + num_dogs_val"
   ]
  },
  {
   "cell_type": "code",
   "execution_count": 7,
   "id": "9922a722",
   "metadata": {},
   "outputs": [
    {
     "name": "stdout",
     "output_type": "stream",
     "text": [
      "Total number of train data: 2000\n",
      "Total number of validation data: 1000\n",
      "---------------------------------------------\n",
      "Total number of dogs train data: 1000\n",
      "Total number of cats train data: 1000\n",
      "---------------------------------------------\n",
      "Total number of dogs validation data: 500\n",
      "Total number of cats validation data: 500\n"
     ]
    }
   ],
   "source": [
    "print(f\"Total number of train data: {num_train}\")\n",
    "print(f\"Total number of validation data: {num_val}\")\n",
    "print(\"---\" * 15)\n",
    "print(f\"Total number of dogs train data: {num_dogs_train}\")\n",
    "print(f\"Total number of cats train data: {num_cats_train}\")\n",
    "print(\"---\" * 15)\n",
    "print(f\"Total number of dogs validation data: {num_dogs_val}\")\n",
    "print(f\"Total number of cats validation data: {num_cats_val}\")"
   ]
  },
  {
   "cell_type": "code",
   "execution_count": null,
   "id": "f8d90e52",
   "metadata": {},
   "outputs": [],
   "source": []
  }
 ],
 "metadata": {
  "kernelspec": {
   "display_name": "My Virtual Environment",
   "language": "python",
   "name": "myenv"
  },
  "language_info": {
   "codemirror_mode": {
    "name": "ipython",
    "version": 3
   },
   "file_extension": ".py",
   "mimetype": "text/x-python",
   "name": "python",
   "nbconvert_exporter": "python",
   "pygments_lexer": "ipython3",
   "version": "3.11.4"
  }
 },
 "nbformat": 4,
 "nbformat_minor": 5
}

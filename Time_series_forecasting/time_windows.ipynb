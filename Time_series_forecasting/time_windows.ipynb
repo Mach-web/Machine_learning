{
 "cells": [
  {
   "cell_type": "markdown",
   "id": "bbb99a6d",
   "metadata": {},
   "source": [
    "### Setup"
   ]
  },
  {
   "cell_type": "code",
   "execution_count": 120,
   "id": "b825845f",
   "metadata": {},
   "outputs": [],
   "source": [
    "import tensorflow.compat.v2  as tf\n",
    "tf.enable_v2_behavior()"
   ]
  },
  {
   "cell_type": "markdown",
   "id": "c94145ad",
   "metadata": {},
   "source": [
    "### Time windows"
   ]
  },
  {
   "cell_type": "code",
   "execution_count": 121,
   "id": "bbe4091f",
   "metadata": {},
   "outputs": [
    {
     "name": "stdout",
     "output_type": "stream",
     "text": [
      "0\ttf.Tensor(0, shape=(), dtype=int64)\n",
      "1\ttf.Tensor(1, shape=(), dtype=int64)\n",
      "2\ttf.Tensor(2, shape=(), dtype=int64)\n",
      "3\ttf.Tensor(3, shape=(), dtype=int64)\n",
      "4\ttf.Tensor(4, shape=(), dtype=int64)\n",
      "5\ttf.Tensor(5, shape=(), dtype=int64)\n",
      "6\ttf.Tensor(6, shape=(), dtype=int64)\n",
      "7\ttf.Tensor(7, shape=(), dtype=int64)\n",
      "8\ttf.Tensor(8, shape=(), dtype=int64)\n",
      "9\ttf.Tensor(9, shape=(), dtype=int64)\n"
     ]
    }
   ],
   "source": [
    "dataset = tf.data.Dataset.range(10)\n",
    "for data in dataset:\n",
    "    print(data.numpy(), end = \"\\t\")\n",
    "    print(data)"
   ]
  },
  {
   "cell_type": "code",
   "execution_count": 122,
   "id": "b8fbd371",
   "metadata": {},
   "outputs": [
    {
     "name": "stdout",
     "output_type": "stream",
     "text": [
      "0 1 2 3 4 \n",
      "1 2 3 4 5 \n",
      "2 3 4 5 6 \n",
      "3 4 5 6 7 \n",
      "4 5 6 7 8 \n",
      "5 6 7 8 9 \n",
      "6 7 8 9 \n",
      "7 8 9 \n",
      "8 9 \n",
      "9 \n"
     ]
    },
    {
     "name": "stderr",
     "output_type": "stream",
     "text": [
      "2024-03-02 11:38:10.687739: W tensorflow/core/framework/dataset.cc:956] Input of Window will not be optimized because the dataset does not implement the AsGraphDefInternal() method needed to apply optimizations.\n"
     ]
    }
   ],
   "source": [
    "dataset = tf.data.Dataset.range(10)\n",
    "# dataset = dataset.window(3, shift = 2)\n",
    "dataset = dataset.window(5, shift = 1)\n",
    "\n",
    "for window_data in dataset:\n",
    "    for val in window_data:\n",
    "        print(val.numpy(), end = \" \")\n",
    "    print()"
   ]
  },
  {
   "cell_type": "code",
   "execution_count": 123,
   "id": "758f03e1",
   "metadata": {},
   "outputs": [
    {
     "name": "stdout",
     "output_type": "stream",
     "text": [
      "0 1 2 3 4 \n",
      "1 2 3 4 5 \n",
      "2 3 4 5 6 \n",
      "3 4 5 6 7 \n",
      "4 5 6 7 8 \n",
      "5 6 7 8 9 \n"
     ]
    }
   ],
   "source": [
    "dataset = tf.data.Dataset.range(10)\n",
    "dataset = dataset.window(5, shift = 1, drop_remainder = True)\n",
    "for dataset_window in dataset:\n",
    "    for data in dataset_window:\n",
    "        print(data.numpy(), end = \" \")\n",
    "    print()"
   ]
  },
  {
   "cell_type": "code",
   "execution_count": 124,
   "id": "863c247b",
   "metadata": {},
   "outputs": [
    {
     "name": "stdout",
     "output_type": "stream",
     "text": [
      "[0 1 2 3 4]\n",
      "[1 2 3 4 5]\n",
      "[2 3 4 5 6]\n",
      "[3 4 5 6 7]\n",
      "[4 5 6 7 8]\n",
      "[5 6 7 8 9]\n"
     ]
    }
   ],
   "source": [
    "dataset = tf.data.Dataset.range(10)\n",
    "# dataset = dataset.window(4, shift = 1, drop_remainder = True)\n",
    "# dataset = dataset.flat_map(lambda dataset_window: dataset_window.batch(4))\n",
    "dataset = dataset.window(5, shift = 1, drop_remainder = True).flat_map(lambda window: window.batch(5))\n",
    "\n",
    "for window in dataset:\n",
    "    print(window.numpy())"
   ]
  },
  {
   "cell_type": "code",
   "execution_count": 125,
   "id": "e6ea9430",
   "metadata": {},
   "outputs": [
    {
     "name": "stdout",
     "output_type": "stream",
     "text": [
      "[0 1 2 3] [4]\n",
      "[1 2 3 4] [5]\n",
      "[2 3 4 5] [6]\n",
      "[3 4 5 6] [7]\n",
      "[4 5 6 7] [8]\n",
      "[5 6 7 8] [9]\n"
     ]
    }
   ],
   "source": [
    "dataset = tf.data.Dataset.range(10)\n",
    "dataset = dataset.window(5, shift = 1, drop_remainder = True).flat_map(lambda window: window.batch(5))\n",
    "dataset = dataset.map(lambda window: (window[:-1], window[-1:]))\n",
    "\n",
    "for x, y in dataset:\n",
    "    print(x.numpy(), y.numpy())"
   ]
  },
  {
   "cell_type": "code",
   "execution_count": 126,
   "id": "470ba627",
   "metadata": {},
   "outputs": [
    {
     "name": "stdout",
     "output_type": "stream",
     "text": [
      "[2 3 4 5] [6]\n",
      "[5 6 7 8] [9]\n",
      "[4 5 6 7] [8]\n",
      "[1 2 3 4] [5]\n",
      "[0 1 2 3] [4]\n",
      "[3 4 5 6] [7]\n"
     ]
    }
   ],
   "source": [
    "dataset = tf.data.Dataset.range(10)\n",
    "dataset = dataset.window(5, shift = 1, drop_remainder = True).flat_map(lambda window: window.batch(5))\n",
    "dataset = dataset.map(lambda window: (window[:-1], window[-1:])).shuffle(buffer_size = 10)\n",
    "\n",
    "for x, y  in dataset:\n",
    "    print(x.numpy(), y.numpy())"
   ]
  },
  {
   "cell_type": "code",
   "execution_count": 127,
   "id": "e8d47837",
   "metadata": {},
   "outputs": [
    {
     "name": "stdout",
     "output_type": "stream",
     "text": [
      "x =  [[1 2 3 4]\n",
      " [4 5 6 7]]\n",
      "y =  [[5]\n",
      " [8]]\n",
      "x =  [[2 3 4 5]\n",
      " [3 4 5 6]]\n",
      "y =  [[6]\n",
      " [7]]\n",
      "x =  [[5 6 7 8]\n",
      " [0 1 2 3]]\n",
      "y =  [[9]\n",
      " [4]]\n"
     ]
    }
   ],
   "source": [
    "dataset = tf.data.Dataset.range(10).window(5, shift = 1, drop_remainder = True).flat_map(\n",
    "    lambda window: window.batch(5))\n",
    "\n",
    "dataset = dataset.map(lambda window: (window[:-1], window[-1:])).shuffle(buffer_size = 10).batch(2).prefetch(1)\n",
    "\n",
    "for x, y in dataset:\n",
    "    print(\"x = \",x.numpy())\n",
    "    print(\"y = \",y.numpy())"
   ]
  },
  {
   "cell_type": "code",
   "execution_count": 128,
   "id": "35fee6a9",
   "metadata": {},
   "outputs": [],
   "source": [
    "def window_dataset(series, window_size, batch_size = 32, buffer_size = 1000):\n",
    "    # load dataset from a time series\n",
    "    dataset = tf.data.Dataset.from_tensor_slices(series)\n",
    "    # create a window from the dataset\n",
    "    dataset = dataset.window(window_size + 1, shift = 1, drop_remainder = True)\n",
    "    # let the windows appear as []\n",
    "    dataset = dataset.flat_map(lambda window: window.batch(window_size + 1))\n",
    "    # shuffle the dataset\n",
    "    dataset = dataset.shuffle(buffer_size)\n",
    "    # map x and y labels\n",
    "    dataset = dataset.map(lambda window: (window[:-1], window[-1]))\n",
    "    # load the data as a batch and prefetch to ensure the next data is loading. GPU is never idle.\n",
    "    dataset = dataset.batch(batch_size).prefetch(1)\n",
    "    return dataset"
   ]
  },
  {
   "cell_type": "code",
   "execution_count": 129,
   "id": "04b3a52c",
   "metadata": {},
   "outputs": [
    {
     "name": "stdout",
     "output_type": "stream",
     "text": [
      "x =  [[0 1 2 3]\n",
      " [1 2 3 4]]\n",
      "y =  [4 5]\n",
      "x =  [[4 5 6 7]\n",
      " [3 4 5 6]]\n",
      "y =  [8 7]\n",
      "x =  [[5 6 7 8]\n",
      " [2 3 4 5]]\n",
      "y =  [9 6]\n"
     ]
    }
   ],
   "source": [
    "import numpy as np\n",
    "series = np.array(range(10))\n",
    "for x, y in window_dataset(series, 4, 2, 10):\n",
    "    print(\"x = \", x.numpy())\n",
    "    print(\"y = \", y.numpy())"
   ]
  }
 ],
 "metadata": {
  "kernelspec": {
   "display_name": "My Virtual Environment",
   "language": "python",
   "name": "myenv"
  },
  "language_info": {
   "codemirror_mode": {
    "name": "ipython",
    "version": 3
   },
   "file_extension": ".py",
   "mimetype": "text/x-python",
   "name": "python",
   "nbconvert_exporter": "python",
   "pygments_lexer": "ipython3",
   "version": "3.11.4"
  }
 },
 "nbformat": 4,
 "nbformat_minor": 5
}

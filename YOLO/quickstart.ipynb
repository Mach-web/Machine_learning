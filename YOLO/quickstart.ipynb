{
 "cells": [
  {
   "cell_type": "code",
   "execution_count": 4,
   "id": "6e244630",
   "metadata": {},
   "outputs": [
    {
     "name": "stdout",
     "output_type": "stream",
     "text": [
      "Downloading https://github.com/ultralytics/assets/releases/download/v8.2.0/yolov8n.pt to 'yolov8n.pt'...\n"
     ]
    },
    {
     "name": "stderr",
     "output_type": "stream",
     "text": [
      "100%|██████████████████████████████████████████████████████████████████████████████| 6.23M/6.23M [00:50<00:00, 128kB/s]\n"
     ]
    }
   ],
   "source": [
    "import cv2\n",
    "import numpy as np\n",
    "from ultralytics import YOLO\n",
    "\n",
    "#create a yolo model from scratch\n",
    "model = YOLO(\"yolov8n.yaml\")\n",
    "\n",
    "# load a pretrained yolo model\n",
    "model = YOLO(\"yolov8n.pt\")"
   ]
  },
  {
   "cell_type": "code",
   "execution_count": 5,
   "id": "2847a0c1",
   "metadata": {},
   "outputs": [
    {
     "name": "stdout",
     "output_type": "stream",
     "text": [
      "Ultralytics YOLOv8.2.35  Python-3.11.5 torch-2.1.2+cpu CPU (Intel Core(TM) i5-8350U 1.70GHz)\n",
      "\u001b[34m\u001b[1mengine\\trainer: \u001b[0mtask=detect, mode=train, model=yolov8n.pt, data=coco8.yaml, epochs=3, time=None, patience=100, batch=16, imgsz=640, save=True, save_period=-1, cache=False, device=None, workers=8, project=None, name=train, exist_ok=False, pretrained=True, optimizer=auto, verbose=True, seed=0, deterministic=True, single_cls=False, rect=False, cos_lr=False, close_mosaic=10, resume=False, amp=True, fraction=1.0, profile=False, freeze=None, multi_scale=False, overlap_mask=True, mask_ratio=4, dropout=0.0, val=True, split=val, save_json=False, save_hybrid=False, conf=None, iou=0.7, max_det=300, half=False, dnn=False, plots=True, source=None, vid_stride=1, stream_buffer=False, visualize=False, augment=False, agnostic_nms=False, classes=None, retina_masks=False, embed=None, show=False, save_frames=False, save_txt=False, save_conf=False, save_crop=False, show_labels=True, show_conf=True, show_boxes=True, line_width=None, format=torchscript, keras=False, optimize=False, int8=False, dynamic=False, simplify=False, opset=None, workspace=4, nms=False, lr0=0.01, lrf=0.01, momentum=0.937, weight_decay=0.0005, warmup_epochs=3.0, warmup_momentum=0.8, warmup_bias_lr=0.1, box=7.5, cls=0.5, dfl=1.5, pose=12.0, kobj=1.0, label_smoothing=0.0, nbs=64, hsv_h=0.015, hsv_s=0.7, hsv_v=0.4, degrees=0.0, translate=0.1, scale=0.5, shear=0.0, perspective=0.0, flipud=0.0, fliplr=0.5, bgr=0.0, mosaic=1.0, mixup=0.0, copy_paste=0.0, auto_augment=randaugment, erasing=0.4, crop_fraction=1.0, cfg=None, tracker=botsort.yaml, save_dir=runs\\detect\\train\n",
      "\n",
      "Dataset 'coco8.yaml' images not found , missing path 'C:\\Users\\mkand\\Documents\\YOLO\\datasets\\coco8\\images\\val'\n",
      "Downloading https://ultralytics.com/assets/coco8.zip to 'C:\\Users\\mkand\\Documents\\YOLO\\datasets\\coco8.zip'...\n"
     ]
    },
    {
     "name": "stderr",
     "output_type": "stream",
     "text": [
      "100%|███████████████████████████████████████████████████████████████████████████████| 433k/433k [00:00<00:00, 1.15MB/s]\n",
      "Unzipping C:\\Users\\mkand\\Documents\\YOLO\\datasets\\coco8.zip to C:\\Users\\mkand\\Documents\\YOLO\\datasets\\coco8...: 100%|███"
     ]
    },
    {
     "name": "stdout",
     "output_type": "stream",
     "text": [
      "Dataset download success  (7.2s), saved to \u001b[1mC:\\Users\\mkand\\Documents\\YOLO\\datasets\u001b[0m\n",
      "\n"
     ]
    },
    {
     "name": "stderr",
     "output_type": "stream",
     "text": [
      "\n"
     ]
    },
    {
     "name": "stdout",
     "output_type": "stream",
     "text": [
      "Downloading https://ultralytics.com/assets/Arial.ttf to 'C:\\Users\\mkand\\AppData\\Roaming\\Ultralytics\\Arial.ttf'...\n"
     ]
    },
    {
     "name": "stderr",
     "output_type": "stream",
     "text": [
      "100%|███████████████████████████████████████████████████████████████████████████████| 755k/755k [00:00<00:00, 1.68MB/s]\n"
     ]
    },
    {
     "name": "stdout",
     "output_type": "stream",
     "text": [
      "\n",
      "                   from  n    params  module                                       arguments                     \n",
      "  0                  -1  1       464  ultralytics.nn.modules.conv.Conv             [3, 16, 3, 2]                 \n",
      "  1                  -1  1      4672  ultralytics.nn.modules.conv.Conv             [16, 32, 3, 2]                \n",
      "  2                  -1  1      7360  ultralytics.nn.modules.block.C2f             [32, 32, 1, True]             \n",
      "  3                  -1  1     18560  ultralytics.nn.modules.conv.Conv             [32, 64, 3, 2]                \n",
      "  4                  -1  2     49664  ultralytics.nn.modules.block.C2f             [64, 64, 2, True]             \n",
      "  5                  -1  1     73984  ultralytics.nn.modules.conv.Conv             [64, 128, 3, 2]               \n",
      "  6                  -1  2    197632  ultralytics.nn.modules.block.C2f             [128, 128, 2, True]           \n",
      "  7                  -1  1    295424  ultralytics.nn.modules.conv.Conv             [128, 256, 3, 2]              \n",
      "  8                  -1  1    460288  ultralytics.nn.modules.block.C2f             [256, 256, 1, True]           \n",
      "  9                  -1  1    164608  ultralytics.nn.modules.block.SPPF            [256, 256, 5]                 \n",
      " 10                  -1  1         0  torch.nn.modules.upsampling.Upsample         [None, 2, 'nearest']          \n",
      " 11             [-1, 6]  1         0  ultralytics.nn.modules.conv.Concat           [1]                           \n",
      " 12                  -1  1    148224  ultralytics.nn.modules.block.C2f             [384, 128, 1]                 \n",
      " 13                  -1  1         0  torch.nn.modules.upsampling.Upsample         [None, 2, 'nearest']          \n",
      " 14             [-1, 4]  1         0  ultralytics.nn.modules.conv.Concat           [1]                           \n",
      " 15                  -1  1     37248  ultralytics.nn.modules.block.C2f             [192, 64, 1]                  \n",
      " 16                  -1  1     36992  ultralytics.nn.modules.conv.Conv             [64, 64, 3, 2]                \n",
      " 17            [-1, 12]  1         0  ultralytics.nn.modules.conv.Concat           [1]                           \n",
      " 18                  -1  1    123648  ultralytics.nn.modules.block.C2f             [192, 128, 1]                 \n",
      " 19                  -1  1    147712  ultralytics.nn.modules.conv.Conv             [128, 128, 3, 2]              \n",
      " 20             [-1, 9]  1         0  ultralytics.nn.modules.conv.Concat           [1]                           \n",
      " 21                  -1  1    493056  ultralytics.nn.modules.block.C2f             [384, 256, 1]                 \n",
      " 22        [15, 18, 21]  1    897664  ultralytics.nn.modules.head.Detect           [80, [64, 128, 256]]          \n",
      "Model summary: 225 layers, 3157200 parameters, 3157184 gradients, 8.9 GFLOPs\n",
      "\n",
      "Transferred 355/355 items from pretrained weights\n",
      "\u001b[34m\u001b[1mTensorBoard: \u001b[0mStart with 'tensorboard --logdir runs\\detect\\train', view at http://localhost:6006/\n"
     ]
    },
    {
     "name": "stderr",
     "output_type": "stream",
     "text": [
      "Failed to detect the name of this notebook, you can set it manually with the WANDB_NOTEBOOK_NAME environment variable to enable code saving.\n",
      "wandb: Logging into wandb.ai. (Learn how to deploy a W&B server locally: https://wandb.me/wandb-server)\n",
      "wandb: You can find your API key in your browser here: https://wandb.ai/authorize\n",
      "wandb: Paste an API key from your profile and hit enter, or press ctrl+c to quit:"
     ]
    },
    {
     "name": "stdout",
     "output_type": "stream",
     "text": [
      " ········\n"
     ]
    },
    {
     "name": "stderr",
     "output_type": "stream",
     "text": [
      "wandb: Appending key for api.wandb.ai to your netrc file: C:\\Users\\mkand\\.netrc\n"
     ]
    },
    {
     "data": {
      "application/vnd.jupyter.widget-view+json": {
       "model_id": "69cf98c34c484bc5bc0fd09019c9945f",
       "version_major": 2,
       "version_minor": 0
      },
      "text/plain": [
       "VBox(children=(Label(value='Waiting for wandb.init()...\\r'), FloatProgress(value=0.011288888888884685, max=1.0…"
      ]
     },
     "metadata": {},
     "output_type": "display_data"
    },
    {
     "data": {
      "text/html": [
       "wandb version 0.17.2 is available!  To upgrade, please run:\n",
       " $ pip install wandb --upgrade"
      ],
      "text/plain": [
       "<IPython.core.display.HTML object>"
      ]
     },
     "metadata": {},
     "output_type": "display_data"
    },
    {
     "data": {
      "text/html": [
       "Tracking run with wandb version 0.17.0"
      ],
      "text/plain": [
       "<IPython.core.display.HTML object>"
      ]
     },
     "metadata": {},
     "output_type": "display_data"
    },
    {
     "data": {
      "text/html": [
       "Run data is saved locally in <code>C:\\Users\\mkand\\Documents\\Machine_learning\\YOLO\\wandb\\run-20240619_134159-hbg5h06n</code>"
      ],
      "text/plain": [
       "<IPython.core.display.HTML object>"
      ]
     },
     "metadata": {},
     "output_type": "display_data"
    },
    {
     "data": {
      "text/html": [
       "Syncing run <strong><a href='https://wandb.ai/moonbeem/YOLOv8/runs/hbg5h06n' target=\"_blank\">train</a></strong> to <a href='https://wandb.ai/moonbeem/YOLOv8' target=\"_blank\">Weights & Biases</a> (<a href='https://wandb.me/run' target=\"_blank\">docs</a>)<br/>"
      ],
      "text/plain": [
       "<IPython.core.display.HTML object>"
      ]
     },
     "metadata": {},
     "output_type": "display_data"
    },
    {
     "data": {
      "text/html": [
       " View project at <a href='https://wandb.ai/moonbeem/YOLOv8' target=\"_blank\">https://wandb.ai/moonbeem/YOLOv8</a>"
      ],
      "text/plain": [
       "<IPython.core.display.HTML object>"
      ]
     },
     "metadata": {},
     "output_type": "display_data"
    },
    {
     "data": {
      "text/html": [
       " View run at <a href='https://wandb.ai/moonbeem/YOLOv8/runs/hbg5h06n' target=\"_blank\">https://wandb.ai/moonbeem/YOLOv8/runs/hbg5h06n</a>"
      ],
      "text/plain": [
       "<IPython.core.display.HTML object>"
      ]
     },
     "metadata": {},
     "output_type": "display_data"
    },
    {
     "name": "stdout",
     "output_type": "stream",
     "text": [
      "Freezing layer 'model.22.dfl.conv.weight'\n"
     ]
    },
    {
     "name": "stderr",
     "output_type": "stream",
     "text": [
      "train: Scanning C:\\Users\\mkand\\Documents\\YOLO\\datasets\\coco8\\labels\\train...:   0%|          | 0/4 [00:00<?, ?it/s]Scanning C:\\Users\\mkand\\Documents\\YOLO\\datasets\\coco8\\labels\\train... 4 images, 0 backgrounds, 0 corrupt: 100%|█\n"
     ]
    },
    {
     "name": "stdout",
     "output_type": "stream",
     "text": [
      "\u001b[34m\u001b[1mtrain: \u001b[0mNew cache created: C:\\Users\\mkand\\Documents\\YOLO\\datasets\\coco8\\labels\\train.cache\n"
     ]
    },
    {
     "name": "stderr",
     "output_type": "stream",
     "text": [
      "val: Scanning C:\\Users\\mkand\\Documents\\YOLO\\datasets\\coco8\\labels\\val...:   0%|          | 0/4 [00:00<?, ?it/s]Scanning C:\\Users\\mkand\\Documents\\YOLO\\datasets\\coco8\\labels\\val... 4 images, 0 backgrounds, 0 corrupt: 100%|█████\n"
     ]
    },
    {
     "name": "stdout",
     "output_type": "stream",
     "text": [
      "\u001b[34m\u001b[1mval: \u001b[0mNew cache created: C:\\Users\\mkand\\Documents\\YOLO\\datasets\\coco8\\labels\\val.cache\n",
      "Plotting labels to runs\\detect\\train\\labels.jpg... \n",
      "\u001b[34m\u001b[1moptimizer:\u001b[0m 'optimizer=auto' found, ignoring 'lr0=0.01' and 'momentum=0.937' and determining best 'optimizer', 'lr0' and 'momentum' automatically... \n",
      "\u001b[34m\u001b[1moptimizer:\u001b[0m AdamW(lr=0.000119, momentum=0.9) with parameter groups 57 weight(decay=0.0), 64 weight(decay=0.0005), 63 bias(decay=0.0)\n"
     ]
    },
    {
     "name": "stderr",
     "output_type": "stream",
     "text": [
      "2024/06/19 13:42:24 INFO mlflow.tracking.fluent: Experiment with name '/Shared/YOLOv8' does not exist. Creating a new experiment.\n",
      "2024/06/19 13:42:27 INFO mlflow.tracking.fluent: Autologging successfully enabled for sklearn.\n",
      "2024/06/19 13:42:28 INFO mlflow.tracking.fluent: Autologging successfully enabled for transformers.\n",
      "2024/06/19 13:42:29 INFO mlflow.tracking.fluent: Autologging successfully enabled for statsmodels.\n",
      "2024/06/19 13:42:29 WARNING mlflow.utils.autologging_utils: You are using an unsupported version of keras. If you encounter errors during autologging, try upgrading / downgrading keras to a supported version, or try upgrading MLflow.\n",
      "2024/06/19 13:42:29 INFO mlflow.tracking.fluent: Autologging successfully enabled for keras.\n",
      "2024/06/19 13:42:29 WARNING mlflow.tracking.fluent: Exception raised while enabling autologging for tensorflow: cannot import name '_initialize_variables' from 'keras.src.backend' (C:\\Users\\mkand\\anaconda3\\envs\\myenv\\Lib\\site-packages\\keras\\src\\backend\\__init__.py)\n"
     ]
    },
    {
     "name": "stdout",
     "output_type": "stream",
     "text": [
      "\u001b[34m\u001b[1mMLflow: \u001b[0mlogging run_id(d5901a12530747978654eec56dde33dc) to runs\\mlflow\n",
      "\u001b[34m\u001b[1mMLflow: \u001b[0mview at http://127.0.0.1:5000 with 'mlflow server --backend-store-uri runs\\mlflow'\n",
      "\u001b[34m\u001b[1mMLflow: \u001b[0mdisable with 'yolo settings mlflow=False'\n",
      "\u001b[34m\u001b[1mTensorBoard: \u001b[0mmodel graph visualization added \n",
      "Image sizes 640 train, 640 val\n",
      "Using 0 dataloader workers\n",
      "Logging results to \u001b[1mruns\\detect\\train\u001b[0m\n",
      "Starting training for 3 epochs...\n",
      "\n",
      "      Epoch    GPU_mem   box_loss   cls_loss   dfl_loss  Instances       Size\n"
     ]
    },
    {
     "name": "stderr",
     "output_type": "stream",
     "text": [
      "        1/3         0G      1.045      3.215      1.426         33        640: 100%|██████████| 1/1 [00:04<00:00,  4.96\n",
      "                 Class     Images  Instances      Box(P          R      mAP50  mAP50-95): 100%|██████████| 1/1 [00:01<0\n"
     ]
    },
    {
     "name": "stdout",
     "output_type": "stream",
     "text": [
      "                   all          4         17      0.606      0.883      0.888      0.617\n",
      "\n",
      "      Epoch    GPU_mem   box_loss   cls_loss   dfl_loss  Instances       Size\n"
     ]
    },
    {
     "name": "stderr",
     "output_type": "stream",
     "text": [
      "        2/3         0G     0.7028      2.212      1.042         19        640: 100%|██████████| 1/1 [00:04<00:00,  4.62\n",
      "                 Class     Images  Instances      Box(P          R      mAP50  mAP50-95): 100%|██████████| 1/1 [00:01<0\n"
     ]
    },
    {
     "name": "stdout",
     "output_type": "stream",
     "text": [
      "                   all          4         17      0.598      0.887      0.888      0.615\n",
      "\n",
      "      Epoch    GPU_mem   box_loss   cls_loss   dfl_loss  Instances       Size\n"
     ]
    },
    {
     "name": "stderr",
     "output_type": "stream",
     "text": [
      "        3/3         0G      1.483      3.715      1.755         20        640: 100%|██████████| 1/1 [00:04<00:00,  4.26\n",
      "                 Class     Images  Instances      Box(P          R      mAP50  mAP50-95): 100%|██████████| 1/1 [00:01<0\n"
     ]
    },
    {
     "name": "stdout",
     "output_type": "stream",
     "text": [
      "                   all          4         17      0.606       0.87      0.888      0.617\n",
      "\n",
      "3 epochs completed in 0.009 hours.\n",
      "Optimizer stripped from runs\\detect\\train\\weights\\last.pt, 6.5MB\n",
      "Optimizer stripped from runs\\detect\\train\\weights\\best.pt, 6.5MB\n",
      "\n",
      "Validating runs\\detect\\train\\weights\\best.pt...\n",
      "Ultralytics YOLOv8.2.35  Python-3.11.5 torch-2.1.2+cpu CPU (Intel Core(TM) i5-8350U 1.70GHz)\n",
      "Model summary (fused): 168 layers, 3151904 parameters, 0 gradients, 8.7 GFLOPs\n"
     ]
    },
    {
     "name": "stderr",
     "output_type": "stream",
     "text": [
      "                 Class     Images  Instances      Box(P          R      mAP50  mAP50-95): 100%|██████████| 1/1 [00:01<0\n"
     ]
    },
    {
     "name": "stdout",
     "output_type": "stream",
     "text": [
      "                   all          4         17      0.576      0.833      0.874      0.613\n",
      "                person          3         10      0.645        0.5      0.519      0.286\n",
      "                   dog          1          1      0.316          1      0.995      0.597\n",
      "                 horse          1          2      0.678          1      0.995      0.598\n",
      "              elephant          1          2      0.391        0.5      0.745      0.304\n",
      "              umbrella          1          1       0.54          1      0.995      0.995\n",
      "          potted plant          1          1      0.887          1      0.995      0.895\n",
      "Speed: 13.5ms preprocess, 353.9ms inference, 0.0ms loss, 6.1ms postprocess per image\n",
      "Results saved to \u001b[1mruns\\detect\\train\u001b[0m\n",
      "\u001b[34m\u001b[1mMLflow: \u001b[0mresults logged to runs\\mlflow\n",
      "\u001b[34m\u001b[1mMLflow: \u001b[0mdisable with 'yolo settings mlflow=False'\n"
     ]
    },
    {
     "data": {
      "application/vnd.jupyter.widget-view+json": {
       "model_id": "a36abb09a2924f08b36103616ed19fa6",
       "version_major": 2,
       "version_minor": 0
      },
      "text/plain": [
       "VBox(children=(Label(value='10.282 MB of 10.282 MB uploaded\\r'), FloatProgress(value=1.0, max=1.0)))"
      ]
     },
     "metadata": {},
     "output_type": "display_data"
    },
    {
     "data": {
      "text/html": [
       "<style>\n",
       "    table.wandb td:nth-child(1) { padding: 0 10px; text-align: left ; width: auto;} td:nth-child(2) {text-align: left ; width: 100%}\n",
       "    .wandb-row { display: flex; flex-direction: row; flex-wrap: wrap; justify-content: flex-start; width: 100% }\n",
       "    .wandb-col { display: flex; flex-direction: column; flex-basis: 100%; flex: 1; padding: 10px; }\n",
       "    </style>\n",
       "<div class=\"wandb-row\"><div class=\"wandb-col\"><h3>Run history:</h3><br/><table class=\"wandb\"><tr><td>lr/pg0</td><td>▁██</td></tr><tr><td>lr/pg1</td><td>▁██</td></tr><tr><td>lr/pg2</td><td>▁██</td></tr><tr><td>metrics/mAP50(B)</td><td>██▁</td></tr><tr><td>metrics/mAP50-95(B)</td><td>█▅▁</td></tr><tr><td>metrics/precision(B)</td><td>█▆▁</td></tr><tr><td>metrics/recall(B)</td><td>▇█▁</td></tr><tr><td>model/GFLOPs</td><td>▁</td></tr><tr><td>model/parameters</td><td>▁</td></tr><tr><td>model/speed_PyTorch(ms)</td><td>▁</td></tr><tr><td>train/box_loss</td><td>▄▁█</td></tr><tr><td>train/cls_loss</td><td>▆▁█</td></tr><tr><td>train/dfl_loss</td><td>▅▁█</td></tr><tr><td>val/box_loss</td><td>▁▃█</td></tr><tr><td>val/cls_loss</td><td>▁▄█</td></tr><tr><td>val/dfl_loss</td><td>▁▄█</td></tr></table><br/></div><div class=\"wandb-col\"><h3>Run summary:</h3><br/><table class=\"wandb\"><tr><td>lr/pg0</td><td>0.0</td></tr><tr><td>lr/pg1</td><td>0.0</td></tr><tr><td>lr/pg2</td><td>0.0</td></tr><tr><td>metrics/mAP50(B)</td><td>0.87405</td></tr><tr><td>metrics/mAP50-95(B)</td><td>0.61264</td></tr><tr><td>metrics/precision(B)</td><td>0.57626</td></tr><tr><td>metrics/recall(B)</td><td>0.83333</td></tr><tr><td>model/GFLOPs</td><td>8.858</td></tr><tr><td>model/parameters</td><td>3157200</td></tr><tr><td>model/speed_PyTorch(ms)</td><td>302.265</td></tr><tr><td>train/box_loss</td><td>1.48323</td></tr><tr><td>train/cls_loss</td><td>3.71541</td></tr><tr><td>train/dfl_loss</td><td>1.7546</td></tr><tr><td>val/box_loss</td><td>1.41946</td></tr><tr><td>val/cls_loss</td><td>1.37853</td></tr><tr><td>val/dfl_loss</td><td>1.26261</td></tr></table><br/></div></div>"
      ],
      "text/plain": [
       "<IPython.core.display.HTML object>"
      ]
     },
     "metadata": {},
     "output_type": "display_data"
    },
    {
     "data": {
      "text/html": [
       " View run <strong style=\"color:#cdcd00\">train</strong> at: <a href='https://wandb.ai/moonbeem/YOLOv8/runs/hbg5h06n' target=\"_blank\">https://wandb.ai/moonbeem/YOLOv8/runs/hbg5h06n</a><br/> View project at: <a href='https://wandb.ai/moonbeem/YOLOv8' target=\"_blank\">https://wandb.ai/moonbeem/YOLOv8</a><br/>Synced 5 W&B file(s), 17 media file(s), 5 artifact file(s) and 0 other file(s)"
      ],
      "text/plain": [
       "<IPython.core.display.HTML object>"
      ]
     },
     "metadata": {},
     "output_type": "display_data"
    },
    {
     "data": {
      "text/html": [
       "Find logs at: <code>.\\wandb\\run-20240619_134159-hbg5h06n\\logs</code>"
      ],
      "text/plain": [
       "<IPython.core.display.HTML object>"
      ]
     },
     "metadata": {},
     "output_type": "display_data"
    }
   ],
   "source": [
    "# train model using coco.yaml\n",
    "results = model.train(data=\"coco8.yaml\", epochs = 3)"
   ]
  },
  {
   "cell_type": "code",
   "execution_count": 6,
   "id": "79518ba5",
   "metadata": {},
   "outputs": [
    {
     "name": "stdout",
     "output_type": "stream",
     "text": [
      "Ultralytics YOLOv8.2.35  Python-3.11.5 torch-2.1.2+cpu CPU (Intel Core(TM) i5-8350U 1.70GHz)\n",
      "Model summary (fused): 168 layers, 3151904 parameters, 0 gradients, 8.7 GFLOPs\n"
     ]
    },
    {
     "name": "stderr",
     "output_type": "stream",
     "text": [
      "val: Scanning C:\\Users\\mkand\\Documents\\YOLO\\datasets\\coco8\\labels\\val.cache... 4 images, 0 backgrounds, 0 corrupt: 100%Scanning C:\\Users\\mkand\\Documents\\YOLO\\datasets\\coco8\\labels\\val.cache... 4 images, 0 backgrounds, 0 corrupt: 100%\n",
      "                 Class     Images  Instances      Box(P          R      mAP50  mAP50-95): 100%|██████████| 1/1 [00:01<0\n"
     ]
    },
    {
     "name": "stdout",
     "output_type": "stream",
     "text": [
      "                   all          4         17      0.576      0.833      0.874      0.613\n",
      "                person          3         10      0.645        0.5      0.519      0.286\n",
      "                   dog          1          1      0.316          1      0.995      0.597\n",
      "                 horse          1          2      0.678          1      0.995      0.598\n",
      "              elephant          1          2      0.391        0.5      0.745      0.304\n",
      "              umbrella          1          1       0.54          1      0.995      0.995\n",
      "          potted plant          1          1      0.887          1      0.995      0.895\n",
      "Speed: 5.3ms preprocess, 281.9ms inference, 0.0ms loss, 3.9ms postprocess per image\n",
      "Results saved to \u001b[1mruns\\detect\\train2\u001b[0m\n"
     ]
    }
   ],
   "source": [
    "# evaluate model performace\n",
    "results = model.val()"
   ]
  },
  {
   "cell_type": "code",
   "execution_count": 9,
   "id": "10585801",
   "metadata": {},
   "outputs": [
    {
     "name": "stdout",
     "output_type": "stream",
     "text": [
      "\n",
      "Found https://ultralytics.com/images/bus.jpg locally at bus.jpg\n",
      "image 1/1 C:\\Users\\mkand\\Documents\\Machine_learning\\YOLO\\bus.jpg: 640x480 4 persons, 1 bus, 1 stop sign, 188.2ms\n",
      "Speed: 7.3ms preprocess, 188.2ms inference, 0.0ms postprocess per image at shape (1, 3, 640, 480)\n",
      "[ultralytics.engine.results.Results object with attributes:\n",
      "\n",
      "boxes: ultralytics.engine.results.Boxes object\n",
      "keypoints: None\n",
      "masks: None\n",
      "names: {0: 'person', 1: 'bicycle', 2: 'car', 3: 'motorcycle', 4: 'airplane', 5: 'bus', 6: 'train', 7: 'truck', 8: 'boat', 9: 'traffic light', 10: 'fire hydrant', 11: 'stop sign', 12: 'parking meter', 13: 'bench', 14: 'bird', 15: 'cat', 16: 'dog', 17: 'horse', 18: 'sheep', 19: 'cow', 20: 'elephant', 21: 'bear', 22: 'zebra', 23: 'giraffe', 24: 'backpack', 25: 'umbrella', 26: 'handbag', 27: 'tie', 28: 'suitcase', 29: 'frisbee', 30: 'skis', 31: 'snowboard', 32: 'sports ball', 33: 'kite', 34: 'baseball bat', 35: 'baseball glove', 36: 'skateboard', 37: 'surfboard', 38: 'tennis racket', 39: 'bottle', 40: 'wine glass', 41: 'cup', 42: 'fork', 43: 'knife', 44: 'spoon', 45: 'bowl', 46: 'banana', 47: 'apple', 48: 'sandwich', 49: 'orange', 50: 'broccoli', 51: 'carrot', 52: 'hot dog', 53: 'pizza', 54: 'donut', 55: 'cake', 56: 'chair', 57: 'couch', 58: 'potted plant', 59: 'bed', 60: 'dining table', 61: 'toilet', 62: 'tv', 63: 'laptop', 64: 'mouse', 65: 'remote', 66: 'keyboard', 67: 'cell phone', 68: 'microwave', 69: 'oven', 70: 'toaster', 71: 'sink', 72: 'refrigerator', 73: 'book', 74: 'clock', 75: 'vase', 76: 'scissors', 77: 'teddy bear', 78: 'hair drier', 79: 'toothbrush'}\n",
      "obb: None\n",
      "orig_img: array([[[122, 148, 172],\n",
      "        [120, 146, 170],\n",
      "        [125, 153, 177],\n",
      "        ...,\n",
      "        [157, 170, 184],\n",
      "        [158, 171, 185],\n",
      "        [158, 171, 185]],\n",
      "\n",
      "       [[127, 153, 177],\n",
      "        [124, 150, 174],\n",
      "        [127, 155, 179],\n",
      "        ...,\n",
      "        [158, 171, 185],\n",
      "        [159, 172, 186],\n",
      "        [159, 172, 186]],\n",
      "\n",
      "       [[128, 154, 178],\n",
      "        [126, 152, 176],\n",
      "        [126, 154, 178],\n",
      "        ...,\n",
      "        [158, 171, 185],\n",
      "        [158, 171, 185],\n",
      "        [158, 171, 185]],\n",
      "\n",
      "       ...,\n",
      "\n",
      "       [[185, 185, 191],\n",
      "        [182, 182, 188],\n",
      "        [179, 179, 185],\n",
      "        ...,\n",
      "        [114, 107, 112],\n",
      "        [115, 105, 111],\n",
      "        [116, 106, 112]],\n",
      "\n",
      "       [[157, 157, 163],\n",
      "        [180, 180, 186],\n",
      "        [185, 186, 190],\n",
      "        ...,\n",
      "        [107,  97, 103],\n",
      "        [102,  92,  98],\n",
      "        [108,  98, 104]],\n",
      "\n",
      "       [[112, 112, 118],\n",
      "        [160, 160, 166],\n",
      "        [169, 170, 174],\n",
      "        ...,\n",
      "        [ 99,  89,  95],\n",
      "        [ 96,  86,  92],\n",
      "        [102,  92,  98]]], dtype=uint8)\n",
      "orig_shape: (1080, 810)\n",
      "path: 'C:\\\\Users\\\\mkand\\\\Documents\\\\Machine_learning\\\\YOLO\\\\bus.jpg'\n",
      "probs: None\n",
      "save_dir: 'runs\\\\detect\\\\train3'\n",
      "speed: {'preprocess': 7.295846939086914, 'inference': 188.21954727172852, 'postprocess': 0.0}]\n"
     ]
    }
   ],
   "source": [
    "# perform object detection on object\n",
    "results = model(\"https://ultralytics.com/images/bus.jpg\")\n",
    "print(results)"
   ]
  },
  {
   "cell_type": "code",
   "execution_count": 11,
   "id": "803569e7",
   "metadata": {},
   "outputs": [
    {
     "name": "stdout",
     "output_type": "stream",
     "text": [
      "Ultralytics YOLOv8.2.35  Python-3.11.5 torch-2.1.2+cpu CPU (Intel Core(TM) i5-8350U 1.70GHz)\n",
      "\n",
      "\u001b[34m\u001b[1mPyTorch:\u001b[0m starting from 'runs\\detect\\train\\weights\\best.pt' with input shape (1, 3, 640, 640) BCHW and output shape(s) (1, 84, 8400) (6.2 MB)\n",
      "\n",
      "\u001b[34m\u001b[1mONNX:\u001b[0m starting export with onnx 1.16.0 opset 17...\n",
      "\u001b[34m\u001b[1mONNX:\u001b[0m export success  1.4s, saved as 'runs\\detect\\train\\weights\\best.onnx' (12.2 MB)\n",
      "\n",
      "Export complete (3.6s)\n",
      "Results saved to \u001b[1mC:\\Users\\mkand\\Documents\\Machine_learning\\YOLO\\runs\\detect\\train\\weights\u001b[0m\n",
      "Predict:         yolo predict task=detect model=runs\\detect\\train\\weights\\best.onnx imgsz=640  \n",
      "Validate:        yolo val task=detect model=runs\\detect\\train\\weights\\best.onnx imgsz=640 data=C:\\Users\\mkand\\anaconda3\\envs\\myenv\\Lib\\site-packages\\ultralytics\\cfg\\datasets\\coco8.yaml  \n",
      "Visualize:       https://netron.app\n"
     ]
    },
    {
     "data": {
      "text/plain": [
       "'runs\\\\detect\\\\train\\\\weights\\\\best.onnx'"
      ]
     },
     "execution_count": 11,
     "metadata": {},
     "output_type": "execute_result"
    }
   ],
   "source": [
    "# Export the model to ONNX format\n",
    "success = model.export(format=\"onnx\")\n",
    "success"
   ]
  },
  {
   "cell_type": "code",
   "execution_count": null,
   "id": "26a18d09",
   "metadata": {},
   "outputs": [],
   "source": []
  }
 ],
 "metadata": {
  "kernelspec": {
   "display_name": "myenv",
   "language": "python",
   "name": "myenv"
  },
  "language_info": {
   "codemirror_mode": {
    "name": "ipython",
    "version": 3
   },
   "file_extension": ".py",
   "mimetype": "text/x-python",
   "name": "python",
   "nbconvert_exporter": "python",
   "pygments_lexer": "ipython3",
   "version": "3.11.5"
  }
 },
 "nbformat": 4,
 "nbformat_minor": 5
}

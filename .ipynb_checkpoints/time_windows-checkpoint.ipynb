{
 "cells": [
  {
   "cell_type": "markdown",
   "id": "1b9cca36",
   "metadata": {},
   "source": [
    "### Setup"
   ]
  },
  {
   "cell_type": "code",
   "execution_count": 21,
   "id": "18cda86b",
   "metadata": {},
   "outputs": [],
   "source": [
    "import tensorflow  as tf\n",
    "# tf.enable_v2_behavior()"
   ]
  },
  {
   "cell_type": "markdown",
   "id": "7c2b91c2",
   "metadata": {},
   "source": [
    "### Time windows"
   ]
  },
  {
   "cell_type": "code",
   "execution_count": 22,
   "id": "d00bf33e",
   "metadata": {},
   "outputs": [
    {
     "name": "stdout",
     "output_type": "stream",
     "text": [
      "0\ttf.Tensor(0, shape=(), dtype=int64)\n",
      "1\ttf.Tensor(1, shape=(), dtype=int64)\n",
      "2\ttf.Tensor(2, shape=(), dtype=int64)\n",
      "3\ttf.Tensor(3, shape=(), dtype=int64)\n",
      "4\ttf.Tensor(4, shape=(), dtype=int64)\n",
      "5\ttf.Tensor(5, shape=(), dtype=int64)\n",
      "6\ttf.Tensor(6, shape=(), dtype=int64)\n",
      "7\ttf.Tensor(7, shape=(), dtype=int64)\n",
      "8\ttf.Tensor(8, shape=(), dtype=int64)\n",
      "9\ttf.Tensor(9, shape=(), dtype=int64)\n"
     ]
    }
   ],
   "source": [
    "dataset = tf.data.Dataset.range(10)\n",
    "for data in dataset:\n",
    "    print(data.numpy(), end = \"\\t\")\n",
    "    print(data)"
   ]
  },
  {
   "cell_type": "code",
   "execution_count": 31,
   "id": "bb17b038",
   "metadata": {},
   "outputs": [
    {
     "name": "stdout",
     "output_type": "stream",
     "text": [
      "0 1 2 3 4 \n",
      "1 2 3 4 5 \n",
      "2 3 4 5 6 \n",
      "3 4 5 6 7 \n",
      "4 5 6 7 8 \n",
      "5 6 7 8 9 \n",
      "6 7 8 9 \n",
      "7 8 9 \n",
      "8 9 \n",
      "9 \n"
     ]
    },
    {
     "name": "stderr",
     "output_type": "stream",
     "text": [
      "2024-03-02 10:40:17.335831: W tensorflow/core/framework/dataset.cc:956] Input of Window will not be optimized because the dataset does not implement the AsGraphDefInternal() method needed to apply optimizations.\n"
     ]
    }
   ],
   "source": [
    "dataset = tf.data.Dataset.range(10)\n",
    "# dataset = dataset.window(3, shift = 2)\n",
    "dataset = dataset.window(5, shift = 1)\n",
    "\n",
    "for window_data in dataset:\n",
    "    for val in window_data:\n",
    "        print(val.numpy(), end = \" \")\n",
    "    print()"
   ]
  },
  {
   "cell_type": "code",
   "execution_count": 38,
   "id": "2181f3af",
   "metadata": {},
   "outputs": [
    {
     "name": "stdout",
     "output_type": "stream",
     "text": [
      "0 1 2 3 4 \n",
      "1 2 3 4 5 \n",
      "2 3 4 5 6 \n",
      "3 4 5 6 7 \n",
      "4 5 6 7 8 \n",
      "5 6 7 8 9 \n"
     ]
    },
    {
     "name": "stderr",
     "output_type": "stream",
     "text": [
      "2024-03-02 10:44:03.737718: W tensorflow/core/data/root_dataset.cc:286] Optimization loop failed: CANCELLED: Operation was cancelled\n",
      "2024-03-02 10:44:03.749811: W tensorflow/core/data/root_dataset.cc:286] Optimization loop failed: CANCELLED: Operation was cancelled\n"
     ]
    }
   ],
   "source": [
    "dataset = tf.data.Dataset.range(10)\n",
    "dataset = dataset.window(5, shift = 1, drop_remainder = True)\n",
    "for dataset_window in dataset:\n",
    "    for data in dataset_window:\n",
    "        print(data.numpy(), end = \" \")\n",
    "    print()"
   ]
  },
  {
   "cell_type": "code",
   "execution_count": null,
   "id": "9ead581c",
   "metadata": {},
   "outputs": [],
   "source": []
  }
 ],
 "metadata": {
  "kernelspec": {
   "display_name": "My Virtual Environment",
   "language": "python",
   "name": "myenv"
  },
  "language_info": {
   "codemirror_mode": {
    "name": "ipython",
    "version": 3
   },
   "file_extension": ".py",
   "mimetype": "text/x-python",
   "name": "python",
   "nbconvert_exporter": "python",
   "pygments_lexer": "ipython3",
   "version": "3.11.4"
  }
 },
 "nbformat": 4,
 "nbformat_minor": 5
}
